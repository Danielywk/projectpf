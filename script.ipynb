{
 "cells": [
  {
   "cell_type": "code",
   "execution_count": 480,
   "metadata": {
    "collapsed": true,
    "ExecuteTime": {
     "end_time": "2024-03-12T23:11:12.749658Z",
     "start_time": "2024-03-12T23:11:12.661398Z"
    }
   },
   "outputs": [],
   "source": [
    "# librerias\n",
    "import pandas as pd\n",
    "from datetime import datetime\n",
    "from datetime import timedelta"
   ]
  },
  {
   "cell_type": "code",
   "execution_count": 481,
   "outputs": [],
   "source": [
    "datos = pd.read_excel(\"recursos/pruebas.xlsm\")"
   ],
   "metadata": {
    "collapsed": false,
    "ExecuteTime": {
     "end_time": "2024-03-12T23:11:12.806162Z",
     "start_time": "2024-03-12T23:11:12.671552Z"
    }
   }
  },
  {
   "cell_type": "code",
   "execution_count": 482,
   "outputs": [
    {
     "name": "stdout",
     "output_type": "stream",
     "text": [
      "       Unnamed: 0 Unnamed: 1 Unnamed: 2    Unnamed: 3  Unnamed: 4  \\\n",
      "0             NaN        NaN        NaN           NaN         NaN   \n",
      "1  ID de Empleado     Nombre   Apellido  Departamento       Fecha   \n",
      "2           R-880        AAA    SEGUNDO     MANGUERAS  01-08-2023   \n",
      "3           R-880        AAA    SEGUNDO     MANGUERAS  02-08-2023   \n",
      "4           R-880        AAA    SEGUNDO     MANGUERAS  03-08-2023   \n",
      "\n",
      "             Unnamed: 5                                         Unnamed: 6  \\\n",
      "0                   NaN                                                NaN   \n",
      "1  Cantidad de Checadas                                               Hora   \n",
      "2                    36  10:05:06,10:05:08,10:05:10,08:57:37,18:20:28,1...   \n",
      "3                    33  17:30:01,14:11:32,18:09:19,12:02:07,10:07:24,1...   \n",
      "4                    45  16:00:24,15:06:38,15:08:15,15:08:17,16:00:20,1...   \n",
      "\n",
      "   Unnamed: 7 Unnamed: 8 Unnamed: 9  ... Unnamed: 43 Unnamed: 44 Unnamed: 45  \\\n",
      "0         NaN        NaN        NaN  ...         NaN         NaN         NaN   \n",
      "1         NaN       Hora        NaN  ...         NaN         NaN         NaN   \n",
      "2         NaN   10:05:06   10:05:08  ...    08:57:39         NaN         NaN   \n",
      "3         NaN   17:30:01   14:11:32  ...         NaN         NaN         NaN   \n",
      "4         NaN   16:00:24   15:06:38  ...    13:01:55    13:01:57    13:12:00   \n",
      "\n",
      "  Unnamed: 46 Unnamed: 47 Unnamed: 48 Unnamed: 49 Unnamed: 50 Unnamed: 51  \\\n",
      "0         NaN         NaN         NaN         NaN         NaN         NaN   \n",
      "1         NaN         NaN         NaN         NaN         NaN         NaN   \n",
      "2         NaN         NaN         NaN         NaN         NaN         NaN   \n",
      "3         NaN         NaN         NaN         NaN         NaN         NaN   \n",
      "4    13:12:02    13:11:57    13:12:04    14:04:27    14:04:29    14:04:31   \n",
      "\n",
      "  Unnamed: 52  \n",
      "0         NaN  \n",
      "1         NaN  \n",
      "2         NaN  \n",
      "3         NaN  \n",
      "4    14:04:33  \n",
      "\n",
      "[5 rows x 53 columns]\n"
     ]
    }
   ],
   "source": [
    "print(datos.head())"
   ],
   "metadata": {
    "collapsed": false,
    "ExecuteTime": {
     "end_time": "2024-03-12T23:11:12.872211Z",
     "start_time": "2024-03-12T23:11:12.806924Z"
    }
   }
  },
  {
   "cell_type": "markdown",
   "source": [],
   "metadata": {
    "collapsed": false
   }
  },
  {
   "cell_type": "code",
   "execution_count": 483,
   "outputs": [
    {
     "name": "stdout",
     "output_type": "stream",
     "text": [
      "         Unnamed: 0 Unnamed: 1 Unnamed: 2    Unnamed: 3  Unnamed: 4  \\\n",
      "1    ID de Empleado     Nombre   Apellido  Departamento       Fecha   \n",
      "2             R-880        AAA    SEGUNDO     MANGUERAS  01-08-2023   \n",
      "3             R-880        AAA    SEGUNDO     MANGUERAS  02-08-2023   \n",
      "4             R-880        AAA    SEGUNDO     MANGUERAS  03-08-2023   \n",
      "5             R-880        AAA    SEGUNDO     MANGUERAS  04-08-2023   \n",
      "..              ...        ...        ...           ...         ...   \n",
      "113          P-4699        AAA       RILH         ADMON  02-08-2023   \n",
      "114          P-4699        AAA       RILH         ADMON  07-08-2023   \n",
      "115          P-4699        AAA       RILH         ADMON  08-08-2023   \n",
      "116          P-4699        AAA       RILH         ADMON  09-08-2023   \n",
      "117          P-4699        AAA       RILH         ADMON  14-08-2023   \n",
      "\n",
      "               Unnamed: 5                                         Unnamed: 6  \\\n",
      "1    Cantidad de Checadas                                               Hora   \n",
      "2                      36  10:05:06,10:05:08,10:05:10,08:57:37,18:20:28,1...   \n",
      "3                      33  17:30:01,14:11:32,18:09:19,12:02:07,10:07:24,1...   \n",
      "4                      45  16:00:24,15:06:38,15:08:15,15:08:17,16:00:20,1...   \n",
      "5                      16  18:03:31,16:23:10,18:03:29,18:04:09,15:05:06,1...   \n",
      "..                    ...                                                ...   \n",
      "113                     8  08:35:50,08:35:46,11:00:57,10:08:27,10:08:29,1...   \n",
      "114                     6  10:09:25,10:09:23,14:00:57,09:09:38,09:09:36,1...   \n",
      "115                     8  10:04:06,10:04:08,14:00:14,12:01:27,12:01:29,1...   \n",
      "116                     6  10:00:11,11:00:33,10:00:13,09:22:01,11:00:35,0...   \n",
      "117                     8  10:02:09,08:54:06,12:00:03,14:02:43,08:54:08,1...   \n",
      "\n",
      "     Unnamed: 7 Unnamed: 8 Unnamed: 9  ... Unnamed: 43 Unnamed: 44  \\\n",
      "1           NaN       Hora        NaN  ...         NaN         NaN   \n",
      "2           NaN   10:05:06   10:05:08  ...    08:57:39         NaN   \n",
      "3           NaN   17:30:01   14:11:32  ...         NaN         NaN   \n",
      "4           NaN   16:00:24   15:06:38  ...    13:01:55    13:01:57   \n",
      "5           NaN   18:03:31   16:23:10  ...         NaN         NaN   \n",
      "..          ...        ...        ...  ...         ...         ...   \n",
      "113         NaN   08:35:50   08:35:46  ...         NaN         NaN   \n",
      "114         NaN   10:09:25   10:09:23  ...         NaN         NaN   \n",
      "115         NaN   10:04:06   10:04:08  ...         NaN         NaN   \n",
      "116         NaN   10:00:11   11:00:33  ...         NaN         NaN   \n",
      "117         NaN   10:02:09   08:54:06  ...         NaN         NaN   \n",
      "\n",
      "    Unnamed: 45 Unnamed: 46 Unnamed: 47 Unnamed: 48 Unnamed: 49 Unnamed: 50  \\\n",
      "1           NaN         NaN         NaN         NaN         NaN         NaN   \n",
      "2           NaN         NaN         NaN         NaN         NaN         NaN   \n",
      "3           NaN         NaN         NaN         NaN         NaN         NaN   \n",
      "4      13:12:00    13:12:02    13:11:57    13:12:04    14:04:27    14:04:29   \n",
      "5           NaN         NaN         NaN         NaN         NaN         NaN   \n",
      "..          ...         ...         ...         ...         ...         ...   \n",
      "113         NaN         NaN         NaN         NaN         NaN         NaN   \n",
      "114         NaN         NaN         NaN         NaN         NaN         NaN   \n",
      "115         NaN         NaN         NaN         NaN         NaN         NaN   \n",
      "116         NaN         NaN         NaN         NaN         NaN         NaN   \n",
      "117         NaN         NaN         NaN         NaN         NaN         NaN   \n",
      "\n",
      "    Unnamed: 51 Unnamed: 52  \n",
      "1           NaN         NaN  \n",
      "2           NaN         NaN  \n",
      "3           NaN         NaN  \n",
      "4      14:04:31    14:04:33  \n",
      "5           NaN         NaN  \n",
      "..          ...         ...  \n",
      "113         NaN         NaN  \n",
      "114         NaN         NaN  \n",
      "115         NaN         NaN  \n",
      "116         NaN         NaN  \n",
      "117         NaN         NaN  \n",
      "\n",
      "[117 rows x 53 columns]\n"
     ]
    }
   ],
   "source": [
    "datos = datos.drop(datos.index[0])\n",
    "print(datos)"
   ],
   "metadata": {
    "collapsed": false,
    "ExecuteTime": {
     "end_time": "2024-03-12T23:11:12.882839Z",
     "start_time": "2024-03-12T23:11:12.835300Z"
    }
   }
  },
  {
   "cell_type": "code",
   "execution_count": 484,
   "outputs": [
    {
     "name": "stdout",
     "output_type": "stream",
     "text": [
      "1   ID de Empleado Nombre Apellido Departamento       Fecha  \\\n",
      "0            R-880    AAA  SEGUNDO    MANGUERAS  01-08-2023   \n",
      "1            R-880    AAA  SEGUNDO    MANGUERAS  02-08-2023   \n",
      "2            R-880    AAA  SEGUNDO    MANGUERAS  03-08-2023   \n",
      "3            R-880    AAA  SEGUNDO    MANGUERAS  04-08-2023   \n",
      "4            R-880    AAA  SEGUNDO    MANGUERAS  07-08-2023   \n",
      "..             ...    ...      ...          ...         ...   \n",
      "111         P-4699    AAA     RILH        ADMON  02-08-2023   \n",
      "112         P-4699    AAA     RILH        ADMON  07-08-2023   \n",
      "113         P-4699    AAA     RILH        ADMON  08-08-2023   \n",
      "114         P-4699    AAA     RILH        ADMON  09-08-2023   \n",
      "115         P-4699    AAA     RILH        ADMON  14-08-2023   \n",
      "\n",
      "1   Cantidad de Checadas                                               Hora  \\\n",
      "0                     36  10:05:06,10:05:08,10:05:10,08:57:37,18:20:28,1...   \n",
      "1                     33  17:30:01,14:11:32,18:09:19,12:02:07,10:07:24,1...   \n",
      "2                     45  16:00:24,15:06:38,15:08:15,15:08:17,16:00:20,1...   \n",
      "3                     16  18:03:31,16:23:10,18:03:29,18:04:09,15:05:06,1...   \n",
      "4                     23  10:04:03,10:02:40,14:08:31,14:06:38,10:02:38,0...   \n",
      "..                   ...                                                ...   \n",
      "111                    8  08:35:50,08:35:46,11:00:57,10:08:27,10:08:29,1...   \n",
      "112                    6  10:09:25,10:09:23,14:00:57,09:09:38,09:09:36,1...   \n",
      "113                    8  10:04:06,10:04:08,14:00:14,12:01:27,12:01:29,1...   \n",
      "114                    6  10:00:11,11:00:33,10:00:13,09:22:01,11:00:35,0...   \n",
      "115                    8  10:02:09,08:54:06,12:00:03,14:02:43,08:54:08,1...   \n",
      "\n",
      "1   NaN      Hora       NaN  ...       NaN       NaN       NaN       NaN  \\\n",
      "0   NaN  10:05:06  10:05:08  ...  08:57:39       NaN       NaN       NaN   \n",
      "1   NaN  17:30:01  14:11:32  ...       NaN       NaN       NaN       NaN   \n",
      "2   NaN  16:00:24  15:06:38  ...  13:01:55  13:01:57  13:12:00  13:12:02   \n",
      "3   NaN  18:03:31  16:23:10  ...       NaN       NaN       NaN       NaN   \n",
      "4   NaN  10:04:03  10:02:40  ...       NaN       NaN       NaN       NaN   \n",
      "..   ..       ...       ...  ...       ...       ...       ...       ...   \n",
      "111 NaN  08:35:50  08:35:46  ...       NaN       NaN       NaN       NaN   \n",
      "112 NaN  10:09:25  10:09:23  ...       NaN       NaN       NaN       NaN   \n",
      "113 NaN  10:04:06  10:04:08  ...       NaN       NaN       NaN       NaN   \n",
      "114 NaN  10:00:11  11:00:33  ...       NaN       NaN       NaN       NaN   \n",
      "115 NaN  10:02:09  08:54:06  ...       NaN       NaN       NaN       NaN   \n",
      "\n",
      "1         NaN       NaN       NaN       NaN       NaN       NaN  \n",
      "0         NaN       NaN       NaN       NaN       NaN       NaN  \n",
      "1         NaN       NaN       NaN       NaN       NaN       NaN  \n",
      "2    13:11:57  13:12:04  14:04:27  14:04:29  14:04:31  14:04:33  \n",
      "3         NaN       NaN       NaN       NaN       NaN       NaN  \n",
      "4         NaN       NaN       NaN       NaN       NaN       NaN  \n",
      "..        ...       ...       ...       ...       ...       ...  \n",
      "111       NaN       NaN       NaN       NaN       NaN       NaN  \n",
      "112       NaN       NaN       NaN       NaN       NaN       NaN  \n",
      "113       NaN       NaN       NaN       NaN       NaN       NaN  \n",
      "114       NaN       NaN       NaN       NaN       NaN       NaN  \n",
      "115       NaN       NaN       NaN       NaN       NaN       NaN  \n",
      "\n",
      "[116 rows x 53 columns]\n"
     ]
    }
   ],
   "source": [
    "# Definir la segunda fila como el encabezado\n",
    "datos.columns = datos.iloc[0]\n",
    "\n",
    "# Eliminar la segunda fila del DataFrame\n",
    "datos = datos.drop(datos.index[0])\n",
    "\n",
    "# Reiniciar el índice del DataFrame\n",
    "datos = datos.reset_index(drop=True)\n",
    "# Imprimir el DataFrame con el nuevo encabezado\n",
    "print(datos)"
   ],
   "metadata": {
    "collapsed": false,
    "ExecuteTime": {
     "end_time": "2024-03-12T23:11:12.894033Z",
     "start_time": "2024-03-12T23:11:12.872823Z"
    }
   }
  },
  {
   "cell_type": "code",
   "execution_count": 485,
   "outputs": [
    {
     "name": "stdout",
     "output_type": "stream",
     "text": [
      "Valores faltantes por columna:\n",
      "1\n",
      "ID de Empleado            0\n",
      "Nombre                    0\n",
      "Apellido                  0\n",
      "Departamento              0\n",
      "Fecha                     0\n",
      "Cantidad de Checadas      0\n",
      "Hora                      0\n",
      "NaN                     116\n",
      "Hora                      0\n",
      "NaN                       0\n",
      "NaN                       2\n",
      "NaN                       2\n",
      "NaN                      10\n",
      "NaN                      13\n",
      "NaN                      20\n",
      "NaN                      29\n",
      "NaN                      38\n",
      "NaN                      40\n",
      "NaN                      57\n",
      "NaN                      63\n",
      "NaN                      74\n",
      "NaN                      76\n",
      "NaN                      83\n",
      "NaN                      88\n",
      "NaN                      91\n",
      "NaN                      93\n",
      "NaN                      96\n",
      "NaN                      96\n",
      "NaN                     100\n",
      "NaN                     101\n",
      "NaN                     102\n",
      "NaN                     103\n",
      "NaN                     107\n",
      "NaN                     107\n",
      "NaN                     108\n",
      "NaN                     109\n",
      "NaN                     109\n",
      "NaN                     109\n",
      "NaN                     109\n",
      "NaN                     110\n",
      "NaN                     111\n",
      "NaN                     113\n",
      "NaN                     114\n",
      "NaN                     114\n",
      "NaN                     115\n",
      "NaN                     115\n",
      "NaN                     115\n",
      "NaN                     115\n",
      "NaN                     115\n",
      "NaN                     115\n",
      "NaN                     115\n",
      "NaN                     115\n",
      "NaN                     115\n",
      "dtype: int64\n"
     ]
    }
   ],
   "source": [
    "# Identificar los valores faltantes (NA)\n",
    "valores_faltantes = datos.isna().sum()\n",
    "\n",
    "# Mostrar los valores faltantes\n",
    "print(\"Valores faltantes por columna:\")\n",
    "print(valores_faltantes)"
   ],
   "metadata": {
    "collapsed": false,
    "ExecuteTime": {
     "end_time": "2024-03-12T23:11:12.956016Z",
     "start_time": "2024-03-12T23:11:12.901407Z"
    }
   }
  },
  {
   "cell_type": "code",
   "execution_count": 486,
   "outputs": [
    {
     "name": "stdout",
     "output_type": "stream",
     "text": [
      "RangeIndex(start=0, stop=116, step=1)\n"
     ]
    }
   ],
   "source": [
    "print(datos.index)"
   ],
   "metadata": {
    "collapsed": false,
    "ExecuteTime": {
     "end_time": "2024-03-12T23:11:12.957343Z",
     "start_time": "2024-03-12T23:11:12.916321Z"
    }
   }
  },
  {
   "cell_type": "code",
   "execution_count": 487,
   "outputs": [
    {
     "data": {
      "text/plain": "1   ID de Empleado Nombre Apellido Departamento       Fecha  \\\n0            R-880    AAA  SEGUNDO    MANGUERAS  01-08-2023   \n1            R-880    AAA  SEGUNDO    MANGUERAS  02-08-2023   \n2            R-880    AAA  SEGUNDO    MANGUERAS  03-08-2023   \n3            R-880    AAA  SEGUNDO    MANGUERAS  04-08-2023   \n4            R-880    AAA  SEGUNDO    MANGUERAS  07-08-2023   \n..             ...    ...      ...          ...         ...   \n111         P-4699    AAA     RILH        ADMON  02-08-2023   \n112         P-4699    AAA     RILH        ADMON  07-08-2023   \n113         P-4699    AAA     RILH        ADMON  08-08-2023   \n114         P-4699    AAA     RILH        ADMON  09-08-2023   \n115         P-4699    AAA     RILH        ADMON  14-08-2023   \n\n1   Cantidad de Checadas                                               Hora  \\\n0                     36  10:05:06,10:05:08,10:05:10,08:57:37,18:20:28,1...   \n1                     33  17:30:01,14:11:32,18:09:19,12:02:07,10:07:24,1...   \n2                     45  16:00:24,15:06:38,15:08:15,15:08:17,16:00:20,1...   \n3                     16  18:03:31,16:23:10,18:03:29,18:04:09,15:05:06,1...   \n4                     23  10:04:03,10:02:40,14:08:31,14:06:38,10:02:38,0...   \n..                   ...                                                ...   \n111                    8  08:35:50,08:35:46,11:00:57,10:08:27,10:08:29,1...   \n112                    6  10:09:25,10:09:23,14:00:57,09:09:38,09:09:36,1...   \n113                    8  10:04:06,10:04:08,14:00:14,12:01:27,12:01:29,1...   \n114                    6  10:00:11,11:00:33,10:00:13,09:22:01,11:00:35,0...   \n115                    8  10:02:09,08:54:06,12:00:03,14:02:43,08:54:08,1...   \n\n1   NaN      Hora       NaN  ...       NaN       NaN       NaN       NaN  \\\n0   NaN  10:05:06  10:05:08  ...  08:57:39       NaN       NaN       NaN   \n1   NaN  17:30:01  14:11:32  ...       NaN       NaN       NaN       NaN   \n2   NaN  16:00:24  15:06:38  ...  13:01:55  13:01:57  13:12:00  13:12:02   \n3   NaN  18:03:31  16:23:10  ...       NaN       NaN       NaN       NaN   \n4   NaN  10:04:03  10:02:40  ...       NaN       NaN       NaN       NaN   \n..   ..       ...       ...  ...       ...       ...       ...       ...   \n111 NaN  08:35:50  08:35:46  ...       NaN       NaN       NaN       NaN   \n112 NaN  10:09:25  10:09:23  ...       NaN       NaN       NaN       NaN   \n113 NaN  10:04:06  10:04:08  ...       NaN       NaN       NaN       NaN   \n114 NaN  10:00:11  11:00:33  ...       NaN       NaN       NaN       NaN   \n115 NaN  10:02:09  08:54:06  ...       NaN       NaN       NaN       NaN   \n\n1         NaN       NaN       NaN       NaN       NaN       NaN  \n0         NaN       NaN       NaN       NaN       NaN       NaN  \n1         NaN       NaN       NaN       NaN       NaN       NaN  \n2    13:11:57  13:12:04  14:04:27  14:04:29  14:04:31  14:04:33  \n3         NaN       NaN       NaN       NaN       NaN       NaN  \n4         NaN       NaN       NaN       NaN       NaN       NaN  \n..        ...       ...       ...       ...       ...       ...  \n111       NaN       NaN       NaN       NaN       NaN       NaN  \n112       NaN       NaN       NaN       NaN       NaN       NaN  \n113       NaN       NaN       NaN       NaN       NaN       NaN  \n114       NaN       NaN       NaN       NaN       NaN       NaN  \n115       NaN       NaN       NaN       NaN       NaN       NaN  \n\n[116 rows x 53 columns]",
      "text/html": "<div>\n<style scoped>\n    .dataframe tbody tr th:only-of-type {\n        vertical-align: middle;\n    }\n\n    .dataframe tbody tr th {\n        vertical-align: top;\n    }\n\n    .dataframe thead th {\n        text-align: right;\n    }\n</style>\n<table border=\"1\" class=\"dataframe\">\n  <thead>\n    <tr style=\"text-align: right;\">\n      <th>1</th>\n      <th>ID de Empleado</th>\n      <th>Nombre</th>\n      <th>Apellido</th>\n      <th>Departamento</th>\n      <th>Fecha</th>\n      <th>Cantidad de Checadas</th>\n      <th>Hora</th>\n      <th>NaN</th>\n      <th>Hora</th>\n      <th>NaN</th>\n      <th>...</th>\n      <th>NaN</th>\n      <th>NaN</th>\n      <th>NaN</th>\n      <th>NaN</th>\n      <th>NaN</th>\n      <th>NaN</th>\n      <th>NaN</th>\n      <th>NaN</th>\n      <th>NaN</th>\n      <th>NaN</th>\n    </tr>\n  </thead>\n  <tbody>\n    <tr>\n      <th>0</th>\n      <td>R-880</td>\n      <td>AAA</td>\n      <td>SEGUNDO</td>\n      <td>MANGUERAS</td>\n      <td>01-08-2023</td>\n      <td>36</td>\n      <td>10:05:06,10:05:08,10:05:10,08:57:37,18:20:28,1...</td>\n      <td>NaN</td>\n      <td>10:05:06</td>\n      <td>10:05:08</td>\n      <td>...</td>\n      <td>08:57:39</td>\n      <td>NaN</td>\n      <td>NaN</td>\n      <td>NaN</td>\n      <td>NaN</td>\n      <td>NaN</td>\n      <td>NaN</td>\n      <td>NaN</td>\n      <td>NaN</td>\n      <td>NaN</td>\n    </tr>\n    <tr>\n      <th>1</th>\n      <td>R-880</td>\n      <td>AAA</td>\n      <td>SEGUNDO</td>\n      <td>MANGUERAS</td>\n      <td>02-08-2023</td>\n      <td>33</td>\n      <td>17:30:01,14:11:32,18:09:19,12:02:07,10:07:24,1...</td>\n      <td>NaN</td>\n      <td>17:30:01</td>\n      <td>14:11:32</td>\n      <td>...</td>\n      <td>NaN</td>\n      <td>NaN</td>\n      <td>NaN</td>\n      <td>NaN</td>\n      <td>NaN</td>\n      <td>NaN</td>\n      <td>NaN</td>\n      <td>NaN</td>\n      <td>NaN</td>\n      <td>NaN</td>\n    </tr>\n    <tr>\n      <th>2</th>\n      <td>R-880</td>\n      <td>AAA</td>\n      <td>SEGUNDO</td>\n      <td>MANGUERAS</td>\n      <td>03-08-2023</td>\n      <td>45</td>\n      <td>16:00:24,15:06:38,15:08:15,15:08:17,16:00:20,1...</td>\n      <td>NaN</td>\n      <td>16:00:24</td>\n      <td>15:06:38</td>\n      <td>...</td>\n      <td>13:01:55</td>\n      <td>13:01:57</td>\n      <td>13:12:00</td>\n      <td>13:12:02</td>\n      <td>13:11:57</td>\n      <td>13:12:04</td>\n      <td>14:04:27</td>\n      <td>14:04:29</td>\n      <td>14:04:31</td>\n      <td>14:04:33</td>\n    </tr>\n    <tr>\n      <th>3</th>\n      <td>R-880</td>\n      <td>AAA</td>\n      <td>SEGUNDO</td>\n      <td>MANGUERAS</td>\n      <td>04-08-2023</td>\n      <td>16</td>\n      <td>18:03:31,16:23:10,18:03:29,18:04:09,15:05:06,1...</td>\n      <td>NaN</td>\n      <td>18:03:31</td>\n      <td>16:23:10</td>\n      <td>...</td>\n      <td>NaN</td>\n      <td>NaN</td>\n      <td>NaN</td>\n      <td>NaN</td>\n      <td>NaN</td>\n      <td>NaN</td>\n      <td>NaN</td>\n      <td>NaN</td>\n      <td>NaN</td>\n      <td>NaN</td>\n    </tr>\n    <tr>\n      <th>4</th>\n      <td>R-880</td>\n      <td>AAA</td>\n      <td>SEGUNDO</td>\n      <td>MANGUERAS</td>\n      <td>07-08-2023</td>\n      <td>23</td>\n      <td>10:04:03,10:02:40,14:08:31,14:06:38,10:02:38,0...</td>\n      <td>NaN</td>\n      <td>10:04:03</td>\n      <td>10:02:40</td>\n      <td>...</td>\n      <td>NaN</td>\n      <td>NaN</td>\n      <td>NaN</td>\n      <td>NaN</td>\n      <td>NaN</td>\n      <td>NaN</td>\n      <td>NaN</td>\n      <td>NaN</td>\n      <td>NaN</td>\n      <td>NaN</td>\n    </tr>\n    <tr>\n      <th>...</th>\n      <td>...</td>\n      <td>...</td>\n      <td>...</td>\n      <td>...</td>\n      <td>...</td>\n      <td>...</td>\n      <td>...</td>\n      <td>...</td>\n      <td>...</td>\n      <td>...</td>\n      <td>...</td>\n      <td>...</td>\n      <td>...</td>\n      <td>...</td>\n      <td>...</td>\n      <td>...</td>\n      <td>...</td>\n      <td>...</td>\n      <td>...</td>\n      <td>...</td>\n      <td>...</td>\n    </tr>\n    <tr>\n      <th>111</th>\n      <td>P-4699</td>\n      <td>AAA</td>\n      <td>RILH</td>\n      <td>ADMON</td>\n      <td>02-08-2023</td>\n      <td>8</td>\n      <td>08:35:50,08:35:46,11:00:57,10:08:27,10:08:29,1...</td>\n      <td>NaN</td>\n      <td>08:35:50</td>\n      <td>08:35:46</td>\n      <td>...</td>\n      <td>NaN</td>\n      <td>NaN</td>\n      <td>NaN</td>\n      <td>NaN</td>\n      <td>NaN</td>\n      <td>NaN</td>\n      <td>NaN</td>\n      <td>NaN</td>\n      <td>NaN</td>\n      <td>NaN</td>\n    </tr>\n    <tr>\n      <th>112</th>\n      <td>P-4699</td>\n      <td>AAA</td>\n      <td>RILH</td>\n      <td>ADMON</td>\n      <td>07-08-2023</td>\n      <td>6</td>\n      <td>10:09:25,10:09:23,14:00:57,09:09:38,09:09:36,1...</td>\n      <td>NaN</td>\n      <td>10:09:25</td>\n      <td>10:09:23</td>\n      <td>...</td>\n      <td>NaN</td>\n      <td>NaN</td>\n      <td>NaN</td>\n      <td>NaN</td>\n      <td>NaN</td>\n      <td>NaN</td>\n      <td>NaN</td>\n      <td>NaN</td>\n      <td>NaN</td>\n      <td>NaN</td>\n    </tr>\n    <tr>\n      <th>113</th>\n      <td>P-4699</td>\n      <td>AAA</td>\n      <td>RILH</td>\n      <td>ADMON</td>\n      <td>08-08-2023</td>\n      <td>8</td>\n      <td>10:04:06,10:04:08,14:00:14,12:01:27,12:01:29,1...</td>\n      <td>NaN</td>\n      <td>10:04:06</td>\n      <td>10:04:08</td>\n      <td>...</td>\n      <td>NaN</td>\n      <td>NaN</td>\n      <td>NaN</td>\n      <td>NaN</td>\n      <td>NaN</td>\n      <td>NaN</td>\n      <td>NaN</td>\n      <td>NaN</td>\n      <td>NaN</td>\n      <td>NaN</td>\n    </tr>\n    <tr>\n      <th>114</th>\n      <td>P-4699</td>\n      <td>AAA</td>\n      <td>RILH</td>\n      <td>ADMON</td>\n      <td>09-08-2023</td>\n      <td>6</td>\n      <td>10:00:11,11:00:33,10:00:13,09:22:01,11:00:35,0...</td>\n      <td>NaN</td>\n      <td>10:00:11</td>\n      <td>11:00:33</td>\n      <td>...</td>\n      <td>NaN</td>\n      <td>NaN</td>\n      <td>NaN</td>\n      <td>NaN</td>\n      <td>NaN</td>\n      <td>NaN</td>\n      <td>NaN</td>\n      <td>NaN</td>\n      <td>NaN</td>\n      <td>NaN</td>\n    </tr>\n    <tr>\n      <th>115</th>\n      <td>P-4699</td>\n      <td>AAA</td>\n      <td>RILH</td>\n      <td>ADMON</td>\n      <td>14-08-2023</td>\n      <td>8</td>\n      <td>10:02:09,08:54:06,12:00:03,14:02:43,08:54:08,1...</td>\n      <td>NaN</td>\n      <td>10:02:09</td>\n      <td>08:54:06</td>\n      <td>...</td>\n      <td>NaN</td>\n      <td>NaN</td>\n      <td>NaN</td>\n      <td>NaN</td>\n      <td>NaN</td>\n      <td>NaN</td>\n      <td>NaN</td>\n      <td>NaN</td>\n      <td>NaN</td>\n      <td>NaN</td>\n    </tr>\n  </tbody>\n</table>\n<p>116 rows × 53 columns</p>\n</div>"
     },
     "execution_count": 487,
     "metadata": {},
     "output_type": "execute_result"
    }
   ],
   "source": [
    "datos"
   ],
   "metadata": {
    "collapsed": false,
    "ExecuteTime": {
     "end_time": "2024-03-12T23:11:13.032687Z",
     "start_time": "2024-03-12T23:11:12.927345Z"
    }
   }
  },
  {
   "cell_type": "code",
   "execution_count": 488,
   "outputs": [
    {
     "name": "stdout",
     "output_type": "stream",
     "text": [
      "ID de Empleado\n",
      "0\n"
     ]
    }
   ],
   "source": [
    "print(datos.columns[0])\n",
    "print(datos.index[0])"
   ],
   "metadata": {
    "collapsed": false,
    "ExecuteTime": {
     "end_time": "2024-03-12T23:11:13.033354Z",
     "start_time": "2024-03-12T23:11:12.980203Z"
    }
   }
  },
  {
   "cell_type": "code",
   "execution_count": 489,
   "outputs": [
    {
     "name": "stdout",
     "output_type": "stream",
     "text": [
      "1\n",
      "ID de Empleado           object\n",
      "Nombre                   object\n",
      "Apellido                 object\n",
      "Departamento             object\n",
      "Fecha                    object\n",
      "Cantidad de Checadas     object\n",
      "Hora                     object\n",
      "NaN                     float64\n",
      "Hora                     object\n",
      "NaN                      object\n",
      "NaN                      object\n",
      "NaN                      object\n",
      "NaN                      object\n",
      "NaN                      object\n",
      "NaN                      object\n",
      "NaN                      object\n",
      "NaN                      object\n",
      "NaN                      object\n",
      "NaN                      object\n",
      "NaN                      object\n",
      "NaN                      object\n",
      "NaN                      object\n",
      "NaN                      object\n",
      "NaN                      object\n",
      "NaN                      object\n",
      "NaN                      object\n",
      "NaN                      object\n",
      "NaN                      object\n",
      "NaN                      object\n",
      "NaN                      object\n",
      "NaN                      object\n",
      "NaN                      object\n",
      "NaN                      object\n",
      "NaN                      object\n",
      "NaN                      object\n",
      "NaN                      object\n",
      "NaN                      object\n",
      "NaN                      object\n",
      "NaN                      object\n",
      "NaN                      object\n",
      "NaN                      object\n",
      "NaN                      object\n",
      "NaN                      object\n",
      "NaN                      object\n",
      "NaN                      object\n",
      "NaN                      object\n",
      "NaN                      object\n",
      "NaN                      object\n",
      "NaN                      object\n",
      "NaN                      object\n",
      "NaN                      object\n",
      "NaN                      object\n",
      "NaN                      object\n",
      "dtype: object\n"
     ]
    }
   ],
   "source": [
    "print(datos.dtypes)"
   ],
   "metadata": {
    "collapsed": false,
    "ExecuteTime": {
     "end_time": "2024-03-12T23:11:13.034946Z",
     "start_time": "2024-03-12T23:11:12.991713Z"
    }
   }
  },
  {
   "cell_type": "code",
   "execution_count": 490,
   "outputs": [
    {
     "data": {
      "text/plain": "1   ID de Empleado Nombre Apellido Departamento       Fecha  \\\n0            R-880    AAA  SEGUNDO    MANGUERAS  01-08-2023   \n1            R-880    AAA  SEGUNDO    MANGUERAS  02-08-2023   \n2            R-880    AAA  SEGUNDO    MANGUERAS  03-08-2023   \n3            R-880    AAA  SEGUNDO    MANGUERAS  04-08-2023   \n4            R-880    AAA  SEGUNDO    MANGUERAS  07-08-2023   \n..             ...    ...      ...          ...         ...   \n111         P-4699    AAA     RILH        ADMON  02-08-2023   \n112         P-4699    AAA     RILH        ADMON  07-08-2023   \n113         P-4699    AAA     RILH        ADMON  08-08-2023   \n114         P-4699    AAA     RILH        ADMON  09-08-2023   \n115         P-4699    AAA     RILH        ADMON  14-08-2023   \n\n1   Cantidad de Checadas                                               Hora  \\\n0                     36  10:05:06,10:05:08,10:05:10,08:57:37,18:20:28,1...   \n1                     33  17:30:01,14:11:32,18:09:19,12:02:07,10:07:24,1...   \n2                     45  16:00:24,15:06:38,15:08:15,15:08:17,16:00:20,1...   \n3                     16  18:03:31,16:23:10,18:03:29,18:04:09,15:05:06,1...   \n4                     23  10:04:03,10:02:40,14:08:31,14:06:38,10:02:38,0...   \n..                   ...                                                ...   \n111                    8  08:35:50,08:35:46,11:00:57,10:08:27,10:08:29,1...   \n112                    6  10:09:25,10:09:23,14:00:57,09:09:38,09:09:36,1...   \n113                    8  10:04:06,10:04:08,14:00:14,12:01:27,12:01:29,1...   \n114                    6  10:00:11,11:00:33,10:00:13,09:22:01,11:00:35,0...   \n115                    8  10:02:09,08:54:06,12:00:03,14:02:43,08:54:08,1...   \n\n1        Hora       NaN  \n0    10:05:06  10:05:08  \n1    17:30:01  14:11:32  \n2    16:00:24  15:06:38  \n3    18:03:31  16:23:10  \n4    10:04:03  10:02:40  \n..        ...       ...  \n111  08:35:50  08:35:46  \n112  10:09:25  10:09:23  \n113  10:04:06  10:04:08  \n114  10:00:11  11:00:33  \n115  10:02:09  08:54:06  \n\n[116 rows x 9 columns]",
      "text/html": "<div>\n<style scoped>\n    .dataframe tbody tr th:only-of-type {\n        vertical-align: middle;\n    }\n\n    .dataframe tbody tr th {\n        vertical-align: top;\n    }\n\n    .dataframe thead th {\n        text-align: right;\n    }\n</style>\n<table border=\"1\" class=\"dataframe\">\n  <thead>\n    <tr style=\"text-align: right;\">\n      <th>1</th>\n      <th>ID de Empleado</th>\n      <th>Nombre</th>\n      <th>Apellido</th>\n      <th>Departamento</th>\n      <th>Fecha</th>\n      <th>Cantidad de Checadas</th>\n      <th>Hora</th>\n      <th>Hora</th>\n      <th>NaN</th>\n    </tr>\n  </thead>\n  <tbody>\n    <tr>\n      <th>0</th>\n      <td>R-880</td>\n      <td>AAA</td>\n      <td>SEGUNDO</td>\n      <td>MANGUERAS</td>\n      <td>01-08-2023</td>\n      <td>36</td>\n      <td>10:05:06,10:05:08,10:05:10,08:57:37,18:20:28,1...</td>\n      <td>10:05:06</td>\n      <td>10:05:08</td>\n    </tr>\n    <tr>\n      <th>1</th>\n      <td>R-880</td>\n      <td>AAA</td>\n      <td>SEGUNDO</td>\n      <td>MANGUERAS</td>\n      <td>02-08-2023</td>\n      <td>33</td>\n      <td>17:30:01,14:11:32,18:09:19,12:02:07,10:07:24,1...</td>\n      <td>17:30:01</td>\n      <td>14:11:32</td>\n    </tr>\n    <tr>\n      <th>2</th>\n      <td>R-880</td>\n      <td>AAA</td>\n      <td>SEGUNDO</td>\n      <td>MANGUERAS</td>\n      <td>03-08-2023</td>\n      <td>45</td>\n      <td>16:00:24,15:06:38,15:08:15,15:08:17,16:00:20,1...</td>\n      <td>16:00:24</td>\n      <td>15:06:38</td>\n    </tr>\n    <tr>\n      <th>3</th>\n      <td>R-880</td>\n      <td>AAA</td>\n      <td>SEGUNDO</td>\n      <td>MANGUERAS</td>\n      <td>04-08-2023</td>\n      <td>16</td>\n      <td>18:03:31,16:23:10,18:03:29,18:04:09,15:05:06,1...</td>\n      <td>18:03:31</td>\n      <td>16:23:10</td>\n    </tr>\n    <tr>\n      <th>4</th>\n      <td>R-880</td>\n      <td>AAA</td>\n      <td>SEGUNDO</td>\n      <td>MANGUERAS</td>\n      <td>07-08-2023</td>\n      <td>23</td>\n      <td>10:04:03,10:02:40,14:08:31,14:06:38,10:02:38,0...</td>\n      <td>10:04:03</td>\n      <td>10:02:40</td>\n    </tr>\n    <tr>\n      <th>...</th>\n      <td>...</td>\n      <td>...</td>\n      <td>...</td>\n      <td>...</td>\n      <td>...</td>\n      <td>...</td>\n      <td>...</td>\n      <td>...</td>\n      <td>...</td>\n    </tr>\n    <tr>\n      <th>111</th>\n      <td>P-4699</td>\n      <td>AAA</td>\n      <td>RILH</td>\n      <td>ADMON</td>\n      <td>02-08-2023</td>\n      <td>8</td>\n      <td>08:35:50,08:35:46,11:00:57,10:08:27,10:08:29,1...</td>\n      <td>08:35:50</td>\n      <td>08:35:46</td>\n    </tr>\n    <tr>\n      <th>112</th>\n      <td>P-4699</td>\n      <td>AAA</td>\n      <td>RILH</td>\n      <td>ADMON</td>\n      <td>07-08-2023</td>\n      <td>6</td>\n      <td>10:09:25,10:09:23,14:00:57,09:09:38,09:09:36,1...</td>\n      <td>10:09:25</td>\n      <td>10:09:23</td>\n    </tr>\n    <tr>\n      <th>113</th>\n      <td>P-4699</td>\n      <td>AAA</td>\n      <td>RILH</td>\n      <td>ADMON</td>\n      <td>08-08-2023</td>\n      <td>8</td>\n      <td>10:04:06,10:04:08,14:00:14,12:01:27,12:01:29,1...</td>\n      <td>10:04:06</td>\n      <td>10:04:08</td>\n    </tr>\n    <tr>\n      <th>114</th>\n      <td>P-4699</td>\n      <td>AAA</td>\n      <td>RILH</td>\n      <td>ADMON</td>\n      <td>09-08-2023</td>\n      <td>6</td>\n      <td>10:00:11,11:00:33,10:00:13,09:22:01,11:00:35,0...</td>\n      <td>10:00:11</td>\n      <td>11:00:33</td>\n    </tr>\n    <tr>\n      <th>115</th>\n      <td>P-4699</td>\n      <td>AAA</td>\n      <td>RILH</td>\n      <td>ADMON</td>\n      <td>14-08-2023</td>\n      <td>8</td>\n      <td>10:02:09,08:54:06,12:00:03,14:02:43,08:54:08,1...</td>\n      <td>10:02:09</td>\n      <td>08:54:06</td>\n    </tr>\n  </tbody>\n</table>\n<p>116 rows × 9 columns</p>\n</div>"
     },
     "execution_count": 490,
     "metadata": {},
     "output_type": "execute_result"
    }
   ],
   "source": [
    "datos = datos.dropna(axis=1)\n",
    "datos"
   ],
   "metadata": {
    "collapsed": false,
    "ExecuteTime": {
     "end_time": "2024-03-12T23:11:13.053540Z",
     "start_time": "2024-03-12T23:11:13.017028Z"
    }
   }
  },
  {
   "cell_type": "code",
   "execution_count": 491,
   "outputs": [
    {
     "name": "stdout",
     "output_type": "stream",
     "text": [
      "Hora\n"
     ]
    }
   ],
   "source": [
    "print(datos.columns[7])"
   ],
   "metadata": {
    "collapsed": false,
    "ExecuteTime": {
     "end_time": "2024-03-12T23:11:13.056140Z",
     "start_time": "2024-03-12T23:11:13.039428Z"
    }
   }
  },
  {
   "cell_type": "code",
   "execution_count": 492,
   "outputs": [
    {
     "data": {
      "text/plain": "1   ID de Empleado Nombre Apellido Departamento       Fecha  \\\n0            R-880    AAA  SEGUNDO    MANGUERAS  01-08-2023   \n1            R-880    AAA  SEGUNDO    MANGUERAS  02-08-2023   \n2            R-880    AAA  SEGUNDO    MANGUERAS  03-08-2023   \n3            R-880    AAA  SEGUNDO    MANGUERAS  04-08-2023   \n4            R-880    AAA  SEGUNDO    MANGUERAS  07-08-2023   \n..             ...    ...      ...          ...         ...   \n111         P-4699    AAA     RILH        ADMON  02-08-2023   \n112         P-4699    AAA     RILH        ADMON  07-08-2023   \n113         P-4699    AAA     RILH        ADMON  08-08-2023   \n114         P-4699    AAA     RILH        ADMON  09-08-2023   \n115         P-4699    AAA     RILH        ADMON  14-08-2023   \n\n1   Cantidad de Checadas                                               Hora  \\\n0                     36  10:05:06,10:05:08,10:05:10,08:57:37,18:20:28,1...   \n1                     33  17:30:01,14:11:32,18:09:19,12:02:07,10:07:24,1...   \n2                     45  16:00:24,15:06:38,15:08:15,15:08:17,16:00:20,1...   \n3                     16  18:03:31,16:23:10,18:03:29,18:04:09,15:05:06,1...   \n4                     23  10:04:03,10:02:40,14:08:31,14:06:38,10:02:38,0...   \n..                   ...                                                ...   \n111                    8  08:35:50,08:35:46,11:00:57,10:08:27,10:08:29,1...   \n112                    6  10:09:25,10:09:23,14:00:57,09:09:38,09:09:36,1...   \n113                    8  10:04:06,10:04:08,14:00:14,12:01:27,12:01:29,1...   \n114                    6  10:00:11,11:00:33,10:00:13,09:22:01,11:00:35,0...   \n115                    8  10:02:09,08:54:06,12:00:03,14:02:43,08:54:08,1...   \n\n1        Hora  \n0    10:05:06  \n1    17:30:01  \n2    16:00:24  \n3    18:03:31  \n4    10:04:03  \n..        ...  \n111  08:35:50  \n112  10:09:25  \n113  10:04:06  \n114  10:00:11  \n115  10:02:09  \n\n[116 rows x 8 columns]",
      "text/html": "<div>\n<style scoped>\n    .dataframe tbody tr th:only-of-type {\n        vertical-align: middle;\n    }\n\n    .dataframe tbody tr th {\n        vertical-align: top;\n    }\n\n    .dataframe thead th {\n        text-align: right;\n    }\n</style>\n<table border=\"1\" class=\"dataframe\">\n  <thead>\n    <tr style=\"text-align: right;\">\n      <th>1</th>\n      <th>ID de Empleado</th>\n      <th>Nombre</th>\n      <th>Apellido</th>\n      <th>Departamento</th>\n      <th>Fecha</th>\n      <th>Cantidad de Checadas</th>\n      <th>Hora</th>\n      <th>Hora</th>\n    </tr>\n  </thead>\n  <tbody>\n    <tr>\n      <th>0</th>\n      <td>R-880</td>\n      <td>AAA</td>\n      <td>SEGUNDO</td>\n      <td>MANGUERAS</td>\n      <td>01-08-2023</td>\n      <td>36</td>\n      <td>10:05:06,10:05:08,10:05:10,08:57:37,18:20:28,1...</td>\n      <td>10:05:06</td>\n    </tr>\n    <tr>\n      <th>1</th>\n      <td>R-880</td>\n      <td>AAA</td>\n      <td>SEGUNDO</td>\n      <td>MANGUERAS</td>\n      <td>02-08-2023</td>\n      <td>33</td>\n      <td>17:30:01,14:11:32,18:09:19,12:02:07,10:07:24,1...</td>\n      <td>17:30:01</td>\n    </tr>\n    <tr>\n      <th>2</th>\n      <td>R-880</td>\n      <td>AAA</td>\n      <td>SEGUNDO</td>\n      <td>MANGUERAS</td>\n      <td>03-08-2023</td>\n      <td>45</td>\n      <td>16:00:24,15:06:38,15:08:15,15:08:17,16:00:20,1...</td>\n      <td>16:00:24</td>\n    </tr>\n    <tr>\n      <th>3</th>\n      <td>R-880</td>\n      <td>AAA</td>\n      <td>SEGUNDO</td>\n      <td>MANGUERAS</td>\n      <td>04-08-2023</td>\n      <td>16</td>\n      <td>18:03:31,16:23:10,18:03:29,18:04:09,15:05:06,1...</td>\n      <td>18:03:31</td>\n    </tr>\n    <tr>\n      <th>4</th>\n      <td>R-880</td>\n      <td>AAA</td>\n      <td>SEGUNDO</td>\n      <td>MANGUERAS</td>\n      <td>07-08-2023</td>\n      <td>23</td>\n      <td>10:04:03,10:02:40,14:08:31,14:06:38,10:02:38,0...</td>\n      <td>10:04:03</td>\n    </tr>\n    <tr>\n      <th>...</th>\n      <td>...</td>\n      <td>...</td>\n      <td>...</td>\n      <td>...</td>\n      <td>...</td>\n      <td>...</td>\n      <td>...</td>\n      <td>...</td>\n    </tr>\n    <tr>\n      <th>111</th>\n      <td>P-4699</td>\n      <td>AAA</td>\n      <td>RILH</td>\n      <td>ADMON</td>\n      <td>02-08-2023</td>\n      <td>8</td>\n      <td>08:35:50,08:35:46,11:00:57,10:08:27,10:08:29,1...</td>\n      <td>08:35:50</td>\n    </tr>\n    <tr>\n      <th>112</th>\n      <td>P-4699</td>\n      <td>AAA</td>\n      <td>RILH</td>\n      <td>ADMON</td>\n      <td>07-08-2023</td>\n      <td>6</td>\n      <td>10:09:25,10:09:23,14:00:57,09:09:38,09:09:36,1...</td>\n      <td>10:09:25</td>\n    </tr>\n    <tr>\n      <th>113</th>\n      <td>P-4699</td>\n      <td>AAA</td>\n      <td>RILH</td>\n      <td>ADMON</td>\n      <td>08-08-2023</td>\n      <td>8</td>\n      <td>10:04:06,10:04:08,14:00:14,12:01:27,12:01:29,1...</td>\n      <td>10:04:06</td>\n    </tr>\n    <tr>\n      <th>114</th>\n      <td>P-4699</td>\n      <td>AAA</td>\n      <td>RILH</td>\n      <td>ADMON</td>\n      <td>09-08-2023</td>\n      <td>6</td>\n      <td>10:00:11,11:00:33,10:00:13,09:22:01,11:00:35,0...</td>\n      <td>10:00:11</td>\n    </tr>\n    <tr>\n      <th>115</th>\n      <td>P-4699</td>\n      <td>AAA</td>\n      <td>RILH</td>\n      <td>ADMON</td>\n      <td>14-08-2023</td>\n      <td>8</td>\n      <td>10:02:09,08:54:06,12:00:03,14:02:43,08:54:08,1...</td>\n      <td>10:02:09</td>\n    </tr>\n  </tbody>\n</table>\n<p>116 rows × 8 columns</p>\n</div>"
     },
     "execution_count": 492,
     "metadata": {},
     "output_type": "execute_result"
    }
   ],
   "source": [
    "datos = datos.drop(datos.columns[8], axis=1)\n",
    "datos"
   ],
   "metadata": {
    "collapsed": false,
    "ExecuteTime": {
     "end_time": "2024-03-12T23:11:13.185237Z",
     "start_time": "2024-03-12T23:11:13.074015Z"
    }
   }
  },
  {
   "cell_type": "code",
   "execution_count": 493,
   "outputs": [
    {
     "name": "stdout",
     "output_type": "stream",
     "text": [
      "Completado\n"
     ]
    }
   ],
   "source": [
    "# Guardando a CSV\n",
    "datos.to_csv(\"recursos/datos.csv\", index=False)\n",
    "print(\"Completado\")"
   ],
   "metadata": {
    "collapsed": false,
    "ExecuteTime": {
     "end_time": "2024-03-12T23:11:13.186237Z",
     "start_time": "2024-03-12T23:11:13.093681Z"
    }
   }
  },
  {
   "cell_type": "code",
   "execution_count": 494,
   "outputs": [
    {
     "data": {
      "text/plain": "    ID de Empleado Nombre Apellido Departamento       Fecha  \\\n0            R-880    AAA  SEGUNDO    MANGUERAS  01-08-2023   \n1            R-880    AAA  SEGUNDO    MANGUERAS  02-08-2023   \n2            R-880    AAA  SEGUNDO    MANGUERAS  03-08-2023   \n3            R-880    AAA  SEGUNDO    MANGUERAS  04-08-2023   \n4            R-880    AAA  SEGUNDO    MANGUERAS  07-08-2023   \n..             ...    ...      ...          ...         ...   \n111         P-4699    AAA     RILH        ADMON  02-08-2023   \n112         P-4699    AAA     RILH        ADMON  07-08-2023   \n113         P-4699    AAA     RILH        ADMON  08-08-2023   \n114         P-4699    AAA     RILH        ADMON  09-08-2023   \n115         P-4699    AAA     RILH        ADMON  14-08-2023   \n\n     Cantidad de Checadas                                               Hora  \\\n0                      36  10:05:06,10:05:08,10:05:10,08:57:37,18:20:28,1...   \n1                      33  17:30:01,14:11:32,18:09:19,12:02:07,10:07:24,1...   \n2                      45  16:00:24,15:06:38,15:08:15,15:08:17,16:00:20,1...   \n3                      16  18:03:31,16:23:10,18:03:29,18:04:09,15:05:06,1...   \n4                      23  10:04:03,10:02:40,14:08:31,14:06:38,10:02:38,0...   \n..                    ...                                                ...   \n111                     8  08:35:50,08:35:46,11:00:57,10:08:27,10:08:29,1...   \n112                     6  10:09:25,10:09:23,14:00:57,09:09:38,09:09:36,1...   \n113                     8  10:04:06,10:04:08,14:00:14,12:01:27,12:01:29,1...   \n114                     6  10:00:11,11:00:33,10:00:13,09:22:01,11:00:35,0...   \n115                     8  10:02:09,08:54:06,12:00:03,14:02:43,08:54:08,1...   \n\n       Hora.1  \n0    10:05:06  \n1    17:30:01  \n2    16:00:24  \n3    18:03:31  \n4    10:04:03  \n..        ...  \n111  08:35:50  \n112  10:09:25  \n113  10:04:06  \n114  10:00:11  \n115  10:02:09  \n\n[116 rows x 8 columns]",
      "text/html": "<div>\n<style scoped>\n    .dataframe tbody tr th:only-of-type {\n        vertical-align: middle;\n    }\n\n    .dataframe tbody tr th {\n        vertical-align: top;\n    }\n\n    .dataframe thead th {\n        text-align: right;\n    }\n</style>\n<table border=\"1\" class=\"dataframe\">\n  <thead>\n    <tr style=\"text-align: right;\">\n      <th></th>\n      <th>ID de Empleado</th>\n      <th>Nombre</th>\n      <th>Apellido</th>\n      <th>Departamento</th>\n      <th>Fecha</th>\n      <th>Cantidad de Checadas</th>\n      <th>Hora</th>\n      <th>Hora.1</th>\n    </tr>\n  </thead>\n  <tbody>\n    <tr>\n      <th>0</th>\n      <td>R-880</td>\n      <td>AAA</td>\n      <td>SEGUNDO</td>\n      <td>MANGUERAS</td>\n      <td>01-08-2023</td>\n      <td>36</td>\n      <td>10:05:06,10:05:08,10:05:10,08:57:37,18:20:28,1...</td>\n      <td>10:05:06</td>\n    </tr>\n    <tr>\n      <th>1</th>\n      <td>R-880</td>\n      <td>AAA</td>\n      <td>SEGUNDO</td>\n      <td>MANGUERAS</td>\n      <td>02-08-2023</td>\n      <td>33</td>\n      <td>17:30:01,14:11:32,18:09:19,12:02:07,10:07:24,1...</td>\n      <td>17:30:01</td>\n    </tr>\n    <tr>\n      <th>2</th>\n      <td>R-880</td>\n      <td>AAA</td>\n      <td>SEGUNDO</td>\n      <td>MANGUERAS</td>\n      <td>03-08-2023</td>\n      <td>45</td>\n      <td>16:00:24,15:06:38,15:08:15,15:08:17,16:00:20,1...</td>\n      <td>16:00:24</td>\n    </tr>\n    <tr>\n      <th>3</th>\n      <td>R-880</td>\n      <td>AAA</td>\n      <td>SEGUNDO</td>\n      <td>MANGUERAS</td>\n      <td>04-08-2023</td>\n      <td>16</td>\n      <td>18:03:31,16:23:10,18:03:29,18:04:09,15:05:06,1...</td>\n      <td>18:03:31</td>\n    </tr>\n    <tr>\n      <th>4</th>\n      <td>R-880</td>\n      <td>AAA</td>\n      <td>SEGUNDO</td>\n      <td>MANGUERAS</td>\n      <td>07-08-2023</td>\n      <td>23</td>\n      <td>10:04:03,10:02:40,14:08:31,14:06:38,10:02:38,0...</td>\n      <td>10:04:03</td>\n    </tr>\n    <tr>\n      <th>...</th>\n      <td>...</td>\n      <td>...</td>\n      <td>...</td>\n      <td>...</td>\n      <td>...</td>\n      <td>...</td>\n      <td>...</td>\n      <td>...</td>\n    </tr>\n    <tr>\n      <th>111</th>\n      <td>P-4699</td>\n      <td>AAA</td>\n      <td>RILH</td>\n      <td>ADMON</td>\n      <td>02-08-2023</td>\n      <td>8</td>\n      <td>08:35:50,08:35:46,11:00:57,10:08:27,10:08:29,1...</td>\n      <td>08:35:50</td>\n    </tr>\n    <tr>\n      <th>112</th>\n      <td>P-4699</td>\n      <td>AAA</td>\n      <td>RILH</td>\n      <td>ADMON</td>\n      <td>07-08-2023</td>\n      <td>6</td>\n      <td>10:09:25,10:09:23,14:00:57,09:09:38,09:09:36,1...</td>\n      <td>10:09:25</td>\n    </tr>\n    <tr>\n      <th>113</th>\n      <td>P-4699</td>\n      <td>AAA</td>\n      <td>RILH</td>\n      <td>ADMON</td>\n      <td>08-08-2023</td>\n      <td>8</td>\n      <td>10:04:06,10:04:08,14:00:14,12:01:27,12:01:29,1...</td>\n      <td>10:04:06</td>\n    </tr>\n    <tr>\n      <th>114</th>\n      <td>P-4699</td>\n      <td>AAA</td>\n      <td>RILH</td>\n      <td>ADMON</td>\n      <td>09-08-2023</td>\n      <td>6</td>\n      <td>10:00:11,11:00:33,10:00:13,09:22:01,11:00:35,0...</td>\n      <td>10:00:11</td>\n    </tr>\n    <tr>\n      <th>115</th>\n      <td>P-4699</td>\n      <td>AAA</td>\n      <td>RILH</td>\n      <td>ADMON</td>\n      <td>14-08-2023</td>\n      <td>8</td>\n      <td>10:02:09,08:54:06,12:00:03,14:02:43,08:54:08,1...</td>\n      <td>10:02:09</td>\n    </tr>\n  </tbody>\n</table>\n<p>116 rows × 8 columns</p>\n</div>"
     },
     "execution_count": 494,
     "metadata": {},
     "output_type": "execute_result"
    }
   ],
   "source": [
    "# Leyendo el nuevo CSV\n",
    "datos = pd.read_csv(\"recursos/datos.csv\", encoding='utf-8')\n",
    "datos"
   ],
   "metadata": {
    "collapsed": false,
    "ExecuteTime": {
     "end_time": "2024-03-12T23:11:13.727271Z",
     "start_time": "2024-03-12T23:11:13.106904Z"
    }
   }
  },
  {
   "cell_type": "code",
   "execution_count": 495,
   "outputs": [
    {
     "data": {
      "text/plain": "    ID de Empleado Nombre Apellido Departamento       Fecha  \\\n0            R-880    AAA  SEGUNDO    MANGUERAS  01-08-2023   \n1            R-880    AAA  SEGUNDO    MANGUERAS  02-08-2023   \n2            R-880    AAA  SEGUNDO    MANGUERAS  03-08-2023   \n3            R-880    AAA  SEGUNDO    MANGUERAS  04-08-2023   \n4            R-880    AAA  SEGUNDO    MANGUERAS  07-08-2023   \n..             ...    ...      ...          ...         ...   \n111         P-4699    AAA     RILH        ADMON  02-08-2023   \n112         P-4699    AAA     RILH        ADMON  07-08-2023   \n113         P-4699    AAA     RILH        ADMON  08-08-2023   \n114         P-4699    AAA     RILH        ADMON  09-08-2023   \n115         P-4699    AAA     RILH        ADMON  14-08-2023   \n\n     Cantidad de Checadas                                               Hora  \n0                      36  10:05:06,10:05:08,10:05:10,08:57:37,18:20:28,1...  \n1                      33  17:30:01,14:11:32,18:09:19,12:02:07,10:07:24,1...  \n2                      45  16:00:24,15:06:38,15:08:15,15:08:17,16:00:20,1...  \n3                      16  18:03:31,16:23:10,18:03:29,18:04:09,15:05:06,1...  \n4                      23  10:04:03,10:02:40,14:08:31,14:06:38,10:02:38,0...  \n..                    ...                                                ...  \n111                     8  08:35:50,08:35:46,11:00:57,10:08:27,10:08:29,1...  \n112                     6  10:09:25,10:09:23,14:00:57,09:09:38,09:09:36,1...  \n113                     8  10:04:06,10:04:08,14:00:14,12:01:27,12:01:29,1...  \n114                     6  10:00:11,11:00:33,10:00:13,09:22:01,11:00:35,0...  \n115                     8  10:02:09,08:54:06,12:00:03,14:02:43,08:54:08,1...  \n\n[116 rows x 7 columns]",
      "text/html": "<div>\n<style scoped>\n    .dataframe tbody tr th:only-of-type {\n        vertical-align: middle;\n    }\n\n    .dataframe tbody tr th {\n        vertical-align: top;\n    }\n\n    .dataframe thead th {\n        text-align: right;\n    }\n</style>\n<table border=\"1\" class=\"dataframe\">\n  <thead>\n    <tr style=\"text-align: right;\">\n      <th></th>\n      <th>ID de Empleado</th>\n      <th>Nombre</th>\n      <th>Apellido</th>\n      <th>Departamento</th>\n      <th>Fecha</th>\n      <th>Cantidad de Checadas</th>\n      <th>Hora</th>\n    </tr>\n  </thead>\n  <tbody>\n    <tr>\n      <th>0</th>\n      <td>R-880</td>\n      <td>AAA</td>\n      <td>SEGUNDO</td>\n      <td>MANGUERAS</td>\n      <td>01-08-2023</td>\n      <td>36</td>\n      <td>10:05:06,10:05:08,10:05:10,08:57:37,18:20:28,1...</td>\n    </tr>\n    <tr>\n      <th>1</th>\n      <td>R-880</td>\n      <td>AAA</td>\n      <td>SEGUNDO</td>\n      <td>MANGUERAS</td>\n      <td>02-08-2023</td>\n      <td>33</td>\n      <td>17:30:01,14:11:32,18:09:19,12:02:07,10:07:24,1...</td>\n    </tr>\n    <tr>\n      <th>2</th>\n      <td>R-880</td>\n      <td>AAA</td>\n      <td>SEGUNDO</td>\n      <td>MANGUERAS</td>\n      <td>03-08-2023</td>\n      <td>45</td>\n      <td>16:00:24,15:06:38,15:08:15,15:08:17,16:00:20,1...</td>\n    </tr>\n    <tr>\n      <th>3</th>\n      <td>R-880</td>\n      <td>AAA</td>\n      <td>SEGUNDO</td>\n      <td>MANGUERAS</td>\n      <td>04-08-2023</td>\n      <td>16</td>\n      <td>18:03:31,16:23:10,18:03:29,18:04:09,15:05:06,1...</td>\n    </tr>\n    <tr>\n      <th>4</th>\n      <td>R-880</td>\n      <td>AAA</td>\n      <td>SEGUNDO</td>\n      <td>MANGUERAS</td>\n      <td>07-08-2023</td>\n      <td>23</td>\n      <td>10:04:03,10:02:40,14:08:31,14:06:38,10:02:38,0...</td>\n    </tr>\n    <tr>\n      <th>...</th>\n      <td>...</td>\n      <td>...</td>\n      <td>...</td>\n      <td>...</td>\n      <td>...</td>\n      <td>...</td>\n      <td>...</td>\n    </tr>\n    <tr>\n      <th>111</th>\n      <td>P-4699</td>\n      <td>AAA</td>\n      <td>RILH</td>\n      <td>ADMON</td>\n      <td>02-08-2023</td>\n      <td>8</td>\n      <td>08:35:50,08:35:46,11:00:57,10:08:27,10:08:29,1...</td>\n    </tr>\n    <tr>\n      <th>112</th>\n      <td>P-4699</td>\n      <td>AAA</td>\n      <td>RILH</td>\n      <td>ADMON</td>\n      <td>07-08-2023</td>\n      <td>6</td>\n      <td>10:09:25,10:09:23,14:00:57,09:09:38,09:09:36,1...</td>\n    </tr>\n    <tr>\n      <th>113</th>\n      <td>P-4699</td>\n      <td>AAA</td>\n      <td>RILH</td>\n      <td>ADMON</td>\n      <td>08-08-2023</td>\n      <td>8</td>\n      <td>10:04:06,10:04:08,14:00:14,12:01:27,12:01:29,1...</td>\n    </tr>\n    <tr>\n      <th>114</th>\n      <td>P-4699</td>\n      <td>AAA</td>\n      <td>RILH</td>\n      <td>ADMON</td>\n      <td>09-08-2023</td>\n      <td>6</td>\n      <td>10:00:11,11:00:33,10:00:13,09:22:01,11:00:35,0...</td>\n    </tr>\n    <tr>\n      <th>115</th>\n      <td>P-4699</td>\n      <td>AAA</td>\n      <td>RILH</td>\n      <td>ADMON</td>\n      <td>14-08-2023</td>\n      <td>8</td>\n      <td>10:02:09,08:54:06,12:00:03,14:02:43,08:54:08,1...</td>\n    </tr>\n  </tbody>\n</table>\n<p>116 rows × 7 columns</p>\n</div>"
     },
     "execution_count": 495,
     "metadata": {},
     "output_type": "execute_result"
    }
   ],
   "source": [
    "datos = datos.drop(datos.columns[7], axis=1)\n",
    "datos"
   ],
   "metadata": {
    "collapsed": false,
    "ExecuteTime": {
     "end_time": "2024-03-12T23:11:13.753080Z",
     "start_time": "2024-03-12T23:11:13.157746Z"
    }
   }
  },
  {
   "cell_type": "code",
   "execution_count": 496,
   "outputs": [
    {
     "data": {
      "text/plain": "    ID de Empleado Nombre Apellido Departamento       Fecha  \\\n0            R-880    AAA  SEGUNDO    MANGUERAS  01-08-2023   \n1            R-880    AAA  SEGUNDO    MANGUERAS  02-08-2023   \n2            R-880    AAA  SEGUNDO    MANGUERAS  03-08-2023   \n3            R-880    AAA  SEGUNDO    MANGUERAS  04-08-2023   \n4            R-880    AAA  SEGUNDO    MANGUERAS  07-08-2023   \n..             ...    ...      ...          ...         ...   \n111         P-4699    AAA     RILH        ADMON  02-08-2023   \n112         P-4699    AAA     RILH        ADMON  07-08-2023   \n113         P-4699    AAA     RILH        ADMON  08-08-2023   \n114         P-4699    AAA     RILH        ADMON  09-08-2023   \n115         P-4699    AAA     RILH        ADMON  14-08-2023   \n\n     Cantidad de Checadas                                               Hora  \n0                      36  08:57:37,08:57:39,08:57:41,08:57:44,10:05:04,1...  \n1                      33  09:06:03,09:06:05,09:06:07,09:06:10,10:07:17,1...  \n2                      45  09:03:49,09:03:51,09:03:54,09:03:56,10:02:58,1...  \n3                      16  09:04:06,09:04:08,09:04:10,09:04:13,10:03:59,1...  \n4                      23  09:04:33,09:04:36,09:04:38,09:04:40,09:10:10,1...  \n..                    ...                                                ...  \n111                     8  08:35:46,08:35:48,08:35:50,10:08:27,10:08:29,1...  \n112                     6  09:09:36,09:09:38,10:09:23,10:09:25,14:00:57,1...  \n113                     8  08:53:20,08:53:22,10:04:06,10:04:08,12:01:27,1...  \n114                     6  09:22:01,09:22:09,10:00:11,10:00:13,11:00:33,1...  \n115                     8  08:54:06,08:54:08,10:02:09,10:02:11,12:00:03,1...  \n\n[116 rows x 7 columns]",
      "text/html": "<div>\n<style scoped>\n    .dataframe tbody tr th:only-of-type {\n        vertical-align: middle;\n    }\n\n    .dataframe tbody tr th {\n        vertical-align: top;\n    }\n\n    .dataframe thead th {\n        text-align: right;\n    }\n</style>\n<table border=\"1\" class=\"dataframe\">\n  <thead>\n    <tr style=\"text-align: right;\">\n      <th></th>\n      <th>ID de Empleado</th>\n      <th>Nombre</th>\n      <th>Apellido</th>\n      <th>Departamento</th>\n      <th>Fecha</th>\n      <th>Cantidad de Checadas</th>\n      <th>Hora</th>\n    </tr>\n  </thead>\n  <tbody>\n    <tr>\n      <th>0</th>\n      <td>R-880</td>\n      <td>AAA</td>\n      <td>SEGUNDO</td>\n      <td>MANGUERAS</td>\n      <td>01-08-2023</td>\n      <td>36</td>\n      <td>08:57:37,08:57:39,08:57:41,08:57:44,10:05:04,1...</td>\n    </tr>\n    <tr>\n      <th>1</th>\n      <td>R-880</td>\n      <td>AAA</td>\n      <td>SEGUNDO</td>\n      <td>MANGUERAS</td>\n      <td>02-08-2023</td>\n      <td>33</td>\n      <td>09:06:03,09:06:05,09:06:07,09:06:10,10:07:17,1...</td>\n    </tr>\n    <tr>\n      <th>2</th>\n      <td>R-880</td>\n      <td>AAA</td>\n      <td>SEGUNDO</td>\n      <td>MANGUERAS</td>\n      <td>03-08-2023</td>\n      <td>45</td>\n      <td>09:03:49,09:03:51,09:03:54,09:03:56,10:02:58,1...</td>\n    </tr>\n    <tr>\n      <th>3</th>\n      <td>R-880</td>\n      <td>AAA</td>\n      <td>SEGUNDO</td>\n      <td>MANGUERAS</td>\n      <td>04-08-2023</td>\n      <td>16</td>\n      <td>09:04:06,09:04:08,09:04:10,09:04:13,10:03:59,1...</td>\n    </tr>\n    <tr>\n      <th>4</th>\n      <td>R-880</td>\n      <td>AAA</td>\n      <td>SEGUNDO</td>\n      <td>MANGUERAS</td>\n      <td>07-08-2023</td>\n      <td>23</td>\n      <td>09:04:33,09:04:36,09:04:38,09:04:40,09:10:10,1...</td>\n    </tr>\n    <tr>\n      <th>...</th>\n      <td>...</td>\n      <td>...</td>\n      <td>...</td>\n      <td>...</td>\n      <td>...</td>\n      <td>...</td>\n      <td>...</td>\n    </tr>\n    <tr>\n      <th>111</th>\n      <td>P-4699</td>\n      <td>AAA</td>\n      <td>RILH</td>\n      <td>ADMON</td>\n      <td>02-08-2023</td>\n      <td>8</td>\n      <td>08:35:46,08:35:48,08:35:50,10:08:27,10:08:29,1...</td>\n    </tr>\n    <tr>\n      <th>112</th>\n      <td>P-4699</td>\n      <td>AAA</td>\n      <td>RILH</td>\n      <td>ADMON</td>\n      <td>07-08-2023</td>\n      <td>6</td>\n      <td>09:09:36,09:09:38,10:09:23,10:09:25,14:00:57,1...</td>\n    </tr>\n    <tr>\n      <th>113</th>\n      <td>P-4699</td>\n      <td>AAA</td>\n      <td>RILH</td>\n      <td>ADMON</td>\n      <td>08-08-2023</td>\n      <td>8</td>\n      <td>08:53:20,08:53:22,10:04:06,10:04:08,12:01:27,1...</td>\n    </tr>\n    <tr>\n      <th>114</th>\n      <td>P-4699</td>\n      <td>AAA</td>\n      <td>RILH</td>\n      <td>ADMON</td>\n      <td>09-08-2023</td>\n      <td>6</td>\n      <td>09:22:01,09:22:09,10:00:11,10:00:13,11:00:33,1...</td>\n    </tr>\n    <tr>\n      <th>115</th>\n      <td>P-4699</td>\n      <td>AAA</td>\n      <td>RILH</td>\n      <td>ADMON</td>\n      <td>14-08-2023</td>\n      <td>8</td>\n      <td>08:54:06,08:54:08,10:02:09,10:02:11,12:00:03,1...</td>\n    </tr>\n  </tbody>\n</table>\n<p>116 rows × 7 columns</p>\n</div>"
     },
     "execution_count": 496,
     "metadata": {},
     "output_type": "execute_result"
    }
   ],
   "source": [
    "# Convertir la columna 'Hora' en una lista de horas separadas por comas\n",
    "horas_checadas = datos['Hora'].str.split(',')\n",
    "\n",
    "# Ordenar las horas en cada fila\n",
    "horas_ordenadas = horas_checadas.apply(lambda x: sorted(x))\n",
    "# Convertir la lista ordenada de horas de nuevo a una cadena separada por comas\n",
    "horas_ordenadas_str = horas_ordenadas.apply(lambda x: ','.join(x))\n",
    "\n",
    "# Actualizar la columna 'Hora' con las horas ordenadas\n",
    "datos['Hora'] = horas_ordenadas_str\n",
    "datos"
   ],
   "metadata": {
    "collapsed": false,
    "ExecuteTime": {
     "end_time": "2024-03-12T23:11:13.877954Z",
     "start_time": "2024-03-12T23:11:13.168151Z"
    }
   }
  },
  {
   "cell_type": "code",
   "execution_count": 497,
   "outputs": [
    {
     "data": {
      "text/plain": "    ID de Empleado Nombre Apellido Departamento       Fecha  \\\n0            R-880    AAA  SEGUNDO    MANGUERAS  01-08-2023   \n1            R-880    AAA  SEGUNDO    MANGUERAS  02-08-2023   \n2            R-880    AAA  SEGUNDO    MANGUERAS  03-08-2023   \n3            R-880    AAA  SEGUNDO    MANGUERAS  04-08-2023   \n4            R-880    AAA  SEGUNDO    MANGUERAS  07-08-2023   \n..             ...    ...      ...          ...         ...   \n111         P-4699    AAA     RILH        ADMON  02-08-2023   \n112         P-4699    AAA     RILH        ADMON  07-08-2023   \n113         P-4699    AAA     RILH        ADMON  08-08-2023   \n114         P-4699    AAA     RILH        ADMON  09-08-2023   \n115         P-4699    AAA     RILH        ADMON  14-08-2023   \n\n     Cantidad de Checadas                                               Hora  \\\n0                      36  08:57:37,08:57:39,08:57:41,08:57:44,10:05:04,1...   \n1                      33  09:06:03,09:06:05,09:06:07,09:06:10,10:07:17,1...   \n2                      45  09:03:49,09:03:51,09:03:54,09:03:56,10:02:58,1...   \n3                      16  09:04:06,09:04:08,09:04:10,09:04:13,10:03:59,1...   \n4                      23  09:04:33,09:04:36,09:04:38,09:04:40,09:10:10,1...   \n..                    ...                                                ...   \n111                     8  08:35:46,08:35:48,08:35:50,10:08:27,10:08:29,1...   \n112                     6  09:09:36,09:09:38,10:09:23,10:09:25,14:00:57,1...   \n113                     8  08:53:20,08:53:22,10:04:06,10:04:08,12:01:27,1...   \n114                     6  09:22:01,09:22:09,10:00:11,10:00:13,11:00:33,1...   \n115                     8  08:54:06,08:54:08,10:02:09,10:02:11,12:00:03,1...   \n\n    Hora de entrada Hora de salida Horas totales  \n0          08:57:37       18:20:28             9  \n1          09:06:05       18:13:39             9  \n2          09:03:49       18:05:10             9  \n3          09:04:13       18:04:09             9  \n4          09:10:10       14:08:31             5  \n..              ...            ...           ...  \n111        08:35:50       11:01:01             2  \n112        09:09:38       14:00:59             5  \n113        08:53:20       14:00:14             5  \n114               F       11:00:35             F  \n115        08:54:06       14:02:43             5  \n\n[116 rows x 10 columns]",
      "text/html": "<div>\n<style scoped>\n    .dataframe tbody tr th:only-of-type {\n        vertical-align: middle;\n    }\n\n    .dataframe tbody tr th {\n        vertical-align: top;\n    }\n\n    .dataframe thead th {\n        text-align: right;\n    }\n</style>\n<table border=\"1\" class=\"dataframe\">\n  <thead>\n    <tr style=\"text-align: right;\">\n      <th></th>\n      <th>ID de Empleado</th>\n      <th>Nombre</th>\n      <th>Apellido</th>\n      <th>Departamento</th>\n      <th>Fecha</th>\n      <th>Cantidad de Checadas</th>\n      <th>Hora</th>\n      <th>Hora de entrada</th>\n      <th>Hora de salida</th>\n      <th>Horas totales</th>\n    </tr>\n  </thead>\n  <tbody>\n    <tr>\n      <th>0</th>\n      <td>R-880</td>\n      <td>AAA</td>\n      <td>SEGUNDO</td>\n      <td>MANGUERAS</td>\n      <td>01-08-2023</td>\n      <td>36</td>\n      <td>08:57:37,08:57:39,08:57:41,08:57:44,10:05:04,1...</td>\n      <td>08:57:37</td>\n      <td>18:20:28</td>\n      <td>9</td>\n    </tr>\n    <tr>\n      <th>1</th>\n      <td>R-880</td>\n      <td>AAA</td>\n      <td>SEGUNDO</td>\n      <td>MANGUERAS</td>\n      <td>02-08-2023</td>\n      <td>33</td>\n      <td>09:06:03,09:06:05,09:06:07,09:06:10,10:07:17,1...</td>\n      <td>09:06:05</td>\n      <td>18:13:39</td>\n      <td>9</td>\n    </tr>\n    <tr>\n      <th>2</th>\n      <td>R-880</td>\n      <td>AAA</td>\n      <td>SEGUNDO</td>\n      <td>MANGUERAS</td>\n      <td>03-08-2023</td>\n      <td>45</td>\n      <td>09:03:49,09:03:51,09:03:54,09:03:56,10:02:58,1...</td>\n      <td>09:03:49</td>\n      <td>18:05:10</td>\n      <td>9</td>\n    </tr>\n    <tr>\n      <th>3</th>\n      <td>R-880</td>\n      <td>AAA</td>\n      <td>SEGUNDO</td>\n      <td>MANGUERAS</td>\n      <td>04-08-2023</td>\n      <td>16</td>\n      <td>09:04:06,09:04:08,09:04:10,09:04:13,10:03:59,1...</td>\n      <td>09:04:13</td>\n      <td>18:04:09</td>\n      <td>9</td>\n    </tr>\n    <tr>\n      <th>4</th>\n      <td>R-880</td>\n      <td>AAA</td>\n      <td>SEGUNDO</td>\n      <td>MANGUERAS</td>\n      <td>07-08-2023</td>\n      <td>23</td>\n      <td>09:04:33,09:04:36,09:04:38,09:04:40,09:10:10,1...</td>\n      <td>09:10:10</td>\n      <td>14:08:31</td>\n      <td>5</td>\n    </tr>\n    <tr>\n      <th>...</th>\n      <td>...</td>\n      <td>...</td>\n      <td>...</td>\n      <td>...</td>\n      <td>...</td>\n      <td>...</td>\n      <td>...</td>\n      <td>...</td>\n      <td>...</td>\n      <td>...</td>\n    </tr>\n    <tr>\n      <th>111</th>\n      <td>P-4699</td>\n      <td>AAA</td>\n      <td>RILH</td>\n      <td>ADMON</td>\n      <td>02-08-2023</td>\n      <td>8</td>\n      <td>08:35:46,08:35:48,08:35:50,10:08:27,10:08:29,1...</td>\n      <td>08:35:50</td>\n      <td>11:01:01</td>\n      <td>2</td>\n    </tr>\n    <tr>\n      <th>112</th>\n      <td>P-4699</td>\n      <td>AAA</td>\n      <td>RILH</td>\n      <td>ADMON</td>\n      <td>07-08-2023</td>\n      <td>6</td>\n      <td>09:09:36,09:09:38,10:09:23,10:09:25,14:00:57,1...</td>\n      <td>09:09:38</td>\n      <td>14:00:59</td>\n      <td>5</td>\n    </tr>\n    <tr>\n      <th>113</th>\n      <td>P-4699</td>\n      <td>AAA</td>\n      <td>RILH</td>\n      <td>ADMON</td>\n      <td>08-08-2023</td>\n      <td>8</td>\n      <td>08:53:20,08:53:22,10:04:06,10:04:08,12:01:27,1...</td>\n      <td>08:53:20</td>\n      <td>14:00:14</td>\n      <td>5</td>\n    </tr>\n    <tr>\n      <th>114</th>\n      <td>P-4699</td>\n      <td>AAA</td>\n      <td>RILH</td>\n      <td>ADMON</td>\n      <td>09-08-2023</td>\n      <td>6</td>\n      <td>09:22:01,09:22:09,10:00:11,10:00:13,11:00:33,1...</td>\n      <td>F</td>\n      <td>11:00:35</td>\n      <td>F</td>\n    </tr>\n    <tr>\n      <th>115</th>\n      <td>P-4699</td>\n      <td>AAA</td>\n      <td>RILH</td>\n      <td>ADMON</td>\n      <td>14-08-2023</td>\n      <td>8</td>\n      <td>08:54:06,08:54:08,10:02:09,10:02:11,12:00:03,1...</td>\n      <td>08:54:06</td>\n      <td>14:02:43</td>\n      <td>5</td>\n    </tr>\n  </tbody>\n</table>\n<p>116 rows × 10 columns</p>\n</div>"
     },
     "execution_count": 497,
     "metadata": {},
     "output_type": "execute_result"
    }
   ],
   "source": [
    "# Función para encontrar la hora de entrada con una tolerancia de 20 minutos\n",
    "def encontrar_hora_entrada(horas):\n",
    "    hora_entrada = None\n",
    "    for hora in horas:\n",
    "        if pd.to_datetime(hora).hour < 9 or (pd.to_datetime(hora).hour == 9 and pd.to_datetime(hora).minute <= 20):\n",
    "            hora_entrada = hora\n",
    "            break\n",
    "    return hora_entrada if hora_entrada else 'F'\n",
    "\n",
    "\n",
    "# Función para encontrar la hora de salida (la más grande)\n",
    "def encontrar_hora_salida(horas):\n",
    "    return max(horas)\n",
    "\n",
    "\n",
    "# Función para calcular las horas totales si no hay 'F' en la columna de la hora de entrada\n",
    "def calcular_horas_totales(hora_entrada, hora_salida):\n",
    "    if hora_entrada != 'F':\n",
    "        return round((pd.to_datetime(hora_salida) - pd.to_datetime(hora_entrada)).total_seconds() / 3600)\n",
    "    else:\n",
    "        return 'F'\n",
    "\n",
    "\n",
    "# Aplicar las funciones a cada fila para generar las nuevas columnas\n",
    "datos['Hora de entrada'] = horas_checadas.apply(encontrar_hora_entrada)\n",
    "datos['Hora de salida'] = horas_checadas.apply(encontrar_hora_salida)\n",
    "datos['Horas totales'] = datos.apply(lambda x: calcular_horas_totales(x['Hora de entrada'], x['Hora de salida']),\n",
    "                                     axis=1)\n",
    "datos"
   ],
   "metadata": {
    "collapsed": false,
    "ExecuteTime": {
     "end_time": "2024-03-12T23:11:14.556447Z",
     "start_time": "2024-03-12T23:11:13.201537Z"
    }
   }
  }
 ],
 "metadata": {
  "kernelspec": {
   "display_name": "Python 3",
   "language": "python",
   "name": "python3"
  },
  "language_info": {
   "codemirror_mode": {
    "name": "ipython",
    "version": 2
   },
   "file_extension": ".py",
   "mimetype": "text/x-python",
   "name": "python",
   "nbconvert_exporter": "python",
   "pygments_lexer": "ipython2",
   "version": "2.7.6"
  }
 },
 "nbformat": 4,
 "nbformat_minor": 0
}
