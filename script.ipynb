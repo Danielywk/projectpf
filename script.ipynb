{
 "cells": [
  {
   "cell_type": "code",
   "execution_count": 2,
   "metadata": {
    "collapsed": true,
    "ExecuteTime": {
     "end_time": "2024-03-05T03:06:49.460643Z",
     "start_time": "2024-03-05T03:06:47.312076Z"
    }
   },
   "outputs": [],
   "source": [
    "# librerias\n",
    "import pandas as pd\n",
    "import random\n",
    "import numpy as np\n",
    "import matplotlib.pyplot as plt"
   ]
  },
  {
   "cell_type": "code",
   "execution_count": 29,
   "outputs": [],
   "source": [
    "datos = pd.read_excel(\"recursos/AC-1.xlsx\")"
   ],
   "metadata": {
    "collapsed": false,
    "ExecuteTime": {
     "end_time": "2024-03-05T03:38:07.484886Z",
     "start_time": "2024-03-05T03:38:07.417445Z"
    }
   }
  },
  {
   "cell_type": "code",
   "execution_count": 30,
   "outputs": [
    {
     "name": "stdout",
     "output_type": "stream",
     "text": [
      "       Unnamed: 0 Unnamed: 1       Unnamed: 2    Unnamed: 3  Unnamed: 4  \\\n",
      "0             NaN        NaN              NaN           NaN         NaN   \n",
      "1  ID de Empleado     Nombre         Apellido  Departamento       Fecha   \n",
      "2           R-880        AAA  SEGUNDO MENDOZA     MANGUERAS  01-08-2023   \n",
      "3           R-880        AAA  SEGUNDO MENDOZA     MANGUERAS  02-08-2023   \n",
      "4           R-880        AAA  SEGUNDO MENDOZA     MANGUERAS  03-08-2023   \n",
      "\n",
      "             Unnamed: 5                                         Unnamed: 6  \\\n",
      "0                   NaN                                                NaN   \n",
      "1  Cantidad de Checadas                                               Hora   \n",
      "2                    36                                           10:05:06   \n",
      "3                    33  17:30:01,14:11:32,18:09:19,12:02:07,10:07:24,1...   \n",
      "4                    45  16:00:24,15:06:38,15:08:15,15:08:17,16:00:20,1...   \n",
      "\n",
      "  Unnamed: 7 Unnamed: 8 Unnamed: 9  ... Unnamed: 32 Unnamed: 33 Unnamed: 34  \\\n",
      "0        NaN        NaN        NaN  ...         NaN         NaN         NaN   \n",
      "1        NaN        NaN        NaN  ...         NaN         NaN         NaN   \n",
      "2   10:05:08   10:05:10   08:57:37  ...    14:04:45    13:06:14    12:01:32   \n",
      "3        NaN        NaN        NaN  ...         NaN         NaN         NaN   \n",
      "4        NaN        NaN        NaN  ...         NaN         NaN         NaN   \n",
      "\n",
      "  Unnamed: 35 Unnamed: 36 Unnamed: 37 Unnamed: 38 Unnamed: 39 Unnamed: 40  \\\n",
      "0         NaN         NaN         NaN         NaN         NaN         NaN   \n",
      "1         NaN         NaN         NaN         NaN         NaN         NaN   \n",
      "2    12:01:28    08:57:44    14:04:43    14:04:50    18:15:22    12:01:30   \n",
      "3         NaN         NaN         NaN         NaN         NaN         NaN   \n",
      "4         NaN         NaN         NaN         NaN         NaN         NaN   \n",
      "\n",
      "  Unnamed: 41  \n",
      "0         NaN  \n",
      "1         NaN  \n",
      "2    08:57:39  \n",
      "3         NaN  \n",
      "4         NaN  \n",
      "\n",
      "[5 rows x 42 columns]\n"
     ]
    }
   ],
   "source": [
    "print(datos.head())"
   ],
   "metadata": {
    "collapsed": false,
    "ExecuteTime": {
     "end_time": "2024-03-05T03:38:08.063041Z",
     "start_time": "2024-03-05T03:38:08.041872Z"
    }
   }
  },
  {
   "cell_type": "markdown",
   "source": [],
   "metadata": {
    "collapsed": false
   }
  },
  {
   "cell_type": "code",
   "execution_count": 26,
   "outputs": [
    {
     "name": "stdout",
     "output_type": "stream",
     "text": [
      "         Unnamed: 0 Unnamed: 1       Unnamed: 2    Unnamed: 3  Unnamed: 4  \\\n",
      "1    ID de Empleado     Nombre         Apellido  Departamento       Fecha   \n",
      "2             R-880        AAA  SEGUNDO MENDOZA     MANGUERAS  01-08-2023   \n",
      "3             R-880        AAA  SEGUNDO MENDOZA     MANGUERAS  02-08-2023   \n",
      "4             R-880        AAA  SEGUNDO MENDOZA     MANGUERAS  03-08-2023   \n",
      "5             R-880        AAA  SEGUNDO MENDOZA     MANGUERAS  04-08-2023   \n",
      "..              ...        ...              ...           ...         ...   \n",
      "113          P-4699        AAA   RECILLAS PIÑON         ADMON  02-08-2023   \n",
      "114          P-4699        AAA   RECILLAS PIÑON         ADMON  07-08-2023   \n",
      "115          P-4699        AAA   RECILLAS PIÑON         ADMON  08-08-2023   \n",
      "116          P-4699        AAA   RECILLAS PIÑON         ADMON  09-08-2023   \n",
      "117          P-4699        AAA   RECILLAS PIÑON         ADMON  14-08-2023   \n",
      "\n",
      "               Unnamed: 5                                         Unnamed: 6  \\\n",
      "1    Cantidad de Checadas                                               Hora   \n",
      "2                      36                                           10:05:06   \n",
      "3                      33  17:30:01,14:11:32,18:09:19,12:02:07,10:07:24,1...   \n",
      "4                      45  16:00:24,15:06:38,15:08:15,15:08:17,16:00:20,1...   \n",
      "5                      16  18:03:31,16:23:10,18:03:29,18:04:09,15:05:06,1...   \n",
      "..                    ...                                                ...   \n",
      "113                     8  08:35:50,08:35:46,11:00:57,10:08:27,10:08:29,1...   \n",
      "114                     6  10:09:25,10:09:23,14:00:57,09:09:38,09:09:36,1...   \n",
      "115                     8  10:04:06,10:04:08,14:00:14,12:01:27,12:01:29,1...   \n",
      "116                     6  10:00:11,11:00:33,10:00:13,09:22:01,11:00:35,0...   \n",
      "117                     8  10:02:09,08:54:06,12:00:03,14:02:43,08:54:08,1...   \n",
      "\n",
      "    Unnamed: 7 Unnamed: 8 Unnamed: 9  ... Unnamed: 32 Unnamed: 33 Unnamed: 34  \\\n",
      "1          NaN        NaN        NaN  ...         NaN         NaN         NaN   \n",
      "2     10:05:08   10:05:10   08:57:37  ...    14:04:45    13:06:14    12:01:32   \n",
      "3          NaN        NaN        NaN  ...         NaN         NaN         NaN   \n",
      "4          NaN        NaN        NaN  ...         NaN         NaN         NaN   \n",
      "5          NaN        NaN        NaN  ...         NaN         NaN         NaN   \n",
      "..         ...        ...        ...  ...         ...         ...         ...   \n",
      "113        NaN        NaN        NaN  ...         NaN         NaN         NaN   \n",
      "114        NaN        NaN        NaN  ...         NaN         NaN         NaN   \n",
      "115        NaN        NaN        NaN  ...         NaN         NaN         NaN   \n",
      "116        NaN        NaN        NaN  ...         NaN         NaN         NaN   \n",
      "117        NaN        NaN        NaN  ...         NaN         NaN         NaN   \n",
      "\n",
      "    Unnamed: 35 Unnamed: 36 Unnamed: 37 Unnamed: 38 Unnamed: 39 Unnamed: 40  \\\n",
      "1           NaN         NaN         NaN         NaN         NaN         NaN   \n",
      "2      12:01:28    08:57:44    14:04:43    14:04:50    18:15:22    12:01:30   \n",
      "3           NaN         NaN         NaN         NaN         NaN         NaN   \n",
      "4           NaN         NaN         NaN         NaN         NaN         NaN   \n",
      "5           NaN         NaN         NaN         NaN         NaN         NaN   \n",
      "..          ...         ...         ...         ...         ...         ...   \n",
      "113         NaN         NaN         NaN         NaN         NaN         NaN   \n",
      "114         NaN         NaN         NaN         NaN         NaN         NaN   \n",
      "115         NaN         NaN         NaN         NaN         NaN         NaN   \n",
      "116         NaN         NaN         NaN         NaN         NaN         NaN   \n",
      "117         NaN         NaN         NaN         NaN         NaN         NaN   \n",
      "\n",
      "    Unnamed: 41  \n",
      "1           NaN  \n",
      "2      08:57:39  \n",
      "3           NaN  \n",
      "4           NaN  \n",
      "5           NaN  \n",
      "..          ...  \n",
      "113         NaN  \n",
      "114         NaN  \n",
      "115         NaN  \n",
      "116         NaN  \n",
      "117         NaN  \n",
      "\n",
      "[117 rows x 42 columns]\n"
     ]
    }
   ],
   "source": [
    "datos = datos.drop(datos.index[0])\n",
    "print(datos)"
   ],
   "metadata": {
    "collapsed": false,
    "ExecuteTime": {
     "end_time": "2024-03-05T03:35:02.522305Z",
     "start_time": "2024-03-05T03:35:02.492566Z"
    }
   }
  },
  {
   "cell_type": "code",
   "execution_count": 31,
   "outputs": [
    {
     "name": "stdout",
     "output_type": "stream",
     "text": [
      "1   ID de Empleado Nombre         Apellido Departamento       Fecha  \\\n",
      "0              NaN    NaN              NaN          NaN         NaN   \n",
      "1            R-880    AAA  SEGUNDO MENDOZA    MANGUERAS  01-08-2023   \n",
      "2            R-880    AAA  SEGUNDO MENDOZA    MANGUERAS  02-08-2023   \n",
      "3            R-880    AAA  SEGUNDO MENDOZA    MANGUERAS  03-08-2023   \n",
      "4            R-880    AAA  SEGUNDO MENDOZA    MANGUERAS  04-08-2023   \n",
      "..             ...    ...              ...          ...         ...   \n",
      "112         P-4699    AAA   RECILLAS PIÑON        ADMON  02-08-2023   \n",
      "113         P-4699    AAA   RECILLAS PIÑON        ADMON  07-08-2023   \n",
      "114         P-4699    AAA   RECILLAS PIÑON        ADMON  08-08-2023   \n",
      "115         P-4699    AAA   RECILLAS PIÑON        ADMON  09-08-2023   \n",
      "116         P-4699    AAA   RECILLAS PIÑON        ADMON  14-08-2023   \n",
      "\n",
      "1   Cantidad de Checadas                                               Hora  \\\n",
      "0                    NaN                                                NaN   \n",
      "1                     36                                           10:05:06   \n",
      "2                     33  17:30:01,14:11:32,18:09:19,12:02:07,10:07:24,1...   \n",
      "3                     45  16:00:24,15:06:38,15:08:15,15:08:17,16:00:20,1...   \n",
      "4                     16  18:03:31,16:23:10,18:03:29,18:04:09,15:05:06,1...   \n",
      "..                   ...                                                ...   \n",
      "112                    8  08:35:50,08:35:46,11:00:57,10:08:27,10:08:29,1...   \n",
      "113                    6  10:09:25,10:09:23,14:00:57,09:09:38,09:09:36,1...   \n",
      "114                    8  10:04:06,10:04:08,14:00:14,12:01:27,12:01:29,1...   \n",
      "115                    6  10:00:11,11:00:33,10:00:13,09:22:01,11:00:35,0...   \n",
      "116                    8  10:02:09,08:54:06,12:00:03,14:02:43,08:54:08,1...   \n",
      "\n",
      "1         NaN       NaN       NaN  ...       NaN       NaN       NaN  \\\n",
      "0         NaN       NaN       NaN  ...       NaN       NaN       NaN   \n",
      "1    10:05:08  10:05:10  08:57:37  ...  14:04:45  13:06:14  12:01:32   \n",
      "2         NaN       NaN       NaN  ...       NaN       NaN       NaN   \n",
      "3         NaN       NaN       NaN  ...       NaN       NaN       NaN   \n",
      "4         NaN       NaN       NaN  ...       NaN       NaN       NaN   \n",
      "..        ...       ...       ...  ...       ...       ...       ...   \n",
      "112       NaN       NaN       NaN  ...       NaN       NaN       NaN   \n",
      "113       NaN       NaN       NaN  ...       NaN       NaN       NaN   \n",
      "114       NaN       NaN       NaN  ...       NaN       NaN       NaN   \n",
      "115       NaN       NaN       NaN  ...       NaN       NaN       NaN   \n",
      "116       NaN       NaN       NaN  ...       NaN       NaN       NaN   \n",
      "\n",
      "1         NaN       NaN       NaN       NaN       NaN       NaN       NaN  \n",
      "0         NaN       NaN       NaN       NaN       NaN       NaN       NaN  \n",
      "1    12:01:28  08:57:44  14:04:43  14:04:50  18:15:22  12:01:30  08:57:39  \n",
      "2         NaN       NaN       NaN       NaN       NaN       NaN       NaN  \n",
      "3         NaN       NaN       NaN       NaN       NaN       NaN       NaN  \n",
      "4         NaN       NaN       NaN       NaN       NaN       NaN       NaN  \n",
      "..        ...       ...       ...       ...       ...       ...       ...  \n",
      "112       NaN       NaN       NaN       NaN       NaN       NaN       NaN  \n",
      "113       NaN       NaN       NaN       NaN       NaN       NaN       NaN  \n",
      "114       NaN       NaN       NaN       NaN       NaN       NaN       NaN  \n",
      "115       NaN       NaN       NaN       NaN       NaN       NaN       NaN  \n",
      "116       NaN       NaN       NaN       NaN       NaN       NaN       NaN  \n",
      "\n",
      "[117 rows x 42 columns]\n"
     ]
    }
   ],
   "source": [
    "# Definir la segunda fila como el encabezado\n",
    "datos.columns = datos.iloc[1]\n",
    "\n",
    "# Eliminar la segunda fila del DataFrame\n",
    "datos = datos.drop(datos.index[1])\n",
    "\n",
    "# Reiniciar el índice del DataFrame\n",
    "datos = datos.reset_index(drop=True)\n",
    "# Imprimir el DataFrame con el nuevo encabezado\n",
    "print(datos)"
   ],
   "metadata": {
    "collapsed": false,
    "ExecuteTime": {
     "end_time": "2024-03-05T03:38:17.797870Z",
     "start_time": "2024-03-05T03:38:17.775946Z"
    }
   }
  },
  {
   "cell_type": "code",
   "execution_count": 32,
   "outputs": [
    {
     "name": "stdout",
     "output_type": "stream",
     "text": [
      "1   ID de Empleado Nombre         Apellido Departamento       Fecha  \\\n",
      "1            R-880    AAA  SEGUNDO MENDOZA    MANGUERAS  01-08-2023   \n",
      "2            R-880    AAA  SEGUNDO MENDOZA    MANGUERAS  02-08-2023   \n",
      "3            R-880    AAA  SEGUNDO MENDOZA    MANGUERAS  03-08-2023   \n",
      "4            R-880    AAA  SEGUNDO MENDOZA    MANGUERAS  04-08-2023   \n",
      "5            R-880    AAA  SEGUNDO MENDOZA    MANGUERAS  07-08-2023   \n",
      "..             ...    ...              ...          ...         ...   \n",
      "112         P-4699    AAA   RECILLAS PIÑON        ADMON  02-08-2023   \n",
      "113         P-4699    AAA   RECILLAS PIÑON        ADMON  07-08-2023   \n",
      "114         P-4699    AAA   RECILLAS PIÑON        ADMON  08-08-2023   \n",
      "115         P-4699    AAA   RECILLAS PIÑON        ADMON  09-08-2023   \n",
      "116         P-4699    AAA   RECILLAS PIÑON        ADMON  14-08-2023   \n",
      "\n",
      "1   Cantidad de Checadas                                               Hora  \\\n",
      "1                     36                                           10:05:06   \n",
      "2                     33  17:30:01,14:11:32,18:09:19,12:02:07,10:07:24,1...   \n",
      "3                     45  16:00:24,15:06:38,15:08:15,15:08:17,16:00:20,1...   \n",
      "4                     16  18:03:31,16:23:10,18:03:29,18:04:09,15:05:06,1...   \n",
      "5                     23  10:04:03,10:02:40,14:08:31,14:06:38,10:02:38,0...   \n",
      "..                   ...                                                ...   \n",
      "112                    8  08:35:50,08:35:46,11:00:57,10:08:27,10:08:29,1...   \n",
      "113                    6  10:09:25,10:09:23,14:00:57,09:09:38,09:09:36,1...   \n",
      "114                    8  10:04:06,10:04:08,14:00:14,12:01:27,12:01:29,1...   \n",
      "115                    6  10:00:11,11:00:33,10:00:13,09:22:01,11:00:35,0...   \n",
      "116                    8  10:02:09,08:54:06,12:00:03,14:02:43,08:54:08,1...   \n",
      "\n",
      "1         NaN       NaN       NaN  ...       NaN       NaN       NaN  \\\n",
      "1    10:05:08  10:05:10  08:57:37  ...  14:04:45  13:06:14  12:01:32   \n",
      "2         NaN       NaN       NaN  ...       NaN       NaN       NaN   \n",
      "3         NaN       NaN       NaN  ...       NaN       NaN       NaN   \n",
      "4         NaN       NaN       NaN  ...       NaN       NaN       NaN   \n",
      "5         NaN       NaN       NaN  ...       NaN       NaN       NaN   \n",
      "..        ...       ...       ...  ...       ...       ...       ...   \n",
      "112       NaN       NaN       NaN  ...       NaN       NaN       NaN   \n",
      "113       NaN       NaN       NaN  ...       NaN       NaN       NaN   \n",
      "114       NaN       NaN       NaN  ...       NaN       NaN       NaN   \n",
      "115       NaN       NaN       NaN  ...       NaN       NaN       NaN   \n",
      "116       NaN       NaN       NaN  ...       NaN       NaN       NaN   \n",
      "\n",
      "1         NaN       NaN       NaN       NaN       NaN       NaN       NaN  \n",
      "1    12:01:28  08:57:44  14:04:43  14:04:50  18:15:22  12:01:30  08:57:39  \n",
      "2         NaN       NaN       NaN       NaN       NaN       NaN       NaN  \n",
      "3         NaN       NaN       NaN       NaN       NaN       NaN       NaN  \n",
      "4         NaN       NaN       NaN       NaN       NaN       NaN       NaN  \n",
      "5         NaN       NaN       NaN       NaN       NaN       NaN       NaN  \n",
      "..        ...       ...       ...       ...       ...       ...       ...  \n",
      "112       NaN       NaN       NaN       NaN       NaN       NaN       NaN  \n",
      "113       NaN       NaN       NaN       NaN       NaN       NaN       NaN  \n",
      "114       NaN       NaN       NaN       NaN       NaN       NaN       NaN  \n",
      "115       NaN       NaN       NaN       NaN       NaN       NaN       NaN  \n",
      "116       NaN       NaN       NaN       NaN       NaN       NaN       NaN  \n",
      "\n",
      "[116 rows x 42 columns]\n"
     ]
    }
   ],
   "source": [
    "# Eliminando el segundo indice\n",
    "datos = datos.drop(datos.index[0])\n",
    "print(datos)"
   ],
   "metadata": {
    "collapsed": false,
    "ExecuteTime": {
     "end_time": "2024-03-05T03:41:29.606987Z",
     "start_time": "2024-03-05T03:41:29.592663Z"
    }
   }
  },
  {
   "cell_type": "code",
   "execution_count": 33,
   "outputs": [
    {
     "name": "stdout",
     "output_type": "stream",
     "text": [
      "Valores faltantes por columna:\n",
      "1\n",
      "ID de Empleado            0\n",
      "Nombre                    0\n",
      "Apellido                  0\n",
      "Departamento              0\n",
      "Fecha                     0\n",
      "Cantidad de Checadas      0\n",
      "Hora                      0\n",
      "NaN                     115\n",
      "NaN                     115\n",
      "NaN                     115\n",
      "NaN                     115\n",
      "NaN                     115\n",
      "NaN                     115\n",
      "NaN                     115\n",
      "NaN                     115\n",
      "NaN                     115\n",
      "NaN                     115\n",
      "NaN                     115\n",
      "NaN                     115\n",
      "NaN                     115\n",
      "NaN                     115\n",
      "NaN                     115\n",
      "NaN                     115\n",
      "NaN                     115\n",
      "NaN                     115\n",
      "NaN                     115\n",
      "NaN                     115\n",
      "NaN                     115\n",
      "NaN                     115\n",
      "NaN                     115\n",
      "NaN                     115\n",
      "NaN                     115\n",
      "NaN                     115\n",
      "NaN                     115\n",
      "NaN                     115\n",
      "NaN                     115\n",
      "NaN                     115\n",
      "NaN                     115\n",
      "NaN                     115\n",
      "NaN                     115\n",
      "NaN                     115\n",
      "NaN                     115\n",
      "dtype: int64\n"
     ]
    }
   ],
   "source": [
    "# Identificar los valores faltantes (NA)\n",
    "valores_faltantes = datos.isna().sum()\n",
    "\n",
    "# Mostrar los valores faltantes\n",
    "print(\"Valores faltantes por columna:\")\n",
    "print(valores_faltantes)"
   ],
   "metadata": {
    "collapsed": false,
    "ExecuteTime": {
     "end_time": "2024-03-05T03:43:09.981603Z",
     "start_time": "2024-03-05T03:43:09.938801Z"
    }
   }
  },
  {
   "cell_type": "code",
   "execution_count": 27,
   "outputs": [
    {
     "name": "stdout",
     "output_type": "stream",
     "text": [
      "RangeIndex(start=1, stop=118, step=1)\n"
     ]
    }
   ],
   "source": [
    "print(datos.index)"
   ],
   "metadata": {
    "collapsed": false,
    "ExecuteTime": {
     "end_time": "2024-03-05T03:35:16.235896Z",
     "start_time": "2024-03-05T03:35:16.208562Z"
    }
   }
  },
  {
   "cell_type": "code",
   "execution_count": 34,
   "outputs": [
    {
     "data": {
      "text/plain": "1   ID de Empleado Nombre         Apellido Departamento       Fecha  \\\n1            R-880    AAA  SEGUNDO MENDOZA    MANGUERAS  01-08-2023   \n2            R-880    AAA  SEGUNDO MENDOZA    MANGUERAS  02-08-2023   \n3            R-880    AAA  SEGUNDO MENDOZA    MANGUERAS  03-08-2023   \n4            R-880    AAA  SEGUNDO MENDOZA    MANGUERAS  04-08-2023   \n5            R-880    AAA  SEGUNDO MENDOZA    MANGUERAS  07-08-2023   \n..             ...    ...              ...          ...         ...   \n112         P-4699    AAA   RECILLAS PIÑON        ADMON  02-08-2023   \n113         P-4699    AAA   RECILLAS PIÑON        ADMON  07-08-2023   \n114         P-4699    AAA   RECILLAS PIÑON        ADMON  08-08-2023   \n115         P-4699    AAA   RECILLAS PIÑON        ADMON  09-08-2023   \n116         P-4699    AAA   RECILLAS PIÑON        ADMON  14-08-2023   \n\n1   Cantidad de Checadas                                               Hora  \\\n1                     36                                           10:05:06   \n2                     33  17:30:01,14:11:32,18:09:19,12:02:07,10:07:24,1...   \n3                     45  16:00:24,15:06:38,15:08:15,15:08:17,16:00:20,1...   \n4                     16  18:03:31,16:23:10,18:03:29,18:04:09,15:05:06,1...   \n5                     23  10:04:03,10:02:40,14:08:31,14:06:38,10:02:38,0...   \n..                   ...                                                ...   \n112                    8  08:35:50,08:35:46,11:00:57,10:08:27,10:08:29,1...   \n113                    6  10:09:25,10:09:23,14:00:57,09:09:38,09:09:36,1...   \n114                    8  10:04:06,10:04:08,14:00:14,12:01:27,12:01:29,1...   \n115                    6  10:00:11,11:00:33,10:00:13,09:22:01,11:00:35,0...   \n116                    8  10:02:09,08:54:06,12:00:03,14:02:43,08:54:08,1...   \n\n1         NaN       NaN       NaN  ...       NaN       NaN       NaN  \\\n1    10:05:08  10:05:10  08:57:37  ...  14:04:45  13:06:14  12:01:32   \n2         NaN       NaN       NaN  ...       NaN       NaN       NaN   \n3         NaN       NaN       NaN  ...       NaN       NaN       NaN   \n4         NaN       NaN       NaN  ...       NaN       NaN       NaN   \n5         NaN       NaN       NaN  ...       NaN       NaN       NaN   \n..        ...       ...       ...  ...       ...       ...       ...   \n112       NaN       NaN       NaN  ...       NaN       NaN       NaN   \n113       NaN       NaN       NaN  ...       NaN       NaN       NaN   \n114       NaN       NaN       NaN  ...       NaN       NaN       NaN   \n115       NaN       NaN       NaN  ...       NaN       NaN       NaN   \n116       NaN       NaN       NaN  ...       NaN       NaN       NaN   \n\n1         NaN       NaN       NaN       NaN       NaN       NaN       NaN  \n1    12:01:28  08:57:44  14:04:43  14:04:50  18:15:22  12:01:30  08:57:39  \n2         NaN       NaN       NaN       NaN       NaN       NaN       NaN  \n3         NaN       NaN       NaN       NaN       NaN       NaN       NaN  \n4         NaN       NaN       NaN       NaN       NaN       NaN       NaN  \n5         NaN       NaN       NaN       NaN       NaN       NaN       NaN  \n..        ...       ...       ...       ...       ...       ...       ...  \n112       NaN       NaN       NaN       NaN       NaN       NaN       NaN  \n113       NaN       NaN       NaN       NaN       NaN       NaN       NaN  \n114       NaN       NaN       NaN       NaN       NaN       NaN       NaN  \n115       NaN       NaN       NaN       NaN       NaN       NaN       NaN  \n116       NaN       NaN       NaN       NaN       NaN       NaN       NaN  \n\n[116 rows x 42 columns]",
      "text/html": "<div>\n<style scoped>\n    .dataframe tbody tr th:only-of-type {\n        vertical-align: middle;\n    }\n\n    .dataframe tbody tr th {\n        vertical-align: top;\n    }\n\n    .dataframe thead th {\n        text-align: right;\n    }\n</style>\n<table border=\"1\" class=\"dataframe\">\n  <thead>\n    <tr style=\"text-align: right;\">\n      <th>1</th>\n      <th>ID de Empleado</th>\n      <th>Nombre</th>\n      <th>Apellido</th>\n      <th>Departamento</th>\n      <th>Fecha</th>\n      <th>Cantidad de Checadas</th>\n      <th>Hora</th>\n      <th>NaN</th>\n      <th>NaN</th>\n      <th>NaN</th>\n      <th>...</th>\n      <th>NaN</th>\n      <th>NaN</th>\n      <th>NaN</th>\n      <th>NaN</th>\n      <th>NaN</th>\n      <th>NaN</th>\n      <th>NaN</th>\n      <th>NaN</th>\n      <th>NaN</th>\n      <th>NaN</th>\n    </tr>\n  </thead>\n  <tbody>\n    <tr>\n      <th>1</th>\n      <td>R-880</td>\n      <td>AAA</td>\n      <td>SEGUNDO MENDOZA</td>\n      <td>MANGUERAS</td>\n      <td>01-08-2023</td>\n      <td>36</td>\n      <td>10:05:06</td>\n      <td>10:05:08</td>\n      <td>10:05:10</td>\n      <td>08:57:37</td>\n      <td>...</td>\n      <td>14:04:45</td>\n      <td>13:06:14</td>\n      <td>12:01:32</td>\n      <td>12:01:28</td>\n      <td>08:57:44</td>\n      <td>14:04:43</td>\n      <td>14:04:50</td>\n      <td>18:15:22</td>\n      <td>12:01:30</td>\n      <td>08:57:39</td>\n    </tr>\n    <tr>\n      <th>2</th>\n      <td>R-880</td>\n      <td>AAA</td>\n      <td>SEGUNDO MENDOZA</td>\n      <td>MANGUERAS</td>\n      <td>02-08-2023</td>\n      <td>33</td>\n      <td>17:30:01,14:11:32,18:09:19,12:02:07,10:07:24,1...</td>\n      <td>NaN</td>\n      <td>NaN</td>\n      <td>NaN</td>\n      <td>...</td>\n      <td>NaN</td>\n      <td>NaN</td>\n      <td>NaN</td>\n      <td>NaN</td>\n      <td>NaN</td>\n      <td>NaN</td>\n      <td>NaN</td>\n      <td>NaN</td>\n      <td>NaN</td>\n      <td>NaN</td>\n    </tr>\n    <tr>\n      <th>3</th>\n      <td>R-880</td>\n      <td>AAA</td>\n      <td>SEGUNDO MENDOZA</td>\n      <td>MANGUERAS</td>\n      <td>03-08-2023</td>\n      <td>45</td>\n      <td>16:00:24,15:06:38,15:08:15,15:08:17,16:00:20,1...</td>\n      <td>NaN</td>\n      <td>NaN</td>\n      <td>NaN</td>\n      <td>...</td>\n      <td>NaN</td>\n      <td>NaN</td>\n      <td>NaN</td>\n      <td>NaN</td>\n      <td>NaN</td>\n      <td>NaN</td>\n      <td>NaN</td>\n      <td>NaN</td>\n      <td>NaN</td>\n      <td>NaN</td>\n    </tr>\n    <tr>\n      <th>4</th>\n      <td>R-880</td>\n      <td>AAA</td>\n      <td>SEGUNDO MENDOZA</td>\n      <td>MANGUERAS</td>\n      <td>04-08-2023</td>\n      <td>16</td>\n      <td>18:03:31,16:23:10,18:03:29,18:04:09,15:05:06,1...</td>\n      <td>NaN</td>\n      <td>NaN</td>\n      <td>NaN</td>\n      <td>...</td>\n      <td>NaN</td>\n      <td>NaN</td>\n      <td>NaN</td>\n      <td>NaN</td>\n      <td>NaN</td>\n      <td>NaN</td>\n      <td>NaN</td>\n      <td>NaN</td>\n      <td>NaN</td>\n      <td>NaN</td>\n    </tr>\n    <tr>\n      <th>5</th>\n      <td>R-880</td>\n      <td>AAA</td>\n      <td>SEGUNDO MENDOZA</td>\n      <td>MANGUERAS</td>\n      <td>07-08-2023</td>\n      <td>23</td>\n      <td>10:04:03,10:02:40,14:08:31,14:06:38,10:02:38,0...</td>\n      <td>NaN</td>\n      <td>NaN</td>\n      <td>NaN</td>\n      <td>...</td>\n      <td>NaN</td>\n      <td>NaN</td>\n      <td>NaN</td>\n      <td>NaN</td>\n      <td>NaN</td>\n      <td>NaN</td>\n      <td>NaN</td>\n      <td>NaN</td>\n      <td>NaN</td>\n      <td>NaN</td>\n    </tr>\n    <tr>\n      <th>...</th>\n      <td>...</td>\n      <td>...</td>\n      <td>...</td>\n      <td>...</td>\n      <td>...</td>\n      <td>...</td>\n      <td>...</td>\n      <td>...</td>\n      <td>...</td>\n      <td>...</td>\n      <td>...</td>\n      <td>...</td>\n      <td>...</td>\n      <td>...</td>\n      <td>...</td>\n      <td>...</td>\n      <td>...</td>\n      <td>...</td>\n      <td>...</td>\n      <td>...</td>\n      <td>...</td>\n    </tr>\n    <tr>\n      <th>112</th>\n      <td>P-4699</td>\n      <td>AAA</td>\n      <td>RECILLAS PIÑON</td>\n      <td>ADMON</td>\n      <td>02-08-2023</td>\n      <td>8</td>\n      <td>08:35:50,08:35:46,11:00:57,10:08:27,10:08:29,1...</td>\n      <td>NaN</td>\n      <td>NaN</td>\n      <td>NaN</td>\n      <td>...</td>\n      <td>NaN</td>\n      <td>NaN</td>\n      <td>NaN</td>\n      <td>NaN</td>\n      <td>NaN</td>\n      <td>NaN</td>\n      <td>NaN</td>\n      <td>NaN</td>\n      <td>NaN</td>\n      <td>NaN</td>\n    </tr>\n    <tr>\n      <th>113</th>\n      <td>P-4699</td>\n      <td>AAA</td>\n      <td>RECILLAS PIÑON</td>\n      <td>ADMON</td>\n      <td>07-08-2023</td>\n      <td>6</td>\n      <td>10:09:25,10:09:23,14:00:57,09:09:38,09:09:36,1...</td>\n      <td>NaN</td>\n      <td>NaN</td>\n      <td>NaN</td>\n      <td>...</td>\n      <td>NaN</td>\n      <td>NaN</td>\n      <td>NaN</td>\n      <td>NaN</td>\n      <td>NaN</td>\n      <td>NaN</td>\n      <td>NaN</td>\n      <td>NaN</td>\n      <td>NaN</td>\n      <td>NaN</td>\n    </tr>\n    <tr>\n      <th>114</th>\n      <td>P-4699</td>\n      <td>AAA</td>\n      <td>RECILLAS PIÑON</td>\n      <td>ADMON</td>\n      <td>08-08-2023</td>\n      <td>8</td>\n      <td>10:04:06,10:04:08,14:00:14,12:01:27,12:01:29,1...</td>\n      <td>NaN</td>\n      <td>NaN</td>\n      <td>NaN</td>\n      <td>...</td>\n      <td>NaN</td>\n      <td>NaN</td>\n      <td>NaN</td>\n      <td>NaN</td>\n      <td>NaN</td>\n      <td>NaN</td>\n      <td>NaN</td>\n      <td>NaN</td>\n      <td>NaN</td>\n      <td>NaN</td>\n    </tr>\n    <tr>\n      <th>115</th>\n      <td>P-4699</td>\n      <td>AAA</td>\n      <td>RECILLAS PIÑON</td>\n      <td>ADMON</td>\n      <td>09-08-2023</td>\n      <td>6</td>\n      <td>10:00:11,11:00:33,10:00:13,09:22:01,11:00:35,0...</td>\n      <td>NaN</td>\n      <td>NaN</td>\n      <td>NaN</td>\n      <td>...</td>\n      <td>NaN</td>\n      <td>NaN</td>\n      <td>NaN</td>\n      <td>NaN</td>\n      <td>NaN</td>\n      <td>NaN</td>\n      <td>NaN</td>\n      <td>NaN</td>\n      <td>NaN</td>\n      <td>NaN</td>\n    </tr>\n    <tr>\n      <th>116</th>\n      <td>P-4699</td>\n      <td>AAA</td>\n      <td>RECILLAS PIÑON</td>\n      <td>ADMON</td>\n      <td>14-08-2023</td>\n      <td>8</td>\n      <td>10:02:09,08:54:06,12:00:03,14:02:43,08:54:08,1...</td>\n      <td>NaN</td>\n      <td>NaN</td>\n      <td>NaN</td>\n      <td>...</td>\n      <td>NaN</td>\n      <td>NaN</td>\n      <td>NaN</td>\n      <td>NaN</td>\n      <td>NaN</td>\n      <td>NaN</td>\n      <td>NaN</td>\n      <td>NaN</td>\n      <td>NaN</td>\n      <td>NaN</td>\n    </tr>\n  </tbody>\n</table>\n<p>116 rows × 42 columns</p>\n</div>"
     },
     "execution_count": 34,
     "metadata": {},
     "output_type": "execute_result"
    }
   ],
   "source": [
    "datos"
   ],
   "metadata": {
    "collapsed": false,
    "ExecuteTime": {
     "end_time": "2024-03-05T03:45:32.718082Z",
     "start_time": "2024-03-05T03:45:32.670919Z"
    }
   }
  },
  {
   "cell_type": "code",
   "execution_count": null,
   "outputs": [],
   "source": [],
   "metadata": {
    "collapsed": false
   }
  }
 ],
 "metadata": {
  "kernelspec": {
   "display_name": "Python 3",
   "language": "python",
   "name": "python3"
  },
  "language_info": {
   "codemirror_mode": {
    "name": "ipython",
    "version": 2
   },
   "file_extension": ".py",
   "mimetype": "text/x-python",
   "name": "python",
   "nbconvert_exporter": "python",
   "pygments_lexer": "ipython2",
   "version": "2.7.6"
  }
 },
 "nbformat": 4,
 "nbformat_minor": 0
}
