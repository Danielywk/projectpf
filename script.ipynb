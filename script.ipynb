{
 "cells": [
  {
   "cell_type": "code",
   "execution_count": 122,
   "metadata": {
    "collapsed": true,
    "ExecuteTime": {
     "end_time": "2024-05-12T22:08:57.214533Z",
     "start_time": "2024-05-12T22:08:57.153803Z"
    }
   },
   "outputs": [],
   "source": [
    "# librerias\n",
    "import pandas as pd\n",
    "from datetime import datetime"
   ]
  },
  {
   "cell_type": "code",
   "execution_count": 146,
   "outputs": [],
   "source": [
    "datos = pd.read_excel(\"recursos/pruebas.xlsm\")"
   ],
   "metadata": {
    "collapsed": false,
    "ExecuteTime": {
     "end_time": "2024-05-13T02:16:53.355420Z",
     "start_time": "2024-05-13T02:16:53.227470Z"
    }
   }
  },
  {
   "cell_type": "code",
   "execution_count": 147,
   "outputs": [
    {
     "name": "stdout",
     "output_type": "stream",
     "text": [
      "       Unnamed: 0 Unnamed: 1 Unnamed: 2    Unnamed: 3  Unnamed: 4  \\\n",
      "0             NaN        NaN        NaN           NaN         NaN   \n",
      "1  ID de Empleado     Nombre   Apellido  Departamento       Fecha   \n",
      "2           R-880        AAA    SEGUNDO     MANGUERAS  01-08-2023   \n",
      "3           R-880        AAA    SEGUNDO     MANGUERAS  02-08-2023   \n",
      "4           R-880        AAA    SEGUNDO     MANGUERAS  03-08-2023   \n",
      "\n",
      "             Unnamed: 5                                         Unnamed: 6  \\\n",
      "0                   NaN                                                NaN   \n",
      "1  Cantidad de Checadas                                               Hora   \n",
      "2                    36  10:05:06,10:05:08,10:05:10,08:57:37,18:20:28,1...   \n",
      "3                    33  17:30:01,14:11:32,18:09:19,12:02:07,10:07:24,1...   \n",
      "4                    45  16:00:24,15:06:38,15:08:15,15:08:17,16:00:20,1...   \n",
      "\n",
      "   Unnamed: 7 Unnamed: 8 Unnamed: 9  ... Unnamed: 43 Unnamed: 44 Unnamed: 45  \\\n",
      "0         NaN        NaN        NaN  ...         NaN         NaN         NaN   \n",
      "1         NaN       Hora        NaN  ...         NaN         NaN         NaN   \n",
      "2         NaN   10:05:06   10:05:08  ...    08:57:39         NaN         NaN   \n",
      "3         NaN   17:30:01   14:11:32  ...         NaN         NaN         NaN   \n",
      "4         NaN   16:00:24   15:06:38  ...    13:01:55    13:01:57    13:12:00   \n",
      "\n",
      "  Unnamed: 46 Unnamed: 47 Unnamed: 48 Unnamed: 49 Unnamed: 50 Unnamed: 51  \\\n",
      "0         NaN         NaN         NaN         NaN         NaN         NaN   \n",
      "1         NaN         NaN         NaN         NaN         NaN         NaN   \n",
      "2         NaN         NaN         NaN         NaN         NaN         NaN   \n",
      "3         NaN         NaN         NaN         NaN         NaN         NaN   \n",
      "4    13:12:02    13:11:57    13:12:04    14:04:27    14:04:29    14:04:31   \n",
      "\n",
      "  Unnamed: 52  \n",
      "0         NaN  \n",
      "1         NaN  \n",
      "2         NaN  \n",
      "3         NaN  \n",
      "4    14:04:33  \n",
      "\n",
      "[5 rows x 53 columns]\n"
     ]
    },
    {
     "data": {
      "text/plain": "         Unnamed: 0 Unnamed: 1 Unnamed: 2    Unnamed: 3  Unnamed: 4  \\\n0               NaN        NaN        NaN           NaN         NaN   \n1    ID de Empleado     Nombre   Apellido  Departamento       Fecha   \n2             R-880        AAA    SEGUNDO     MANGUERAS  01-08-2023   \n3             R-880        AAA    SEGUNDO     MANGUERAS  02-08-2023   \n4             R-880        AAA    SEGUNDO     MANGUERAS  03-08-2023   \n..              ...        ...        ...           ...         ...   \n113          P-4699        AAA       RILH         ADMON  02-08-2023   \n114          P-4699        AAA       RILH         ADMON  07-08-2023   \n115          P-4699        AAA       RILH         ADMON  08-08-2023   \n116          P-4699        AAA       RILH         ADMON  09-08-2023   \n117          P-4699        AAA       RILH         ADMON  14-08-2023   \n\n               Unnamed: 5                                         Unnamed: 6  \\\n0                     NaN                                                NaN   \n1    Cantidad de Checadas                                               Hora   \n2                      36  10:05:06,10:05:08,10:05:10,08:57:37,18:20:28,1...   \n3                      33  17:30:01,14:11:32,18:09:19,12:02:07,10:07:24,1...   \n4                      45  16:00:24,15:06:38,15:08:15,15:08:17,16:00:20,1...   \n..                    ...                                                ...   \n113                     8  08:35:50,08:35:46,11:00:57,10:08:27,10:08:29,1...   \n114                     6  10:09:25,10:09:23,14:00:57,09:09:38,09:09:36,1...   \n115                     8  10:04:06,10:04:08,14:00:14,12:01:27,12:01:29,1...   \n116                     6  10:00:11,11:00:33,10:00:13,09:22:01,11:00:35,0...   \n117                     8  10:02:09,08:54:06,12:00:03,14:02:43,08:54:08,1...   \n\n     Unnamed: 7 Unnamed: 8 Unnamed: 9  ... Unnamed: 43 Unnamed: 44  \\\n0           NaN        NaN        NaN  ...         NaN         NaN   \n1           NaN       Hora        NaN  ...         NaN         NaN   \n2           NaN   10:05:06   10:05:08  ...    08:57:39         NaN   \n3           NaN   17:30:01   14:11:32  ...         NaN         NaN   \n4           NaN   16:00:24   15:06:38  ...    13:01:55    13:01:57   \n..          ...        ...        ...  ...         ...         ...   \n113         NaN   08:35:50   08:35:46  ...         NaN         NaN   \n114         NaN   10:09:25   10:09:23  ...         NaN         NaN   \n115         NaN   10:04:06   10:04:08  ...         NaN         NaN   \n116         NaN   10:00:11   11:00:33  ...         NaN         NaN   \n117         NaN   10:02:09   08:54:06  ...         NaN         NaN   \n\n    Unnamed: 45 Unnamed: 46 Unnamed: 47 Unnamed: 48 Unnamed: 49 Unnamed: 50  \\\n0           NaN         NaN         NaN         NaN         NaN         NaN   \n1           NaN         NaN         NaN         NaN         NaN         NaN   \n2           NaN         NaN         NaN         NaN         NaN         NaN   \n3           NaN         NaN         NaN         NaN         NaN         NaN   \n4      13:12:00    13:12:02    13:11:57    13:12:04    14:04:27    14:04:29   \n..          ...         ...         ...         ...         ...         ...   \n113         NaN         NaN         NaN         NaN         NaN         NaN   \n114         NaN         NaN         NaN         NaN         NaN         NaN   \n115         NaN         NaN         NaN         NaN         NaN         NaN   \n116         NaN         NaN         NaN         NaN         NaN         NaN   \n117         NaN         NaN         NaN         NaN         NaN         NaN   \n\n    Unnamed: 51 Unnamed: 52  \n0           NaN         NaN  \n1           NaN         NaN  \n2           NaN         NaN  \n3           NaN         NaN  \n4      14:04:31    14:04:33  \n..          ...         ...  \n113         NaN         NaN  \n114         NaN         NaN  \n115         NaN         NaN  \n116         NaN         NaN  \n117         NaN         NaN  \n\n[118 rows x 53 columns]",
      "text/html": "<div>\n<style scoped>\n    .dataframe tbody tr th:only-of-type {\n        vertical-align: middle;\n    }\n\n    .dataframe tbody tr th {\n        vertical-align: top;\n    }\n\n    .dataframe thead th {\n        text-align: right;\n    }\n</style>\n<table border=\"1\" class=\"dataframe\">\n  <thead>\n    <tr style=\"text-align: right;\">\n      <th></th>\n      <th>Unnamed: 0</th>\n      <th>Unnamed: 1</th>\n      <th>Unnamed: 2</th>\n      <th>Unnamed: 3</th>\n      <th>Unnamed: 4</th>\n      <th>Unnamed: 5</th>\n      <th>Unnamed: 6</th>\n      <th>Unnamed: 7</th>\n      <th>Unnamed: 8</th>\n      <th>Unnamed: 9</th>\n      <th>...</th>\n      <th>Unnamed: 43</th>\n      <th>Unnamed: 44</th>\n      <th>Unnamed: 45</th>\n      <th>Unnamed: 46</th>\n      <th>Unnamed: 47</th>\n      <th>Unnamed: 48</th>\n      <th>Unnamed: 49</th>\n      <th>Unnamed: 50</th>\n      <th>Unnamed: 51</th>\n      <th>Unnamed: 52</th>\n    </tr>\n  </thead>\n  <tbody>\n    <tr>\n      <th>0</th>\n      <td>NaN</td>\n      <td>NaN</td>\n      <td>NaN</td>\n      <td>NaN</td>\n      <td>NaN</td>\n      <td>NaN</td>\n      <td>NaN</td>\n      <td>NaN</td>\n      <td>NaN</td>\n      <td>NaN</td>\n      <td>...</td>\n      <td>NaN</td>\n      <td>NaN</td>\n      <td>NaN</td>\n      <td>NaN</td>\n      <td>NaN</td>\n      <td>NaN</td>\n      <td>NaN</td>\n      <td>NaN</td>\n      <td>NaN</td>\n      <td>NaN</td>\n    </tr>\n    <tr>\n      <th>1</th>\n      <td>ID de Empleado</td>\n      <td>Nombre</td>\n      <td>Apellido</td>\n      <td>Departamento</td>\n      <td>Fecha</td>\n      <td>Cantidad de Checadas</td>\n      <td>Hora</td>\n      <td>NaN</td>\n      <td>Hora</td>\n      <td>NaN</td>\n      <td>...</td>\n      <td>NaN</td>\n      <td>NaN</td>\n      <td>NaN</td>\n      <td>NaN</td>\n      <td>NaN</td>\n      <td>NaN</td>\n      <td>NaN</td>\n      <td>NaN</td>\n      <td>NaN</td>\n      <td>NaN</td>\n    </tr>\n    <tr>\n      <th>2</th>\n      <td>R-880</td>\n      <td>AAA</td>\n      <td>SEGUNDO</td>\n      <td>MANGUERAS</td>\n      <td>01-08-2023</td>\n      <td>36</td>\n      <td>10:05:06,10:05:08,10:05:10,08:57:37,18:20:28,1...</td>\n      <td>NaN</td>\n      <td>10:05:06</td>\n      <td>10:05:08</td>\n      <td>...</td>\n      <td>08:57:39</td>\n      <td>NaN</td>\n      <td>NaN</td>\n      <td>NaN</td>\n      <td>NaN</td>\n      <td>NaN</td>\n      <td>NaN</td>\n      <td>NaN</td>\n      <td>NaN</td>\n      <td>NaN</td>\n    </tr>\n    <tr>\n      <th>3</th>\n      <td>R-880</td>\n      <td>AAA</td>\n      <td>SEGUNDO</td>\n      <td>MANGUERAS</td>\n      <td>02-08-2023</td>\n      <td>33</td>\n      <td>17:30:01,14:11:32,18:09:19,12:02:07,10:07:24,1...</td>\n      <td>NaN</td>\n      <td>17:30:01</td>\n      <td>14:11:32</td>\n      <td>...</td>\n      <td>NaN</td>\n      <td>NaN</td>\n      <td>NaN</td>\n      <td>NaN</td>\n      <td>NaN</td>\n      <td>NaN</td>\n      <td>NaN</td>\n      <td>NaN</td>\n      <td>NaN</td>\n      <td>NaN</td>\n    </tr>\n    <tr>\n      <th>4</th>\n      <td>R-880</td>\n      <td>AAA</td>\n      <td>SEGUNDO</td>\n      <td>MANGUERAS</td>\n      <td>03-08-2023</td>\n      <td>45</td>\n      <td>16:00:24,15:06:38,15:08:15,15:08:17,16:00:20,1...</td>\n      <td>NaN</td>\n      <td>16:00:24</td>\n      <td>15:06:38</td>\n      <td>...</td>\n      <td>13:01:55</td>\n      <td>13:01:57</td>\n      <td>13:12:00</td>\n      <td>13:12:02</td>\n      <td>13:11:57</td>\n      <td>13:12:04</td>\n      <td>14:04:27</td>\n      <td>14:04:29</td>\n      <td>14:04:31</td>\n      <td>14:04:33</td>\n    </tr>\n    <tr>\n      <th>...</th>\n      <td>...</td>\n      <td>...</td>\n      <td>...</td>\n      <td>...</td>\n      <td>...</td>\n      <td>...</td>\n      <td>...</td>\n      <td>...</td>\n      <td>...</td>\n      <td>...</td>\n      <td>...</td>\n      <td>...</td>\n      <td>...</td>\n      <td>...</td>\n      <td>...</td>\n      <td>...</td>\n      <td>...</td>\n      <td>...</td>\n      <td>...</td>\n      <td>...</td>\n      <td>...</td>\n    </tr>\n    <tr>\n      <th>113</th>\n      <td>P-4699</td>\n      <td>AAA</td>\n      <td>RILH</td>\n      <td>ADMON</td>\n      <td>02-08-2023</td>\n      <td>8</td>\n      <td>08:35:50,08:35:46,11:00:57,10:08:27,10:08:29,1...</td>\n      <td>NaN</td>\n      <td>08:35:50</td>\n      <td>08:35:46</td>\n      <td>...</td>\n      <td>NaN</td>\n      <td>NaN</td>\n      <td>NaN</td>\n      <td>NaN</td>\n      <td>NaN</td>\n      <td>NaN</td>\n      <td>NaN</td>\n      <td>NaN</td>\n      <td>NaN</td>\n      <td>NaN</td>\n    </tr>\n    <tr>\n      <th>114</th>\n      <td>P-4699</td>\n      <td>AAA</td>\n      <td>RILH</td>\n      <td>ADMON</td>\n      <td>07-08-2023</td>\n      <td>6</td>\n      <td>10:09:25,10:09:23,14:00:57,09:09:38,09:09:36,1...</td>\n      <td>NaN</td>\n      <td>10:09:25</td>\n      <td>10:09:23</td>\n      <td>...</td>\n      <td>NaN</td>\n      <td>NaN</td>\n      <td>NaN</td>\n      <td>NaN</td>\n      <td>NaN</td>\n      <td>NaN</td>\n      <td>NaN</td>\n      <td>NaN</td>\n      <td>NaN</td>\n      <td>NaN</td>\n    </tr>\n    <tr>\n      <th>115</th>\n      <td>P-4699</td>\n      <td>AAA</td>\n      <td>RILH</td>\n      <td>ADMON</td>\n      <td>08-08-2023</td>\n      <td>8</td>\n      <td>10:04:06,10:04:08,14:00:14,12:01:27,12:01:29,1...</td>\n      <td>NaN</td>\n      <td>10:04:06</td>\n      <td>10:04:08</td>\n      <td>...</td>\n      <td>NaN</td>\n      <td>NaN</td>\n      <td>NaN</td>\n      <td>NaN</td>\n      <td>NaN</td>\n      <td>NaN</td>\n      <td>NaN</td>\n      <td>NaN</td>\n      <td>NaN</td>\n      <td>NaN</td>\n    </tr>\n    <tr>\n      <th>116</th>\n      <td>P-4699</td>\n      <td>AAA</td>\n      <td>RILH</td>\n      <td>ADMON</td>\n      <td>09-08-2023</td>\n      <td>6</td>\n      <td>10:00:11,11:00:33,10:00:13,09:22:01,11:00:35,0...</td>\n      <td>NaN</td>\n      <td>10:00:11</td>\n      <td>11:00:33</td>\n      <td>...</td>\n      <td>NaN</td>\n      <td>NaN</td>\n      <td>NaN</td>\n      <td>NaN</td>\n      <td>NaN</td>\n      <td>NaN</td>\n      <td>NaN</td>\n      <td>NaN</td>\n      <td>NaN</td>\n      <td>NaN</td>\n    </tr>\n    <tr>\n      <th>117</th>\n      <td>P-4699</td>\n      <td>AAA</td>\n      <td>RILH</td>\n      <td>ADMON</td>\n      <td>14-08-2023</td>\n      <td>8</td>\n      <td>10:02:09,08:54:06,12:00:03,14:02:43,08:54:08,1...</td>\n      <td>NaN</td>\n      <td>10:02:09</td>\n      <td>08:54:06</td>\n      <td>...</td>\n      <td>NaN</td>\n      <td>NaN</td>\n      <td>NaN</td>\n      <td>NaN</td>\n      <td>NaN</td>\n      <td>NaN</td>\n      <td>NaN</td>\n      <td>NaN</td>\n      <td>NaN</td>\n      <td>NaN</td>\n    </tr>\n  </tbody>\n</table>\n<p>118 rows × 53 columns</p>\n</div>"
     },
     "execution_count": 147,
     "metadata": {},
     "output_type": "execute_result"
    }
   ],
   "source": [
    "print(datos.head())\n",
    "datos"
   ],
   "metadata": {
    "collapsed": false,
    "ExecuteTime": {
     "end_time": "2024-05-13T02:16:56.309558Z",
     "start_time": "2024-05-13T02:16:56.286961Z"
    }
   }
  },
  {
   "cell_type": "markdown",
   "source": [],
   "metadata": {
    "collapsed": false
   }
  },
  {
   "cell_type": "code",
   "execution_count": 125,
   "outputs": [
    {
     "name": "stdout",
     "output_type": "stream",
     "text": [
      "         Unnamed: 0 Unnamed: 1 Unnamed: 2    Unnamed: 3  Unnamed: 4  \\\n",
      "1    ID de Empleado     Nombre   Apellido  Departamento       Fecha   \n",
      "2             R-880        AAA    SEGUNDO     MANGUERAS  01-08-2023   \n",
      "3             R-880        AAA    SEGUNDO     MANGUERAS  02-08-2023   \n",
      "4             R-880        AAA    SEGUNDO     MANGUERAS  03-08-2023   \n",
      "5             R-880        AAA    SEGUNDO     MANGUERAS  04-08-2023   \n",
      "..              ...        ...        ...           ...         ...   \n",
      "113          P-4699        AAA       RILH         ADMON  02-08-2023   \n",
      "114          P-4699        AAA       RILH         ADMON  07-08-2023   \n",
      "115          P-4699        AAA       RILH         ADMON  08-08-2023   \n",
      "116          P-4699        AAA       RILH         ADMON  09-08-2023   \n",
      "117          P-4699        AAA       RILH         ADMON  14-08-2023   \n",
      "\n",
      "               Unnamed: 5                                         Unnamed: 6  \\\n",
      "1    Cantidad de Checadas                                               Hora   \n",
      "2                      36  10:05:06,10:05:08,10:05:10,08:57:37,18:20:28,1...   \n",
      "3                      33  17:30:01,14:11:32,18:09:19,12:02:07,10:07:24,1...   \n",
      "4                      45  16:00:24,15:06:38,15:08:15,15:08:17,16:00:20,1...   \n",
      "5                      16  18:03:31,16:23:10,18:03:29,18:04:09,15:05:06,1...   \n",
      "..                    ...                                                ...   \n",
      "113                     8  08:35:50,08:35:46,11:00:57,10:08:27,10:08:29,1...   \n",
      "114                     6  10:09:25,10:09:23,14:00:57,09:09:38,09:09:36,1...   \n",
      "115                     8  10:04:06,10:04:08,14:00:14,12:01:27,12:01:29,1...   \n",
      "116                     6  10:00:11,11:00:33,10:00:13,09:22:01,11:00:35,0...   \n",
      "117                     8  10:02:09,08:54:06,12:00:03,14:02:43,08:54:08,1...   \n",
      "\n",
      "     Unnamed: 7 Unnamed: 8 Unnamed: 9  ... Unnamed: 43 Unnamed: 44  \\\n",
      "1           NaN       Hora        NaN  ...         NaN         NaN   \n",
      "2           NaN   10:05:06   10:05:08  ...    08:57:39         NaN   \n",
      "3           NaN   17:30:01   14:11:32  ...         NaN         NaN   \n",
      "4           NaN   16:00:24   15:06:38  ...    13:01:55    13:01:57   \n",
      "5           NaN   18:03:31   16:23:10  ...         NaN         NaN   \n",
      "..          ...        ...        ...  ...         ...         ...   \n",
      "113         NaN   08:35:50   08:35:46  ...         NaN         NaN   \n",
      "114         NaN   10:09:25   10:09:23  ...         NaN         NaN   \n",
      "115         NaN   10:04:06   10:04:08  ...         NaN         NaN   \n",
      "116         NaN   10:00:11   11:00:33  ...         NaN         NaN   \n",
      "117         NaN   10:02:09   08:54:06  ...         NaN         NaN   \n",
      "\n",
      "    Unnamed: 45 Unnamed: 46 Unnamed: 47 Unnamed: 48 Unnamed: 49 Unnamed: 50  \\\n",
      "1           NaN         NaN         NaN         NaN         NaN         NaN   \n",
      "2           NaN         NaN         NaN         NaN         NaN         NaN   \n",
      "3           NaN         NaN         NaN         NaN         NaN         NaN   \n",
      "4      13:12:00    13:12:02    13:11:57    13:12:04    14:04:27    14:04:29   \n",
      "5           NaN         NaN         NaN         NaN         NaN         NaN   \n",
      "..          ...         ...         ...         ...         ...         ...   \n",
      "113         NaN         NaN         NaN         NaN         NaN         NaN   \n",
      "114         NaN         NaN         NaN         NaN         NaN         NaN   \n",
      "115         NaN         NaN         NaN         NaN         NaN         NaN   \n",
      "116         NaN         NaN         NaN         NaN         NaN         NaN   \n",
      "117         NaN         NaN         NaN         NaN         NaN         NaN   \n",
      "\n",
      "    Unnamed: 51 Unnamed: 52  \n",
      "1           NaN         NaN  \n",
      "2           NaN         NaN  \n",
      "3           NaN         NaN  \n",
      "4      14:04:31    14:04:33  \n",
      "5           NaN         NaN  \n",
      "..          ...         ...  \n",
      "113         NaN         NaN  \n",
      "114         NaN         NaN  \n",
      "115         NaN         NaN  \n",
      "116         NaN         NaN  \n",
      "117         NaN         NaN  \n",
      "\n",
      "[117 rows x 53 columns]\n"
     ]
    }
   ],
   "source": [
    "datos = datos.drop(datos.index[0])\n",
    "print(datos)"
   ],
   "metadata": {
    "collapsed": false,
    "ExecuteTime": {
     "end_time": "2024-05-12T22:08:57.399170Z",
     "start_time": "2024-05-12T22:08:57.277802Z"
    }
   }
  },
  {
   "cell_type": "code",
   "execution_count": 126,
   "outputs": [
    {
     "name": "stdout",
     "output_type": "stream",
     "text": [
      "1   ID de Empleado Nombre Apellido Departamento       Fecha  \\\n",
      "0            R-880    AAA  SEGUNDO    MANGUERAS  01-08-2023   \n",
      "1            R-880    AAA  SEGUNDO    MANGUERAS  02-08-2023   \n",
      "2            R-880    AAA  SEGUNDO    MANGUERAS  03-08-2023   \n",
      "3            R-880    AAA  SEGUNDO    MANGUERAS  04-08-2023   \n",
      "4            R-880    AAA  SEGUNDO    MANGUERAS  07-08-2023   \n",
      "..             ...    ...      ...          ...         ...   \n",
      "111         P-4699    AAA     RILH        ADMON  02-08-2023   \n",
      "112         P-4699    AAA     RILH        ADMON  07-08-2023   \n",
      "113         P-4699    AAA     RILH        ADMON  08-08-2023   \n",
      "114         P-4699    AAA     RILH        ADMON  09-08-2023   \n",
      "115         P-4699    AAA     RILH        ADMON  14-08-2023   \n",
      "\n",
      "1   Cantidad de Checadas                                               Hora  \\\n",
      "0                     36  10:05:06,10:05:08,10:05:10,08:57:37,18:20:28,1...   \n",
      "1                     33  17:30:01,14:11:32,18:09:19,12:02:07,10:07:24,1...   \n",
      "2                     45  16:00:24,15:06:38,15:08:15,15:08:17,16:00:20,1...   \n",
      "3                     16  18:03:31,16:23:10,18:03:29,18:04:09,15:05:06,1...   \n",
      "4                     23  10:04:03,10:02:40,14:08:31,14:06:38,10:02:38,0...   \n",
      "..                   ...                                                ...   \n",
      "111                    8  08:35:50,08:35:46,11:00:57,10:08:27,10:08:29,1...   \n",
      "112                    6  10:09:25,10:09:23,14:00:57,09:09:38,09:09:36,1...   \n",
      "113                    8  10:04:06,10:04:08,14:00:14,12:01:27,12:01:29,1...   \n",
      "114                    6  10:00:11,11:00:33,10:00:13,09:22:01,11:00:35,0...   \n",
      "115                    8  10:02:09,08:54:06,12:00:03,14:02:43,08:54:08,1...   \n",
      "\n",
      "1   NaN      Hora       NaN  ...       NaN       NaN       NaN       NaN  \\\n",
      "0   NaN  10:05:06  10:05:08  ...  08:57:39       NaN       NaN       NaN   \n",
      "1   NaN  17:30:01  14:11:32  ...       NaN       NaN       NaN       NaN   \n",
      "2   NaN  16:00:24  15:06:38  ...  13:01:55  13:01:57  13:12:00  13:12:02   \n",
      "3   NaN  18:03:31  16:23:10  ...       NaN       NaN       NaN       NaN   \n",
      "4   NaN  10:04:03  10:02:40  ...       NaN       NaN       NaN       NaN   \n",
      "..   ..       ...       ...  ...       ...       ...       ...       ...   \n",
      "111 NaN  08:35:50  08:35:46  ...       NaN       NaN       NaN       NaN   \n",
      "112 NaN  10:09:25  10:09:23  ...       NaN       NaN       NaN       NaN   \n",
      "113 NaN  10:04:06  10:04:08  ...       NaN       NaN       NaN       NaN   \n",
      "114 NaN  10:00:11  11:00:33  ...       NaN       NaN       NaN       NaN   \n",
      "115 NaN  10:02:09  08:54:06  ...       NaN       NaN       NaN       NaN   \n",
      "\n",
      "1         NaN       NaN       NaN       NaN       NaN       NaN  \n",
      "0         NaN       NaN       NaN       NaN       NaN       NaN  \n",
      "1         NaN       NaN       NaN       NaN       NaN       NaN  \n",
      "2    13:11:57  13:12:04  14:04:27  14:04:29  14:04:31  14:04:33  \n",
      "3         NaN       NaN       NaN       NaN       NaN       NaN  \n",
      "4         NaN       NaN       NaN       NaN       NaN       NaN  \n",
      "..        ...       ...       ...       ...       ...       ...  \n",
      "111       NaN       NaN       NaN       NaN       NaN       NaN  \n",
      "112       NaN       NaN       NaN       NaN       NaN       NaN  \n",
      "113       NaN       NaN       NaN       NaN       NaN       NaN  \n",
      "114       NaN       NaN       NaN       NaN       NaN       NaN  \n",
      "115       NaN       NaN       NaN       NaN       NaN       NaN  \n",
      "\n",
      "[116 rows x 53 columns]\n"
     ]
    }
   ],
   "source": [
    "# Definir la segunda fila como el encabezado\n",
    "datos.columns = datos.iloc[0]\n",
    "\n",
    "# Eliminar la segunda fila del DataFrame\n",
    "datos = datos.drop(datos.index[0])\n",
    "\n",
    "# Reiniciar el índice del DataFrame\n",
    "datos = datos.reset_index(drop=True)\n",
    "# Imprimir el DataFrame con el nuevo encabezado\n",
    "print(datos)"
   ],
   "metadata": {
    "collapsed": false,
    "ExecuteTime": {
     "end_time": "2024-05-12T22:08:57.402687Z",
     "start_time": "2024-05-12T22:08:57.307489Z"
    }
   }
  },
  {
   "cell_type": "code",
   "execution_count": 127,
   "outputs": [
    {
     "name": "stdout",
     "output_type": "stream",
     "text": [
      "Valores faltantes por columna:\n",
      "1\n",
      "ID de Empleado            0\n",
      "Nombre                    0\n",
      "Apellido                  0\n",
      "Departamento              0\n",
      "Fecha                     0\n",
      "Cantidad de Checadas      0\n",
      "Hora                      0\n",
      "NaN                     116\n",
      "Hora                      0\n",
      "NaN                       0\n",
      "NaN                       2\n",
      "NaN                       2\n",
      "NaN                      10\n",
      "NaN                      13\n",
      "NaN                      20\n",
      "NaN                      29\n",
      "NaN                      38\n",
      "NaN                      40\n",
      "NaN                      57\n",
      "NaN                      63\n",
      "NaN                      74\n",
      "NaN                      76\n",
      "NaN                      83\n",
      "NaN                      88\n",
      "NaN                      91\n",
      "NaN                      93\n",
      "NaN                      96\n",
      "NaN                      96\n",
      "NaN                     100\n",
      "NaN                     101\n",
      "NaN                     102\n",
      "NaN                     103\n",
      "NaN                     107\n",
      "NaN                     107\n",
      "NaN                     108\n",
      "NaN                     109\n",
      "NaN                     109\n",
      "NaN                     109\n",
      "NaN                     109\n",
      "NaN                     110\n",
      "NaN                     111\n",
      "NaN                     113\n",
      "NaN                     114\n",
      "NaN                     114\n",
      "NaN                     115\n",
      "NaN                     115\n",
      "NaN                     115\n",
      "NaN                     115\n",
      "NaN                     115\n",
      "NaN                     115\n",
      "NaN                     115\n",
      "NaN                     115\n",
      "NaN                     115\n",
      "dtype: int64\n"
     ]
    }
   ],
   "source": [
    "# Identificar los valores faltantes (NA)\n",
    "valores_faltantes = datos.isna().sum()\n",
    "\n",
    "# Mostrar los valores faltantes\n",
    "print(\"Valores faltantes por columna:\")\n",
    "print(valores_faltantes)"
   ],
   "metadata": {
    "collapsed": false,
    "ExecuteTime": {
     "end_time": "2024-05-12T22:08:57.403618Z",
     "start_time": "2024-05-12T22:08:57.317943Z"
    }
   }
  },
  {
   "cell_type": "code",
   "execution_count": 128,
   "outputs": [
    {
     "name": "stdout",
     "output_type": "stream",
     "text": [
      "RangeIndex(start=0, stop=116, step=1)\n"
     ]
    }
   ],
   "source": [
    "print(datos.index)"
   ],
   "metadata": {
    "collapsed": false,
    "ExecuteTime": {
     "end_time": "2024-05-12T22:08:57.404313Z",
     "start_time": "2024-05-12T22:08:57.330223Z"
    }
   }
  },
  {
   "cell_type": "code",
   "execution_count": 129,
   "outputs": [
    {
     "data": {
      "text/plain": "1   ID de Empleado Nombre Apellido Departamento       Fecha  \\\n0            R-880    AAA  SEGUNDO    MANGUERAS  01-08-2023   \n1            R-880    AAA  SEGUNDO    MANGUERAS  02-08-2023   \n2            R-880    AAA  SEGUNDO    MANGUERAS  03-08-2023   \n3            R-880    AAA  SEGUNDO    MANGUERAS  04-08-2023   \n4            R-880    AAA  SEGUNDO    MANGUERAS  07-08-2023   \n..             ...    ...      ...          ...         ...   \n111         P-4699    AAA     RILH        ADMON  02-08-2023   \n112         P-4699    AAA     RILH        ADMON  07-08-2023   \n113         P-4699    AAA     RILH        ADMON  08-08-2023   \n114         P-4699    AAA     RILH        ADMON  09-08-2023   \n115         P-4699    AAA     RILH        ADMON  14-08-2023   \n\n1   Cantidad de Checadas                                               Hora  \\\n0                     36  10:05:06,10:05:08,10:05:10,08:57:37,18:20:28,1...   \n1                     33  17:30:01,14:11:32,18:09:19,12:02:07,10:07:24,1...   \n2                     45  16:00:24,15:06:38,15:08:15,15:08:17,16:00:20,1...   \n3                     16  18:03:31,16:23:10,18:03:29,18:04:09,15:05:06,1...   \n4                     23  10:04:03,10:02:40,14:08:31,14:06:38,10:02:38,0...   \n..                   ...                                                ...   \n111                    8  08:35:50,08:35:46,11:00:57,10:08:27,10:08:29,1...   \n112                    6  10:09:25,10:09:23,14:00:57,09:09:38,09:09:36,1...   \n113                    8  10:04:06,10:04:08,14:00:14,12:01:27,12:01:29,1...   \n114                    6  10:00:11,11:00:33,10:00:13,09:22:01,11:00:35,0...   \n115                    8  10:02:09,08:54:06,12:00:03,14:02:43,08:54:08,1...   \n\n1   NaN      Hora       NaN  ...       NaN       NaN       NaN       NaN  \\\n0   NaN  10:05:06  10:05:08  ...  08:57:39       NaN       NaN       NaN   \n1   NaN  17:30:01  14:11:32  ...       NaN       NaN       NaN       NaN   \n2   NaN  16:00:24  15:06:38  ...  13:01:55  13:01:57  13:12:00  13:12:02   \n3   NaN  18:03:31  16:23:10  ...       NaN       NaN       NaN       NaN   \n4   NaN  10:04:03  10:02:40  ...       NaN       NaN       NaN       NaN   \n..   ..       ...       ...  ...       ...       ...       ...       ...   \n111 NaN  08:35:50  08:35:46  ...       NaN       NaN       NaN       NaN   \n112 NaN  10:09:25  10:09:23  ...       NaN       NaN       NaN       NaN   \n113 NaN  10:04:06  10:04:08  ...       NaN       NaN       NaN       NaN   \n114 NaN  10:00:11  11:00:33  ...       NaN       NaN       NaN       NaN   \n115 NaN  10:02:09  08:54:06  ...       NaN       NaN       NaN       NaN   \n\n1         NaN       NaN       NaN       NaN       NaN       NaN  \n0         NaN       NaN       NaN       NaN       NaN       NaN  \n1         NaN       NaN       NaN       NaN       NaN       NaN  \n2    13:11:57  13:12:04  14:04:27  14:04:29  14:04:31  14:04:33  \n3         NaN       NaN       NaN       NaN       NaN       NaN  \n4         NaN       NaN       NaN       NaN       NaN       NaN  \n..        ...       ...       ...       ...       ...       ...  \n111       NaN       NaN       NaN       NaN       NaN       NaN  \n112       NaN       NaN       NaN       NaN       NaN       NaN  \n113       NaN       NaN       NaN       NaN       NaN       NaN  \n114       NaN       NaN       NaN       NaN       NaN       NaN  \n115       NaN       NaN       NaN       NaN       NaN       NaN  \n\n[116 rows x 53 columns]",
      "text/html": "<div>\n<style scoped>\n    .dataframe tbody tr th:only-of-type {\n        vertical-align: middle;\n    }\n\n    .dataframe tbody tr th {\n        vertical-align: top;\n    }\n\n    .dataframe thead th {\n        text-align: right;\n    }\n</style>\n<table border=\"1\" class=\"dataframe\">\n  <thead>\n    <tr style=\"text-align: right;\">\n      <th>1</th>\n      <th>ID de Empleado</th>\n      <th>Nombre</th>\n      <th>Apellido</th>\n      <th>Departamento</th>\n      <th>Fecha</th>\n      <th>Cantidad de Checadas</th>\n      <th>Hora</th>\n      <th>NaN</th>\n      <th>Hora</th>\n      <th>NaN</th>\n      <th>...</th>\n      <th>NaN</th>\n      <th>NaN</th>\n      <th>NaN</th>\n      <th>NaN</th>\n      <th>NaN</th>\n      <th>NaN</th>\n      <th>NaN</th>\n      <th>NaN</th>\n      <th>NaN</th>\n      <th>NaN</th>\n    </tr>\n  </thead>\n  <tbody>\n    <tr>\n      <th>0</th>\n      <td>R-880</td>\n      <td>AAA</td>\n      <td>SEGUNDO</td>\n      <td>MANGUERAS</td>\n      <td>01-08-2023</td>\n      <td>36</td>\n      <td>10:05:06,10:05:08,10:05:10,08:57:37,18:20:28,1...</td>\n      <td>NaN</td>\n      <td>10:05:06</td>\n      <td>10:05:08</td>\n      <td>...</td>\n      <td>08:57:39</td>\n      <td>NaN</td>\n      <td>NaN</td>\n      <td>NaN</td>\n      <td>NaN</td>\n      <td>NaN</td>\n      <td>NaN</td>\n      <td>NaN</td>\n      <td>NaN</td>\n      <td>NaN</td>\n    </tr>\n    <tr>\n      <th>1</th>\n      <td>R-880</td>\n      <td>AAA</td>\n      <td>SEGUNDO</td>\n      <td>MANGUERAS</td>\n      <td>02-08-2023</td>\n      <td>33</td>\n      <td>17:30:01,14:11:32,18:09:19,12:02:07,10:07:24,1...</td>\n      <td>NaN</td>\n      <td>17:30:01</td>\n      <td>14:11:32</td>\n      <td>...</td>\n      <td>NaN</td>\n      <td>NaN</td>\n      <td>NaN</td>\n      <td>NaN</td>\n      <td>NaN</td>\n      <td>NaN</td>\n      <td>NaN</td>\n      <td>NaN</td>\n      <td>NaN</td>\n      <td>NaN</td>\n    </tr>\n    <tr>\n      <th>2</th>\n      <td>R-880</td>\n      <td>AAA</td>\n      <td>SEGUNDO</td>\n      <td>MANGUERAS</td>\n      <td>03-08-2023</td>\n      <td>45</td>\n      <td>16:00:24,15:06:38,15:08:15,15:08:17,16:00:20,1...</td>\n      <td>NaN</td>\n      <td>16:00:24</td>\n      <td>15:06:38</td>\n      <td>...</td>\n      <td>13:01:55</td>\n      <td>13:01:57</td>\n      <td>13:12:00</td>\n      <td>13:12:02</td>\n      <td>13:11:57</td>\n      <td>13:12:04</td>\n      <td>14:04:27</td>\n      <td>14:04:29</td>\n      <td>14:04:31</td>\n      <td>14:04:33</td>\n    </tr>\n    <tr>\n      <th>3</th>\n      <td>R-880</td>\n      <td>AAA</td>\n      <td>SEGUNDO</td>\n      <td>MANGUERAS</td>\n      <td>04-08-2023</td>\n      <td>16</td>\n      <td>18:03:31,16:23:10,18:03:29,18:04:09,15:05:06,1...</td>\n      <td>NaN</td>\n      <td>18:03:31</td>\n      <td>16:23:10</td>\n      <td>...</td>\n      <td>NaN</td>\n      <td>NaN</td>\n      <td>NaN</td>\n      <td>NaN</td>\n      <td>NaN</td>\n      <td>NaN</td>\n      <td>NaN</td>\n      <td>NaN</td>\n      <td>NaN</td>\n      <td>NaN</td>\n    </tr>\n    <tr>\n      <th>4</th>\n      <td>R-880</td>\n      <td>AAA</td>\n      <td>SEGUNDO</td>\n      <td>MANGUERAS</td>\n      <td>07-08-2023</td>\n      <td>23</td>\n      <td>10:04:03,10:02:40,14:08:31,14:06:38,10:02:38,0...</td>\n      <td>NaN</td>\n      <td>10:04:03</td>\n      <td>10:02:40</td>\n      <td>...</td>\n      <td>NaN</td>\n      <td>NaN</td>\n      <td>NaN</td>\n      <td>NaN</td>\n      <td>NaN</td>\n      <td>NaN</td>\n      <td>NaN</td>\n      <td>NaN</td>\n      <td>NaN</td>\n      <td>NaN</td>\n    </tr>\n    <tr>\n      <th>...</th>\n      <td>...</td>\n      <td>...</td>\n      <td>...</td>\n      <td>...</td>\n      <td>...</td>\n      <td>...</td>\n      <td>...</td>\n      <td>...</td>\n      <td>...</td>\n      <td>...</td>\n      <td>...</td>\n      <td>...</td>\n      <td>...</td>\n      <td>...</td>\n      <td>...</td>\n      <td>...</td>\n      <td>...</td>\n      <td>...</td>\n      <td>...</td>\n      <td>...</td>\n      <td>...</td>\n    </tr>\n    <tr>\n      <th>111</th>\n      <td>P-4699</td>\n      <td>AAA</td>\n      <td>RILH</td>\n      <td>ADMON</td>\n      <td>02-08-2023</td>\n      <td>8</td>\n      <td>08:35:50,08:35:46,11:00:57,10:08:27,10:08:29,1...</td>\n      <td>NaN</td>\n      <td>08:35:50</td>\n      <td>08:35:46</td>\n      <td>...</td>\n      <td>NaN</td>\n      <td>NaN</td>\n      <td>NaN</td>\n      <td>NaN</td>\n      <td>NaN</td>\n      <td>NaN</td>\n      <td>NaN</td>\n      <td>NaN</td>\n      <td>NaN</td>\n      <td>NaN</td>\n    </tr>\n    <tr>\n      <th>112</th>\n      <td>P-4699</td>\n      <td>AAA</td>\n      <td>RILH</td>\n      <td>ADMON</td>\n      <td>07-08-2023</td>\n      <td>6</td>\n      <td>10:09:25,10:09:23,14:00:57,09:09:38,09:09:36,1...</td>\n      <td>NaN</td>\n      <td>10:09:25</td>\n      <td>10:09:23</td>\n      <td>...</td>\n      <td>NaN</td>\n      <td>NaN</td>\n      <td>NaN</td>\n      <td>NaN</td>\n      <td>NaN</td>\n      <td>NaN</td>\n      <td>NaN</td>\n      <td>NaN</td>\n      <td>NaN</td>\n      <td>NaN</td>\n    </tr>\n    <tr>\n      <th>113</th>\n      <td>P-4699</td>\n      <td>AAA</td>\n      <td>RILH</td>\n      <td>ADMON</td>\n      <td>08-08-2023</td>\n      <td>8</td>\n      <td>10:04:06,10:04:08,14:00:14,12:01:27,12:01:29,1...</td>\n      <td>NaN</td>\n      <td>10:04:06</td>\n      <td>10:04:08</td>\n      <td>...</td>\n      <td>NaN</td>\n      <td>NaN</td>\n      <td>NaN</td>\n      <td>NaN</td>\n      <td>NaN</td>\n      <td>NaN</td>\n      <td>NaN</td>\n      <td>NaN</td>\n      <td>NaN</td>\n      <td>NaN</td>\n    </tr>\n    <tr>\n      <th>114</th>\n      <td>P-4699</td>\n      <td>AAA</td>\n      <td>RILH</td>\n      <td>ADMON</td>\n      <td>09-08-2023</td>\n      <td>6</td>\n      <td>10:00:11,11:00:33,10:00:13,09:22:01,11:00:35,0...</td>\n      <td>NaN</td>\n      <td>10:00:11</td>\n      <td>11:00:33</td>\n      <td>...</td>\n      <td>NaN</td>\n      <td>NaN</td>\n      <td>NaN</td>\n      <td>NaN</td>\n      <td>NaN</td>\n      <td>NaN</td>\n      <td>NaN</td>\n      <td>NaN</td>\n      <td>NaN</td>\n      <td>NaN</td>\n    </tr>\n    <tr>\n      <th>115</th>\n      <td>P-4699</td>\n      <td>AAA</td>\n      <td>RILH</td>\n      <td>ADMON</td>\n      <td>14-08-2023</td>\n      <td>8</td>\n      <td>10:02:09,08:54:06,12:00:03,14:02:43,08:54:08,1...</td>\n      <td>NaN</td>\n      <td>10:02:09</td>\n      <td>08:54:06</td>\n      <td>...</td>\n      <td>NaN</td>\n      <td>NaN</td>\n      <td>NaN</td>\n      <td>NaN</td>\n      <td>NaN</td>\n      <td>NaN</td>\n      <td>NaN</td>\n      <td>NaN</td>\n      <td>NaN</td>\n      <td>NaN</td>\n    </tr>\n  </tbody>\n</table>\n<p>116 rows × 53 columns</p>\n</div>"
     },
     "execution_count": 129,
     "metadata": {},
     "output_type": "execute_result"
    }
   ],
   "source": [
    "datos"
   ],
   "metadata": {
    "collapsed": false,
    "ExecuteTime": {
     "end_time": "2024-05-12T22:08:57.405942Z",
     "start_time": "2024-05-12T22:08:57.363022Z"
    }
   }
  },
  {
   "cell_type": "code",
   "execution_count": 130,
   "outputs": [
    {
     "name": "stdout",
     "output_type": "stream",
     "text": [
      "ID de Empleado\n",
      "0\n"
     ]
    }
   ],
   "source": [
    "print(datos.columns[0])\n",
    "print(datos.index[0])"
   ],
   "metadata": {
    "collapsed": false,
    "ExecuteTime": {
     "end_time": "2024-05-12T22:08:57.406656Z",
     "start_time": "2024-05-12T22:08:57.382128Z"
    }
   }
  },
  {
   "cell_type": "code",
   "execution_count": 131,
   "outputs": [
    {
     "name": "stdout",
     "output_type": "stream",
     "text": [
      "1\n",
      "ID de Empleado           object\n",
      "Nombre                   object\n",
      "Apellido                 object\n",
      "Departamento             object\n",
      "Fecha                    object\n",
      "Cantidad de Checadas     object\n",
      "Hora                     object\n",
      "NaN                     float64\n",
      "Hora                     object\n",
      "NaN                      object\n",
      "NaN                      object\n",
      "NaN                      object\n",
      "NaN                      object\n",
      "NaN                      object\n",
      "NaN                      object\n",
      "NaN                      object\n",
      "NaN                      object\n",
      "NaN                      object\n",
      "NaN                      object\n",
      "NaN                      object\n",
      "NaN                      object\n",
      "NaN                      object\n",
      "NaN                      object\n",
      "NaN                      object\n",
      "NaN                      object\n",
      "NaN                      object\n",
      "NaN                      object\n",
      "NaN                      object\n",
      "NaN                      object\n",
      "NaN                      object\n",
      "NaN                      object\n",
      "NaN                      object\n",
      "NaN                      object\n",
      "NaN                      object\n",
      "NaN                      object\n",
      "NaN                      object\n",
      "NaN                      object\n",
      "NaN                      object\n",
      "NaN                      object\n",
      "NaN                      object\n",
      "NaN                      object\n",
      "NaN                      object\n",
      "NaN                      object\n",
      "NaN                      object\n",
      "NaN                      object\n",
      "NaN                      object\n",
      "NaN                      object\n",
      "NaN                      object\n",
      "NaN                      object\n",
      "NaN                      object\n",
      "NaN                      object\n",
      "NaN                      object\n",
      "NaN                      object\n",
      "dtype: object\n"
     ]
    }
   ],
   "source": [
    "print(datos.dtypes)"
   ],
   "metadata": {
    "collapsed": false,
    "ExecuteTime": {
     "end_time": "2024-05-12T22:08:57.419544Z",
     "start_time": "2024-05-12T22:08:57.392777Z"
    }
   }
  },
  {
   "cell_type": "code",
   "execution_count": 132,
   "outputs": [
    {
     "data": {
      "text/plain": "1   ID de Empleado Nombre Apellido Departamento       Fecha  \\\n0            R-880    AAA  SEGUNDO    MANGUERAS  01-08-2023   \n1            R-880    AAA  SEGUNDO    MANGUERAS  02-08-2023   \n2            R-880    AAA  SEGUNDO    MANGUERAS  03-08-2023   \n3            R-880    AAA  SEGUNDO    MANGUERAS  04-08-2023   \n4            R-880    AAA  SEGUNDO    MANGUERAS  07-08-2023   \n..             ...    ...      ...          ...         ...   \n111         P-4699    AAA     RILH        ADMON  02-08-2023   \n112         P-4699    AAA     RILH        ADMON  07-08-2023   \n113         P-4699    AAA     RILH        ADMON  08-08-2023   \n114         P-4699    AAA     RILH        ADMON  09-08-2023   \n115         P-4699    AAA     RILH        ADMON  14-08-2023   \n\n1   Cantidad de Checadas                                               Hora  \\\n0                     36  10:05:06,10:05:08,10:05:10,08:57:37,18:20:28,1...   \n1                     33  17:30:01,14:11:32,18:09:19,12:02:07,10:07:24,1...   \n2                     45  16:00:24,15:06:38,15:08:15,15:08:17,16:00:20,1...   \n3                     16  18:03:31,16:23:10,18:03:29,18:04:09,15:05:06,1...   \n4                     23  10:04:03,10:02:40,14:08:31,14:06:38,10:02:38,0...   \n..                   ...                                                ...   \n111                    8  08:35:50,08:35:46,11:00:57,10:08:27,10:08:29,1...   \n112                    6  10:09:25,10:09:23,14:00:57,09:09:38,09:09:36,1...   \n113                    8  10:04:06,10:04:08,14:00:14,12:01:27,12:01:29,1...   \n114                    6  10:00:11,11:00:33,10:00:13,09:22:01,11:00:35,0...   \n115                    8  10:02:09,08:54:06,12:00:03,14:02:43,08:54:08,1...   \n\n1        Hora       NaN  \n0    10:05:06  10:05:08  \n1    17:30:01  14:11:32  \n2    16:00:24  15:06:38  \n3    18:03:31  16:23:10  \n4    10:04:03  10:02:40  \n..        ...       ...  \n111  08:35:50  08:35:46  \n112  10:09:25  10:09:23  \n113  10:04:06  10:04:08  \n114  10:00:11  11:00:33  \n115  10:02:09  08:54:06  \n\n[116 rows x 9 columns]",
      "text/html": "<div>\n<style scoped>\n    .dataframe tbody tr th:only-of-type {\n        vertical-align: middle;\n    }\n\n    .dataframe tbody tr th {\n        vertical-align: top;\n    }\n\n    .dataframe thead th {\n        text-align: right;\n    }\n</style>\n<table border=\"1\" class=\"dataframe\">\n  <thead>\n    <tr style=\"text-align: right;\">\n      <th>1</th>\n      <th>ID de Empleado</th>\n      <th>Nombre</th>\n      <th>Apellido</th>\n      <th>Departamento</th>\n      <th>Fecha</th>\n      <th>Cantidad de Checadas</th>\n      <th>Hora</th>\n      <th>Hora</th>\n      <th>NaN</th>\n    </tr>\n  </thead>\n  <tbody>\n    <tr>\n      <th>0</th>\n      <td>R-880</td>\n      <td>AAA</td>\n      <td>SEGUNDO</td>\n      <td>MANGUERAS</td>\n      <td>01-08-2023</td>\n      <td>36</td>\n      <td>10:05:06,10:05:08,10:05:10,08:57:37,18:20:28,1...</td>\n      <td>10:05:06</td>\n      <td>10:05:08</td>\n    </tr>\n    <tr>\n      <th>1</th>\n      <td>R-880</td>\n      <td>AAA</td>\n      <td>SEGUNDO</td>\n      <td>MANGUERAS</td>\n      <td>02-08-2023</td>\n      <td>33</td>\n      <td>17:30:01,14:11:32,18:09:19,12:02:07,10:07:24,1...</td>\n      <td>17:30:01</td>\n      <td>14:11:32</td>\n    </tr>\n    <tr>\n      <th>2</th>\n      <td>R-880</td>\n      <td>AAA</td>\n      <td>SEGUNDO</td>\n      <td>MANGUERAS</td>\n      <td>03-08-2023</td>\n      <td>45</td>\n      <td>16:00:24,15:06:38,15:08:15,15:08:17,16:00:20,1...</td>\n      <td>16:00:24</td>\n      <td>15:06:38</td>\n    </tr>\n    <tr>\n      <th>3</th>\n      <td>R-880</td>\n      <td>AAA</td>\n      <td>SEGUNDO</td>\n      <td>MANGUERAS</td>\n      <td>04-08-2023</td>\n      <td>16</td>\n      <td>18:03:31,16:23:10,18:03:29,18:04:09,15:05:06,1...</td>\n      <td>18:03:31</td>\n      <td>16:23:10</td>\n    </tr>\n    <tr>\n      <th>4</th>\n      <td>R-880</td>\n      <td>AAA</td>\n      <td>SEGUNDO</td>\n      <td>MANGUERAS</td>\n      <td>07-08-2023</td>\n      <td>23</td>\n      <td>10:04:03,10:02:40,14:08:31,14:06:38,10:02:38,0...</td>\n      <td>10:04:03</td>\n      <td>10:02:40</td>\n    </tr>\n    <tr>\n      <th>...</th>\n      <td>...</td>\n      <td>...</td>\n      <td>...</td>\n      <td>...</td>\n      <td>...</td>\n      <td>...</td>\n      <td>...</td>\n      <td>...</td>\n      <td>...</td>\n    </tr>\n    <tr>\n      <th>111</th>\n      <td>P-4699</td>\n      <td>AAA</td>\n      <td>RILH</td>\n      <td>ADMON</td>\n      <td>02-08-2023</td>\n      <td>8</td>\n      <td>08:35:50,08:35:46,11:00:57,10:08:27,10:08:29,1...</td>\n      <td>08:35:50</td>\n      <td>08:35:46</td>\n    </tr>\n    <tr>\n      <th>112</th>\n      <td>P-4699</td>\n      <td>AAA</td>\n      <td>RILH</td>\n      <td>ADMON</td>\n      <td>07-08-2023</td>\n      <td>6</td>\n      <td>10:09:25,10:09:23,14:00:57,09:09:38,09:09:36,1...</td>\n      <td>10:09:25</td>\n      <td>10:09:23</td>\n    </tr>\n    <tr>\n      <th>113</th>\n      <td>P-4699</td>\n      <td>AAA</td>\n      <td>RILH</td>\n      <td>ADMON</td>\n      <td>08-08-2023</td>\n      <td>8</td>\n      <td>10:04:06,10:04:08,14:00:14,12:01:27,12:01:29,1...</td>\n      <td>10:04:06</td>\n      <td>10:04:08</td>\n    </tr>\n    <tr>\n      <th>114</th>\n      <td>P-4699</td>\n      <td>AAA</td>\n      <td>RILH</td>\n      <td>ADMON</td>\n      <td>09-08-2023</td>\n      <td>6</td>\n      <td>10:00:11,11:00:33,10:00:13,09:22:01,11:00:35,0...</td>\n      <td>10:00:11</td>\n      <td>11:00:33</td>\n    </tr>\n    <tr>\n      <th>115</th>\n      <td>P-4699</td>\n      <td>AAA</td>\n      <td>RILH</td>\n      <td>ADMON</td>\n      <td>14-08-2023</td>\n      <td>8</td>\n      <td>10:02:09,08:54:06,12:00:03,14:02:43,08:54:08,1...</td>\n      <td>10:02:09</td>\n      <td>08:54:06</td>\n    </tr>\n  </tbody>\n</table>\n<p>116 rows × 9 columns</p>\n</div>"
     },
     "execution_count": 132,
     "metadata": {},
     "output_type": "execute_result"
    }
   ],
   "source": [
    "datos = datos.dropna(axis=1)\n",
    "datos"
   ],
   "metadata": {
    "collapsed": false,
    "ExecuteTime": {
     "end_time": "2024-05-12T22:08:57.600351Z",
     "start_time": "2024-05-12T22:08:57.424367Z"
    }
   }
  },
  {
   "cell_type": "code",
   "execution_count": 133,
   "outputs": [
    {
     "name": "stdout",
     "output_type": "stream",
     "text": [
      "Hora\n"
     ]
    }
   ],
   "source": [
    "print(datos.columns[7])"
   ],
   "metadata": {
    "collapsed": false,
    "ExecuteTime": {
     "end_time": "2024-05-12T22:08:57.601497Z",
     "start_time": "2024-05-12T22:08:57.439107Z"
    }
   }
  },
  {
   "cell_type": "code",
   "execution_count": 134,
   "outputs": [
    {
     "data": {
      "text/plain": "1   ID de Empleado Nombre Apellido Departamento       Fecha  \\\n0            R-880    AAA  SEGUNDO    MANGUERAS  01-08-2023   \n1            R-880    AAA  SEGUNDO    MANGUERAS  02-08-2023   \n2            R-880    AAA  SEGUNDO    MANGUERAS  03-08-2023   \n3            R-880    AAA  SEGUNDO    MANGUERAS  04-08-2023   \n4            R-880    AAA  SEGUNDO    MANGUERAS  07-08-2023   \n..             ...    ...      ...          ...         ...   \n111         P-4699    AAA     RILH        ADMON  02-08-2023   \n112         P-4699    AAA     RILH        ADMON  07-08-2023   \n113         P-4699    AAA     RILH        ADMON  08-08-2023   \n114         P-4699    AAA     RILH        ADMON  09-08-2023   \n115         P-4699    AAA     RILH        ADMON  14-08-2023   \n\n1   Cantidad de Checadas                                               Hora  \\\n0                     36  10:05:06,10:05:08,10:05:10,08:57:37,18:20:28,1...   \n1                     33  17:30:01,14:11:32,18:09:19,12:02:07,10:07:24,1...   \n2                     45  16:00:24,15:06:38,15:08:15,15:08:17,16:00:20,1...   \n3                     16  18:03:31,16:23:10,18:03:29,18:04:09,15:05:06,1...   \n4                     23  10:04:03,10:02:40,14:08:31,14:06:38,10:02:38,0...   \n..                   ...                                                ...   \n111                    8  08:35:50,08:35:46,11:00:57,10:08:27,10:08:29,1...   \n112                    6  10:09:25,10:09:23,14:00:57,09:09:38,09:09:36,1...   \n113                    8  10:04:06,10:04:08,14:00:14,12:01:27,12:01:29,1...   \n114                    6  10:00:11,11:00:33,10:00:13,09:22:01,11:00:35,0...   \n115                    8  10:02:09,08:54:06,12:00:03,14:02:43,08:54:08,1...   \n\n1        Hora  \n0    10:05:06  \n1    17:30:01  \n2    16:00:24  \n3    18:03:31  \n4    10:04:03  \n..        ...  \n111  08:35:50  \n112  10:09:25  \n113  10:04:06  \n114  10:00:11  \n115  10:02:09  \n\n[116 rows x 8 columns]",
      "text/html": "<div>\n<style scoped>\n    .dataframe tbody tr th:only-of-type {\n        vertical-align: middle;\n    }\n\n    .dataframe tbody tr th {\n        vertical-align: top;\n    }\n\n    .dataframe thead th {\n        text-align: right;\n    }\n</style>\n<table border=\"1\" class=\"dataframe\">\n  <thead>\n    <tr style=\"text-align: right;\">\n      <th>1</th>\n      <th>ID de Empleado</th>\n      <th>Nombre</th>\n      <th>Apellido</th>\n      <th>Departamento</th>\n      <th>Fecha</th>\n      <th>Cantidad de Checadas</th>\n      <th>Hora</th>\n      <th>Hora</th>\n    </tr>\n  </thead>\n  <tbody>\n    <tr>\n      <th>0</th>\n      <td>R-880</td>\n      <td>AAA</td>\n      <td>SEGUNDO</td>\n      <td>MANGUERAS</td>\n      <td>01-08-2023</td>\n      <td>36</td>\n      <td>10:05:06,10:05:08,10:05:10,08:57:37,18:20:28,1...</td>\n      <td>10:05:06</td>\n    </tr>\n    <tr>\n      <th>1</th>\n      <td>R-880</td>\n      <td>AAA</td>\n      <td>SEGUNDO</td>\n      <td>MANGUERAS</td>\n      <td>02-08-2023</td>\n      <td>33</td>\n      <td>17:30:01,14:11:32,18:09:19,12:02:07,10:07:24,1...</td>\n      <td>17:30:01</td>\n    </tr>\n    <tr>\n      <th>2</th>\n      <td>R-880</td>\n      <td>AAA</td>\n      <td>SEGUNDO</td>\n      <td>MANGUERAS</td>\n      <td>03-08-2023</td>\n      <td>45</td>\n      <td>16:00:24,15:06:38,15:08:15,15:08:17,16:00:20,1...</td>\n      <td>16:00:24</td>\n    </tr>\n    <tr>\n      <th>3</th>\n      <td>R-880</td>\n      <td>AAA</td>\n      <td>SEGUNDO</td>\n      <td>MANGUERAS</td>\n      <td>04-08-2023</td>\n      <td>16</td>\n      <td>18:03:31,16:23:10,18:03:29,18:04:09,15:05:06,1...</td>\n      <td>18:03:31</td>\n    </tr>\n    <tr>\n      <th>4</th>\n      <td>R-880</td>\n      <td>AAA</td>\n      <td>SEGUNDO</td>\n      <td>MANGUERAS</td>\n      <td>07-08-2023</td>\n      <td>23</td>\n      <td>10:04:03,10:02:40,14:08:31,14:06:38,10:02:38,0...</td>\n      <td>10:04:03</td>\n    </tr>\n    <tr>\n      <th>...</th>\n      <td>...</td>\n      <td>...</td>\n      <td>...</td>\n      <td>...</td>\n      <td>...</td>\n      <td>...</td>\n      <td>...</td>\n      <td>...</td>\n    </tr>\n    <tr>\n      <th>111</th>\n      <td>P-4699</td>\n      <td>AAA</td>\n      <td>RILH</td>\n      <td>ADMON</td>\n      <td>02-08-2023</td>\n      <td>8</td>\n      <td>08:35:50,08:35:46,11:00:57,10:08:27,10:08:29,1...</td>\n      <td>08:35:50</td>\n    </tr>\n    <tr>\n      <th>112</th>\n      <td>P-4699</td>\n      <td>AAA</td>\n      <td>RILH</td>\n      <td>ADMON</td>\n      <td>07-08-2023</td>\n      <td>6</td>\n      <td>10:09:25,10:09:23,14:00:57,09:09:38,09:09:36,1...</td>\n      <td>10:09:25</td>\n    </tr>\n    <tr>\n      <th>113</th>\n      <td>P-4699</td>\n      <td>AAA</td>\n      <td>RILH</td>\n      <td>ADMON</td>\n      <td>08-08-2023</td>\n      <td>8</td>\n      <td>10:04:06,10:04:08,14:00:14,12:01:27,12:01:29,1...</td>\n      <td>10:04:06</td>\n    </tr>\n    <tr>\n      <th>114</th>\n      <td>P-4699</td>\n      <td>AAA</td>\n      <td>RILH</td>\n      <td>ADMON</td>\n      <td>09-08-2023</td>\n      <td>6</td>\n      <td>10:00:11,11:00:33,10:00:13,09:22:01,11:00:35,0...</td>\n      <td>10:00:11</td>\n    </tr>\n    <tr>\n      <th>115</th>\n      <td>P-4699</td>\n      <td>AAA</td>\n      <td>RILH</td>\n      <td>ADMON</td>\n      <td>14-08-2023</td>\n      <td>8</td>\n      <td>10:02:09,08:54:06,12:00:03,14:02:43,08:54:08,1...</td>\n      <td>10:02:09</td>\n    </tr>\n  </tbody>\n</table>\n<p>116 rows × 8 columns</p>\n</div>"
     },
     "execution_count": 134,
     "metadata": {},
     "output_type": "execute_result"
    }
   ],
   "source": [
    "datos = datos.drop(datos.columns[8], axis=1)\n",
    "datos"
   ],
   "metadata": {
    "collapsed": false,
    "ExecuteTime": {
     "end_time": "2024-05-12T22:08:57.602638Z",
     "start_time": "2024-05-12T22:08:57.466654Z"
    }
   }
  },
  {
   "cell_type": "code",
   "execution_count": 135,
   "outputs": [
    {
     "name": "stdout",
     "output_type": "stream",
     "text": [
      "Completado\n"
     ]
    }
   ],
   "source": [
    "# Guardando a CSV\n",
    "datos.to_csv(\"recursos/datos.csv\", index=False)\n",
    "print(\"Completado\")"
   ],
   "metadata": {
    "collapsed": false,
    "ExecuteTime": {
     "end_time": "2024-05-12T22:08:57.604618Z",
     "start_time": "2024-05-12T22:08:57.484782Z"
    }
   }
  },
  {
   "cell_type": "code",
   "execution_count": 136,
   "outputs": [
    {
     "data": {
      "text/plain": "    ID de Empleado Nombre Apellido Departamento       Fecha  \\\n0            R-880    AAA  SEGUNDO    MANGUERAS  01-08-2023   \n1            R-880    AAA  SEGUNDO    MANGUERAS  02-08-2023   \n2            R-880    AAA  SEGUNDO    MANGUERAS  03-08-2023   \n3            R-880    AAA  SEGUNDO    MANGUERAS  04-08-2023   \n4            R-880    AAA  SEGUNDO    MANGUERAS  07-08-2023   \n..             ...    ...      ...          ...         ...   \n111         P-4699    AAA     RILH        ADMON  02-08-2023   \n112         P-4699    AAA     RILH        ADMON  07-08-2023   \n113         P-4699    AAA     RILH        ADMON  08-08-2023   \n114         P-4699    AAA     RILH        ADMON  09-08-2023   \n115         P-4699    AAA     RILH        ADMON  14-08-2023   \n\n     Cantidad de Checadas                                               Hora  \\\n0                      36  10:05:06,10:05:08,10:05:10,08:57:37,18:20:28,1...   \n1                      33  17:30:01,14:11:32,18:09:19,12:02:07,10:07:24,1...   \n2                      45  16:00:24,15:06:38,15:08:15,15:08:17,16:00:20,1...   \n3                      16  18:03:31,16:23:10,18:03:29,18:04:09,15:05:06,1...   \n4                      23  10:04:03,10:02:40,14:08:31,14:06:38,10:02:38,0...   \n..                    ...                                                ...   \n111                     8  08:35:50,08:35:46,11:00:57,10:08:27,10:08:29,1...   \n112                     6  10:09:25,10:09:23,14:00:57,09:09:38,09:09:36,1...   \n113                     8  10:04:06,10:04:08,14:00:14,12:01:27,12:01:29,1...   \n114                     6  10:00:11,11:00:33,10:00:13,09:22:01,11:00:35,0...   \n115                     8  10:02:09,08:54:06,12:00:03,14:02:43,08:54:08,1...   \n\n       Hora.1  \n0    10:05:06  \n1    17:30:01  \n2    16:00:24  \n3    18:03:31  \n4    10:04:03  \n..        ...  \n111  08:35:50  \n112  10:09:25  \n113  10:04:06  \n114  10:00:11  \n115  10:02:09  \n\n[116 rows x 8 columns]",
      "text/html": "<div>\n<style scoped>\n    .dataframe tbody tr th:only-of-type {\n        vertical-align: middle;\n    }\n\n    .dataframe tbody tr th {\n        vertical-align: top;\n    }\n\n    .dataframe thead th {\n        text-align: right;\n    }\n</style>\n<table border=\"1\" class=\"dataframe\">\n  <thead>\n    <tr style=\"text-align: right;\">\n      <th></th>\n      <th>ID de Empleado</th>\n      <th>Nombre</th>\n      <th>Apellido</th>\n      <th>Departamento</th>\n      <th>Fecha</th>\n      <th>Cantidad de Checadas</th>\n      <th>Hora</th>\n      <th>Hora.1</th>\n    </tr>\n  </thead>\n  <tbody>\n    <tr>\n      <th>0</th>\n      <td>R-880</td>\n      <td>AAA</td>\n      <td>SEGUNDO</td>\n      <td>MANGUERAS</td>\n      <td>01-08-2023</td>\n      <td>36</td>\n      <td>10:05:06,10:05:08,10:05:10,08:57:37,18:20:28,1...</td>\n      <td>10:05:06</td>\n    </tr>\n    <tr>\n      <th>1</th>\n      <td>R-880</td>\n      <td>AAA</td>\n      <td>SEGUNDO</td>\n      <td>MANGUERAS</td>\n      <td>02-08-2023</td>\n      <td>33</td>\n      <td>17:30:01,14:11:32,18:09:19,12:02:07,10:07:24,1...</td>\n      <td>17:30:01</td>\n    </tr>\n    <tr>\n      <th>2</th>\n      <td>R-880</td>\n      <td>AAA</td>\n      <td>SEGUNDO</td>\n      <td>MANGUERAS</td>\n      <td>03-08-2023</td>\n      <td>45</td>\n      <td>16:00:24,15:06:38,15:08:15,15:08:17,16:00:20,1...</td>\n      <td>16:00:24</td>\n    </tr>\n    <tr>\n      <th>3</th>\n      <td>R-880</td>\n      <td>AAA</td>\n      <td>SEGUNDO</td>\n      <td>MANGUERAS</td>\n      <td>04-08-2023</td>\n      <td>16</td>\n      <td>18:03:31,16:23:10,18:03:29,18:04:09,15:05:06,1...</td>\n      <td>18:03:31</td>\n    </tr>\n    <tr>\n      <th>4</th>\n      <td>R-880</td>\n      <td>AAA</td>\n      <td>SEGUNDO</td>\n      <td>MANGUERAS</td>\n      <td>07-08-2023</td>\n      <td>23</td>\n      <td>10:04:03,10:02:40,14:08:31,14:06:38,10:02:38,0...</td>\n      <td>10:04:03</td>\n    </tr>\n    <tr>\n      <th>...</th>\n      <td>...</td>\n      <td>...</td>\n      <td>...</td>\n      <td>...</td>\n      <td>...</td>\n      <td>...</td>\n      <td>...</td>\n      <td>...</td>\n    </tr>\n    <tr>\n      <th>111</th>\n      <td>P-4699</td>\n      <td>AAA</td>\n      <td>RILH</td>\n      <td>ADMON</td>\n      <td>02-08-2023</td>\n      <td>8</td>\n      <td>08:35:50,08:35:46,11:00:57,10:08:27,10:08:29,1...</td>\n      <td>08:35:50</td>\n    </tr>\n    <tr>\n      <th>112</th>\n      <td>P-4699</td>\n      <td>AAA</td>\n      <td>RILH</td>\n      <td>ADMON</td>\n      <td>07-08-2023</td>\n      <td>6</td>\n      <td>10:09:25,10:09:23,14:00:57,09:09:38,09:09:36,1...</td>\n      <td>10:09:25</td>\n    </tr>\n    <tr>\n      <th>113</th>\n      <td>P-4699</td>\n      <td>AAA</td>\n      <td>RILH</td>\n      <td>ADMON</td>\n      <td>08-08-2023</td>\n      <td>8</td>\n      <td>10:04:06,10:04:08,14:00:14,12:01:27,12:01:29,1...</td>\n      <td>10:04:06</td>\n    </tr>\n    <tr>\n      <th>114</th>\n      <td>P-4699</td>\n      <td>AAA</td>\n      <td>RILH</td>\n      <td>ADMON</td>\n      <td>09-08-2023</td>\n      <td>6</td>\n      <td>10:00:11,11:00:33,10:00:13,09:22:01,11:00:35,0...</td>\n      <td>10:00:11</td>\n    </tr>\n    <tr>\n      <th>115</th>\n      <td>P-4699</td>\n      <td>AAA</td>\n      <td>RILH</td>\n      <td>ADMON</td>\n      <td>14-08-2023</td>\n      <td>8</td>\n      <td>10:02:09,08:54:06,12:00:03,14:02:43,08:54:08,1...</td>\n      <td>10:02:09</td>\n    </tr>\n  </tbody>\n</table>\n<p>116 rows × 8 columns</p>\n</div>"
     },
     "execution_count": 136,
     "metadata": {},
     "output_type": "execute_result"
    }
   ],
   "source": [
    "# Leyendo el nuevo CSV\n",
    "datos = pd.read_csv(\"recursos/datos.csv\", encoding='utf-8')\n",
    "datos"
   ],
   "metadata": {
    "collapsed": false,
    "ExecuteTime": {
     "end_time": "2024-05-12T22:08:57.605759Z",
     "start_time": "2024-05-12T22:08:57.503983Z"
    }
   }
  },
  {
   "cell_type": "code",
   "execution_count": 137,
   "outputs": [
    {
     "data": {
      "text/plain": "    ID de Empleado Nombre Apellido Departamento       Fecha  \\\n0            R-880    AAA  SEGUNDO    MANGUERAS  01-08-2023   \n1            R-880    AAA  SEGUNDO    MANGUERAS  02-08-2023   \n2            R-880    AAA  SEGUNDO    MANGUERAS  03-08-2023   \n3            R-880    AAA  SEGUNDO    MANGUERAS  04-08-2023   \n4            R-880    AAA  SEGUNDO    MANGUERAS  07-08-2023   \n..             ...    ...      ...          ...         ...   \n111         P-4699    AAA     RILH        ADMON  02-08-2023   \n112         P-4699    AAA     RILH        ADMON  07-08-2023   \n113         P-4699    AAA     RILH        ADMON  08-08-2023   \n114         P-4699    AAA     RILH        ADMON  09-08-2023   \n115         P-4699    AAA     RILH        ADMON  14-08-2023   \n\n     Cantidad de Checadas                                               Hora  \n0                      36  10:05:06,10:05:08,10:05:10,08:57:37,18:20:28,1...  \n1                      33  17:30:01,14:11:32,18:09:19,12:02:07,10:07:24,1...  \n2                      45  16:00:24,15:06:38,15:08:15,15:08:17,16:00:20,1...  \n3                      16  18:03:31,16:23:10,18:03:29,18:04:09,15:05:06,1...  \n4                      23  10:04:03,10:02:40,14:08:31,14:06:38,10:02:38,0...  \n..                    ...                                                ...  \n111                     8  08:35:50,08:35:46,11:00:57,10:08:27,10:08:29,1...  \n112                     6  10:09:25,10:09:23,14:00:57,09:09:38,09:09:36,1...  \n113                     8  10:04:06,10:04:08,14:00:14,12:01:27,12:01:29,1...  \n114                     6  10:00:11,11:00:33,10:00:13,09:22:01,11:00:35,0...  \n115                     8  10:02:09,08:54:06,12:00:03,14:02:43,08:54:08,1...  \n\n[116 rows x 7 columns]",
      "text/html": "<div>\n<style scoped>\n    .dataframe tbody tr th:only-of-type {\n        vertical-align: middle;\n    }\n\n    .dataframe tbody tr th {\n        vertical-align: top;\n    }\n\n    .dataframe thead th {\n        text-align: right;\n    }\n</style>\n<table border=\"1\" class=\"dataframe\">\n  <thead>\n    <tr style=\"text-align: right;\">\n      <th></th>\n      <th>ID de Empleado</th>\n      <th>Nombre</th>\n      <th>Apellido</th>\n      <th>Departamento</th>\n      <th>Fecha</th>\n      <th>Cantidad de Checadas</th>\n      <th>Hora</th>\n    </tr>\n  </thead>\n  <tbody>\n    <tr>\n      <th>0</th>\n      <td>R-880</td>\n      <td>AAA</td>\n      <td>SEGUNDO</td>\n      <td>MANGUERAS</td>\n      <td>01-08-2023</td>\n      <td>36</td>\n      <td>10:05:06,10:05:08,10:05:10,08:57:37,18:20:28,1...</td>\n    </tr>\n    <tr>\n      <th>1</th>\n      <td>R-880</td>\n      <td>AAA</td>\n      <td>SEGUNDO</td>\n      <td>MANGUERAS</td>\n      <td>02-08-2023</td>\n      <td>33</td>\n      <td>17:30:01,14:11:32,18:09:19,12:02:07,10:07:24,1...</td>\n    </tr>\n    <tr>\n      <th>2</th>\n      <td>R-880</td>\n      <td>AAA</td>\n      <td>SEGUNDO</td>\n      <td>MANGUERAS</td>\n      <td>03-08-2023</td>\n      <td>45</td>\n      <td>16:00:24,15:06:38,15:08:15,15:08:17,16:00:20,1...</td>\n    </tr>\n    <tr>\n      <th>3</th>\n      <td>R-880</td>\n      <td>AAA</td>\n      <td>SEGUNDO</td>\n      <td>MANGUERAS</td>\n      <td>04-08-2023</td>\n      <td>16</td>\n      <td>18:03:31,16:23:10,18:03:29,18:04:09,15:05:06,1...</td>\n    </tr>\n    <tr>\n      <th>4</th>\n      <td>R-880</td>\n      <td>AAA</td>\n      <td>SEGUNDO</td>\n      <td>MANGUERAS</td>\n      <td>07-08-2023</td>\n      <td>23</td>\n      <td>10:04:03,10:02:40,14:08:31,14:06:38,10:02:38,0...</td>\n    </tr>\n    <tr>\n      <th>...</th>\n      <td>...</td>\n      <td>...</td>\n      <td>...</td>\n      <td>...</td>\n      <td>...</td>\n      <td>...</td>\n      <td>...</td>\n    </tr>\n    <tr>\n      <th>111</th>\n      <td>P-4699</td>\n      <td>AAA</td>\n      <td>RILH</td>\n      <td>ADMON</td>\n      <td>02-08-2023</td>\n      <td>8</td>\n      <td>08:35:50,08:35:46,11:00:57,10:08:27,10:08:29,1...</td>\n    </tr>\n    <tr>\n      <th>112</th>\n      <td>P-4699</td>\n      <td>AAA</td>\n      <td>RILH</td>\n      <td>ADMON</td>\n      <td>07-08-2023</td>\n      <td>6</td>\n      <td>10:09:25,10:09:23,14:00:57,09:09:38,09:09:36,1...</td>\n    </tr>\n    <tr>\n      <th>113</th>\n      <td>P-4699</td>\n      <td>AAA</td>\n      <td>RILH</td>\n      <td>ADMON</td>\n      <td>08-08-2023</td>\n      <td>8</td>\n      <td>10:04:06,10:04:08,14:00:14,12:01:27,12:01:29,1...</td>\n    </tr>\n    <tr>\n      <th>114</th>\n      <td>P-4699</td>\n      <td>AAA</td>\n      <td>RILH</td>\n      <td>ADMON</td>\n      <td>09-08-2023</td>\n      <td>6</td>\n      <td>10:00:11,11:00:33,10:00:13,09:22:01,11:00:35,0...</td>\n    </tr>\n    <tr>\n      <th>115</th>\n      <td>P-4699</td>\n      <td>AAA</td>\n      <td>RILH</td>\n      <td>ADMON</td>\n      <td>14-08-2023</td>\n      <td>8</td>\n      <td>10:02:09,08:54:06,12:00:03,14:02:43,08:54:08,1...</td>\n    </tr>\n  </tbody>\n</table>\n<p>116 rows × 7 columns</p>\n</div>"
     },
     "execution_count": 137,
     "metadata": {},
     "output_type": "execute_result"
    }
   ],
   "source": [
    "datos = datos.drop(datos.columns[7], axis=1)\n",
    "datos"
   ],
   "metadata": {
    "collapsed": false,
    "ExecuteTime": {
     "end_time": "2024-05-12T22:08:57.888459Z",
     "start_time": "2024-05-12T22:08:57.538344Z"
    }
   }
  },
  {
   "cell_type": "code",
   "execution_count": 138,
   "outputs": [
    {
     "data": {
      "text/plain": "    ID de Empleado Nombre Apellido Departamento       Fecha  \\\n0            R-880    AAA  SEGUNDO    MANGUERAS  01-08-2023   \n1            R-880    AAA  SEGUNDO    MANGUERAS  02-08-2023   \n2            R-880    AAA  SEGUNDO    MANGUERAS  03-08-2023   \n3            R-880    AAA  SEGUNDO    MANGUERAS  04-08-2023   \n4            R-880    AAA  SEGUNDO    MANGUERAS  07-08-2023   \n..             ...    ...      ...          ...         ...   \n111         P-4699    AAA     RILH        ADMON  02-08-2023   \n112         P-4699    AAA     RILH        ADMON  07-08-2023   \n113         P-4699    AAA     RILH        ADMON  08-08-2023   \n114         P-4699    AAA     RILH        ADMON  09-08-2023   \n115         P-4699    AAA     RILH        ADMON  14-08-2023   \n\n     Cantidad de Checadas                                               Hora  \n0                      36  08:57:37,08:57:39,08:57:41,08:57:44,10:05:04,1...  \n1                      33  09:06:03,09:06:05,09:06:07,09:06:10,10:07:17,1...  \n2                      45  09:03:49,09:03:51,09:03:54,09:03:56,10:02:58,1...  \n3                      16  09:04:06,09:04:08,09:04:10,09:04:13,10:03:59,1...  \n4                      23  09:04:33,09:04:36,09:04:38,09:04:40,09:10:10,1...  \n..                    ...                                                ...  \n111                     8  08:35:46,08:35:48,08:35:50,10:08:27,10:08:29,1...  \n112                     6  09:09:36,09:09:38,10:09:23,10:09:25,14:00:57,1...  \n113                     8  08:53:20,08:53:22,10:04:06,10:04:08,12:01:27,1...  \n114                     6  09:22:01,09:22:09,10:00:11,10:00:13,11:00:33,1...  \n115                     8  08:54:06,08:54:08,10:02:09,10:02:11,12:00:03,1...  \n\n[116 rows x 7 columns]",
      "text/html": "<div>\n<style scoped>\n    .dataframe tbody tr th:only-of-type {\n        vertical-align: middle;\n    }\n\n    .dataframe tbody tr th {\n        vertical-align: top;\n    }\n\n    .dataframe thead th {\n        text-align: right;\n    }\n</style>\n<table border=\"1\" class=\"dataframe\">\n  <thead>\n    <tr style=\"text-align: right;\">\n      <th></th>\n      <th>ID de Empleado</th>\n      <th>Nombre</th>\n      <th>Apellido</th>\n      <th>Departamento</th>\n      <th>Fecha</th>\n      <th>Cantidad de Checadas</th>\n      <th>Hora</th>\n    </tr>\n  </thead>\n  <tbody>\n    <tr>\n      <th>0</th>\n      <td>R-880</td>\n      <td>AAA</td>\n      <td>SEGUNDO</td>\n      <td>MANGUERAS</td>\n      <td>01-08-2023</td>\n      <td>36</td>\n      <td>08:57:37,08:57:39,08:57:41,08:57:44,10:05:04,1...</td>\n    </tr>\n    <tr>\n      <th>1</th>\n      <td>R-880</td>\n      <td>AAA</td>\n      <td>SEGUNDO</td>\n      <td>MANGUERAS</td>\n      <td>02-08-2023</td>\n      <td>33</td>\n      <td>09:06:03,09:06:05,09:06:07,09:06:10,10:07:17,1...</td>\n    </tr>\n    <tr>\n      <th>2</th>\n      <td>R-880</td>\n      <td>AAA</td>\n      <td>SEGUNDO</td>\n      <td>MANGUERAS</td>\n      <td>03-08-2023</td>\n      <td>45</td>\n      <td>09:03:49,09:03:51,09:03:54,09:03:56,10:02:58,1...</td>\n    </tr>\n    <tr>\n      <th>3</th>\n      <td>R-880</td>\n      <td>AAA</td>\n      <td>SEGUNDO</td>\n      <td>MANGUERAS</td>\n      <td>04-08-2023</td>\n      <td>16</td>\n      <td>09:04:06,09:04:08,09:04:10,09:04:13,10:03:59,1...</td>\n    </tr>\n    <tr>\n      <th>4</th>\n      <td>R-880</td>\n      <td>AAA</td>\n      <td>SEGUNDO</td>\n      <td>MANGUERAS</td>\n      <td>07-08-2023</td>\n      <td>23</td>\n      <td>09:04:33,09:04:36,09:04:38,09:04:40,09:10:10,1...</td>\n    </tr>\n    <tr>\n      <th>...</th>\n      <td>...</td>\n      <td>...</td>\n      <td>...</td>\n      <td>...</td>\n      <td>...</td>\n      <td>...</td>\n      <td>...</td>\n    </tr>\n    <tr>\n      <th>111</th>\n      <td>P-4699</td>\n      <td>AAA</td>\n      <td>RILH</td>\n      <td>ADMON</td>\n      <td>02-08-2023</td>\n      <td>8</td>\n      <td>08:35:46,08:35:48,08:35:50,10:08:27,10:08:29,1...</td>\n    </tr>\n    <tr>\n      <th>112</th>\n      <td>P-4699</td>\n      <td>AAA</td>\n      <td>RILH</td>\n      <td>ADMON</td>\n      <td>07-08-2023</td>\n      <td>6</td>\n      <td>09:09:36,09:09:38,10:09:23,10:09:25,14:00:57,1...</td>\n    </tr>\n    <tr>\n      <th>113</th>\n      <td>P-4699</td>\n      <td>AAA</td>\n      <td>RILH</td>\n      <td>ADMON</td>\n      <td>08-08-2023</td>\n      <td>8</td>\n      <td>08:53:20,08:53:22,10:04:06,10:04:08,12:01:27,1...</td>\n    </tr>\n    <tr>\n      <th>114</th>\n      <td>P-4699</td>\n      <td>AAA</td>\n      <td>RILH</td>\n      <td>ADMON</td>\n      <td>09-08-2023</td>\n      <td>6</td>\n      <td>09:22:01,09:22:09,10:00:11,10:00:13,11:00:33,1...</td>\n    </tr>\n    <tr>\n      <th>115</th>\n      <td>P-4699</td>\n      <td>AAA</td>\n      <td>RILH</td>\n      <td>ADMON</td>\n      <td>14-08-2023</td>\n      <td>8</td>\n      <td>08:54:06,08:54:08,10:02:09,10:02:11,12:00:03,1...</td>\n    </tr>\n  </tbody>\n</table>\n<p>116 rows × 7 columns</p>\n</div>"
     },
     "execution_count": 138,
     "metadata": {},
     "output_type": "execute_result"
    }
   ],
   "source": [
    "# Convertir la columna 'Hora' en una lista de horas separadas por comas\n",
    "horas_checadas = datos['Hora'].str.split(',')\n",
    "\n",
    "# Ordenar las horas en cada fila\n",
    "horas_ordenadas = horas_checadas.apply(lambda x: sorted(x))\n",
    "# Convertir la lista ordenada de horas de nuevo a una cadena separada por comas\n",
    "horas_ordenadas_str = horas_ordenadas.apply(lambda x: ','.join(x))\n",
    "\n",
    "# Actualizar la columna 'Hora' con las horas ordenadas\n",
    "datos['Hora'] = horas_ordenadas_str\n",
    "datos"
   ],
   "metadata": {
    "collapsed": false,
    "ExecuteTime": {
     "end_time": "2024-05-12T22:08:57.903493Z",
     "start_time": "2024-05-12T22:08:57.565370Z"
    }
   }
  },
  {
   "cell_type": "code",
   "execution_count": 139,
   "outputs": [
    {
     "data": {
      "text/plain": "    ID de Empleado Nombre Apellido Departamento       Fecha  \\\n0            R-880    AAA  SEGUNDO    MANGUERAS  01-08-2023   \n1            R-880    AAA  SEGUNDO    MANGUERAS  02-08-2023   \n2            R-880    AAA  SEGUNDO    MANGUERAS  03-08-2023   \n3            R-880    AAA  SEGUNDO    MANGUERAS  04-08-2023   \n4            R-880    AAA  SEGUNDO    MANGUERAS  07-08-2023   \n..             ...    ...      ...          ...         ...   \n111         P-4699    AAA     RILH        ADMON  02-08-2023   \n112         P-4699    AAA     RILH        ADMON  07-08-2023   \n113         P-4699    AAA     RILH        ADMON  08-08-2023   \n114         P-4699    AAA     RILH        ADMON  09-08-2023   \n115         P-4699    AAA     RILH        ADMON  14-08-2023   \n\n     Cantidad de Checadas                                               Hora  \\\n0                      36  08:57:37,08:57:39,08:57:41,08:57:44,10:05:04,1...   \n1                      33  09:06:03,09:06:05,09:06:07,09:06:10,10:07:17,1...   \n2                      45  09:03:49,09:03:51,09:03:54,09:03:56,10:02:58,1...   \n3                      16  09:04:06,09:04:08,09:04:10,09:04:13,10:03:59,1...   \n4                      23  09:04:33,09:04:36,09:04:38,09:04:40,09:10:10,1...   \n..                    ...                                                ...   \n111                     8  08:35:46,08:35:48,08:35:50,10:08:27,10:08:29,1...   \n112                     6  09:09:36,09:09:38,10:09:23,10:09:25,14:00:57,1...   \n113                     8  08:53:20,08:53:22,10:04:06,10:04:08,12:01:27,1...   \n114                     6  09:22:01,09:22:09,10:00:11,10:00:13,11:00:33,1...   \n115                     8  08:54:06,08:54:08,10:02:09,10:02:11,12:00:03,1...   \n\n    Hora de entrada Hora de salida  Horas totales  \n0          08:57:37       18:20:28            9.0  \n1          09:06:03       18:13:39            9.0  \n2          09:03:49       18:05:10            9.0  \n3          09:04:06       18:04:09            9.0  \n4          09:04:33       14:08:31            5.0  \n..              ...            ...            ...  \n111        08:35:46       11:01:01            2.0  \n112        09:09:36       14:00:59            5.0  \n113        08:53:20       14:00:14            5.0  \n114               F       11:00:35            NaN  \n115        08:54:06       14:02:43            5.0  \n\n[116 rows x 10 columns]",
      "text/html": "<div>\n<style scoped>\n    .dataframe tbody tr th:only-of-type {\n        vertical-align: middle;\n    }\n\n    .dataframe tbody tr th {\n        vertical-align: top;\n    }\n\n    .dataframe thead th {\n        text-align: right;\n    }\n</style>\n<table border=\"1\" class=\"dataframe\">\n  <thead>\n    <tr style=\"text-align: right;\">\n      <th></th>\n      <th>ID de Empleado</th>\n      <th>Nombre</th>\n      <th>Apellido</th>\n      <th>Departamento</th>\n      <th>Fecha</th>\n      <th>Cantidad de Checadas</th>\n      <th>Hora</th>\n      <th>Hora de entrada</th>\n      <th>Hora de salida</th>\n      <th>Horas totales</th>\n    </tr>\n  </thead>\n  <tbody>\n    <tr>\n      <th>0</th>\n      <td>R-880</td>\n      <td>AAA</td>\n      <td>SEGUNDO</td>\n      <td>MANGUERAS</td>\n      <td>01-08-2023</td>\n      <td>36</td>\n      <td>08:57:37,08:57:39,08:57:41,08:57:44,10:05:04,1...</td>\n      <td>08:57:37</td>\n      <td>18:20:28</td>\n      <td>9.0</td>\n    </tr>\n    <tr>\n      <th>1</th>\n      <td>R-880</td>\n      <td>AAA</td>\n      <td>SEGUNDO</td>\n      <td>MANGUERAS</td>\n      <td>02-08-2023</td>\n      <td>33</td>\n      <td>09:06:03,09:06:05,09:06:07,09:06:10,10:07:17,1...</td>\n      <td>09:06:03</td>\n      <td>18:13:39</td>\n      <td>9.0</td>\n    </tr>\n    <tr>\n      <th>2</th>\n      <td>R-880</td>\n      <td>AAA</td>\n      <td>SEGUNDO</td>\n      <td>MANGUERAS</td>\n      <td>03-08-2023</td>\n      <td>45</td>\n      <td>09:03:49,09:03:51,09:03:54,09:03:56,10:02:58,1...</td>\n      <td>09:03:49</td>\n      <td>18:05:10</td>\n      <td>9.0</td>\n    </tr>\n    <tr>\n      <th>3</th>\n      <td>R-880</td>\n      <td>AAA</td>\n      <td>SEGUNDO</td>\n      <td>MANGUERAS</td>\n      <td>04-08-2023</td>\n      <td>16</td>\n      <td>09:04:06,09:04:08,09:04:10,09:04:13,10:03:59,1...</td>\n      <td>09:04:06</td>\n      <td>18:04:09</td>\n      <td>9.0</td>\n    </tr>\n    <tr>\n      <th>4</th>\n      <td>R-880</td>\n      <td>AAA</td>\n      <td>SEGUNDO</td>\n      <td>MANGUERAS</td>\n      <td>07-08-2023</td>\n      <td>23</td>\n      <td>09:04:33,09:04:36,09:04:38,09:04:40,09:10:10,1...</td>\n      <td>09:04:33</td>\n      <td>14:08:31</td>\n      <td>5.0</td>\n    </tr>\n    <tr>\n      <th>...</th>\n      <td>...</td>\n      <td>...</td>\n      <td>...</td>\n      <td>...</td>\n      <td>...</td>\n      <td>...</td>\n      <td>...</td>\n      <td>...</td>\n      <td>...</td>\n      <td>...</td>\n    </tr>\n    <tr>\n      <th>111</th>\n      <td>P-4699</td>\n      <td>AAA</td>\n      <td>RILH</td>\n      <td>ADMON</td>\n      <td>02-08-2023</td>\n      <td>8</td>\n      <td>08:35:46,08:35:48,08:35:50,10:08:27,10:08:29,1...</td>\n      <td>08:35:46</td>\n      <td>11:01:01</td>\n      <td>2.0</td>\n    </tr>\n    <tr>\n      <th>112</th>\n      <td>P-4699</td>\n      <td>AAA</td>\n      <td>RILH</td>\n      <td>ADMON</td>\n      <td>07-08-2023</td>\n      <td>6</td>\n      <td>09:09:36,09:09:38,10:09:23,10:09:25,14:00:57,1...</td>\n      <td>09:09:36</td>\n      <td>14:00:59</td>\n      <td>5.0</td>\n    </tr>\n    <tr>\n      <th>113</th>\n      <td>P-4699</td>\n      <td>AAA</td>\n      <td>RILH</td>\n      <td>ADMON</td>\n      <td>08-08-2023</td>\n      <td>8</td>\n      <td>08:53:20,08:53:22,10:04:06,10:04:08,12:01:27,1...</td>\n      <td>08:53:20</td>\n      <td>14:00:14</td>\n      <td>5.0</td>\n    </tr>\n    <tr>\n      <th>114</th>\n      <td>P-4699</td>\n      <td>AAA</td>\n      <td>RILH</td>\n      <td>ADMON</td>\n      <td>09-08-2023</td>\n      <td>6</td>\n      <td>09:22:01,09:22:09,10:00:11,10:00:13,11:00:33,1...</td>\n      <td>F</td>\n      <td>11:00:35</td>\n      <td>NaN</td>\n    </tr>\n    <tr>\n      <th>115</th>\n      <td>P-4699</td>\n      <td>AAA</td>\n      <td>RILH</td>\n      <td>ADMON</td>\n      <td>14-08-2023</td>\n      <td>8</td>\n      <td>08:54:06,08:54:08,10:02:09,10:02:11,12:00:03,1...</td>\n      <td>08:54:06</td>\n      <td>14:02:43</td>\n      <td>5.0</td>\n    </tr>\n  </tbody>\n</table>\n<p>116 rows × 10 columns</p>\n</div>"
     },
     "execution_count": 139,
     "metadata": {},
     "output_type": "execute_result"
    }
   ],
   "source": [
    "# Definir una función para obtener la hora de entrada con una tolerancia de 20 minutos\n",
    "def obtener_hora_entrada(horas):\n",
    "    hora_entrada = None\n",
    "    for hora in horas:\n",
    "        if hora_entrada is None or hora < hora_entrada:\n",
    "            hora_entrada = hora\n",
    "    hora_entrada_dt = datetime.strptime(hora_entrada, \"%H:%M:%S\")\n",
    "    if hora_entrada_dt <= datetime.strptime(\"09:20:00\", \"%H:%M:%S\"):\n",
    "        return hora_entrada\n",
    "    else:\n",
    "        return 'F'\n",
    "\n",
    "\n",
    "# Definir una función para obtener la hora de salida\n",
    "def obtener_hora_salida(horas):\n",
    "    return max(horas)\n",
    "\n",
    "\n",
    "# Definir una función para obtener las horas totales\n",
    "def obtener_horas_totales(hora_entrada, hora_salida):\n",
    "    if hora_entrada != \"F\":\n",
    "        hora_entrada_dt = datetime.strptime(hora_entrada, \"%H:%M:%S\")\n",
    "        hora_salida_dt = datetime.strptime(hora_salida, \"%H:%M:%S\")\n",
    "        horas_totales = hora_salida_dt - hora_entrada_dt\n",
    "        return round(horas_totales.total_seconds() / 3600)  # Convertir a horas y redondear\n",
    "    else:\n",
    "        return None\n",
    "\n",
    "\n",
    "# Aplicar las funciones definidas a cada fila del DataFrame para generar las nuevas columnas\n",
    "datos['Hora de entrada'] = horas_checadas.apply(obtener_hora_entrada)\n",
    "datos['Hora de salida'] = horas_checadas.apply(obtener_hora_salida)\n",
    "datos['Horas totales'] = datos.apply(lambda row: obtener_horas_totales(row['Hora de entrada'], row['Hora de salida']),\n",
    "                                     axis=1)\n",
    "\n",
    "datos"
   ],
   "metadata": {
    "collapsed": false,
    "ExecuteTime": {
     "end_time": "2024-05-12T22:08:57.967304Z",
     "start_time": "2024-05-12T22:08:57.605240Z"
    }
   }
  },
  {
   "cell_type": "code",
   "execution_count": 140,
   "outputs": [
    {
     "name": "stdout",
     "output_type": "stream",
     "text": [
      "Exito\n"
     ]
    }
   ],
   "source": [
    "# Guardando a CSV\n",
    "datos.to_csv(\"recursos/datos_new.csv\", index=False)\n",
    "print(\"Exito\")"
   ],
   "metadata": {
    "collapsed": false,
    "ExecuteTime": {
     "end_time": "2024-05-12T22:08:57.967855Z",
     "start_time": "2024-05-12T22:08:57.624967Z"
    }
   }
  },
  {
   "cell_type": "code",
   "execution_count": 144,
   "outputs": [
    {
     "data": {
      "text/plain": "   ID_empleado Nombre            Apellido Departamento\n0        R-880    AAA             SEGUNDO    MANGUERAS\n1       E-1999    AAA               NUÑEZ    LOGISTICA\n2       E-2050    AAA             REYNOSO        ADMON\n3       E-2729    AAA  HERNANDEZ GONZALEZ      PSICO I\n4       M-3697    AAA              ORTEGA     HERRERIA\n5       P-4217    AAA               PEREZ    PLASTICOS\n6       P-4462    AAA           CASTAÑEDA    PLASTICOS\n7       P-4463    AAA           CASTAÑEDA    PLASTICOS\n8       P-4464    AAA           CASTAÑEDA    PLASTICOS\n9       P-4465    AAA           CASTAÑEDA    PLASTICOS\n10      P-4466    AAA           CASTAÑEDA    PLASTICOS\n11      P-4467    AAA           CASTAÑEDA    PLASTICOS\n12      P-4468    AAA           CASTAÑEDA    PLASTICOS\n13      P-4511    AAA               LOPEZ    PLASTICOS\n14      P-4576    AAA            GONZALEZ    PLASTICOS\n15      P-4579    AAA        LOPEZ OROZCO        ADMON\n16      P-4697    AAA       CHIMAL MEDINA        ADMON\n17      P-4698    AAA               PEREZ        ADMON\n18      P-4699    AAA                RILH        ADMON",
      "text/html": "<div>\n<style scoped>\n    .dataframe tbody tr th:only-of-type {\n        vertical-align: middle;\n    }\n\n    .dataframe tbody tr th {\n        vertical-align: top;\n    }\n\n    .dataframe thead th {\n        text-align: right;\n    }\n</style>\n<table border=\"1\" class=\"dataframe\">\n  <thead>\n    <tr style=\"text-align: right;\">\n      <th></th>\n      <th>ID_empleado</th>\n      <th>Nombre</th>\n      <th>Apellido</th>\n      <th>Departamento</th>\n    </tr>\n  </thead>\n  <tbody>\n    <tr>\n      <th>0</th>\n      <td>R-880</td>\n      <td>AAA</td>\n      <td>SEGUNDO</td>\n      <td>MANGUERAS</td>\n    </tr>\n    <tr>\n      <th>1</th>\n      <td>E-1999</td>\n      <td>AAA</td>\n      <td>NUÑEZ</td>\n      <td>LOGISTICA</td>\n    </tr>\n    <tr>\n      <th>2</th>\n      <td>E-2050</td>\n      <td>AAA</td>\n      <td>REYNOSO</td>\n      <td>ADMON</td>\n    </tr>\n    <tr>\n      <th>3</th>\n      <td>E-2729</td>\n      <td>AAA</td>\n      <td>HERNANDEZ GONZALEZ</td>\n      <td>PSICO I</td>\n    </tr>\n    <tr>\n      <th>4</th>\n      <td>M-3697</td>\n      <td>AAA</td>\n      <td>ORTEGA</td>\n      <td>HERRERIA</td>\n    </tr>\n    <tr>\n      <th>5</th>\n      <td>P-4217</td>\n      <td>AAA</td>\n      <td>PEREZ</td>\n      <td>PLASTICOS</td>\n    </tr>\n    <tr>\n      <th>6</th>\n      <td>P-4462</td>\n      <td>AAA</td>\n      <td>CASTAÑEDA</td>\n      <td>PLASTICOS</td>\n    </tr>\n    <tr>\n      <th>7</th>\n      <td>P-4463</td>\n      <td>AAA</td>\n      <td>CASTAÑEDA</td>\n      <td>PLASTICOS</td>\n    </tr>\n    <tr>\n      <th>8</th>\n      <td>P-4464</td>\n      <td>AAA</td>\n      <td>CASTAÑEDA</td>\n      <td>PLASTICOS</td>\n    </tr>\n    <tr>\n      <th>9</th>\n      <td>P-4465</td>\n      <td>AAA</td>\n      <td>CASTAÑEDA</td>\n      <td>PLASTICOS</td>\n    </tr>\n    <tr>\n      <th>10</th>\n      <td>P-4466</td>\n      <td>AAA</td>\n      <td>CASTAÑEDA</td>\n      <td>PLASTICOS</td>\n    </tr>\n    <tr>\n      <th>11</th>\n      <td>P-4467</td>\n      <td>AAA</td>\n      <td>CASTAÑEDA</td>\n      <td>PLASTICOS</td>\n    </tr>\n    <tr>\n      <th>12</th>\n      <td>P-4468</td>\n      <td>AAA</td>\n      <td>CASTAÑEDA</td>\n      <td>PLASTICOS</td>\n    </tr>\n    <tr>\n      <th>13</th>\n      <td>P-4511</td>\n      <td>AAA</td>\n      <td>LOPEZ</td>\n      <td>PLASTICOS</td>\n    </tr>\n    <tr>\n      <th>14</th>\n      <td>P-4576</td>\n      <td>AAA</td>\n      <td>GONZALEZ</td>\n      <td>PLASTICOS</td>\n    </tr>\n    <tr>\n      <th>15</th>\n      <td>P-4579</td>\n      <td>AAA</td>\n      <td>LOPEZ OROZCO</td>\n      <td>ADMON</td>\n    </tr>\n    <tr>\n      <th>16</th>\n      <td>P-4697</td>\n      <td>AAA</td>\n      <td>CHIMAL MEDINA</td>\n      <td>ADMON</td>\n    </tr>\n    <tr>\n      <th>17</th>\n      <td>P-4698</td>\n      <td>AAA</td>\n      <td>PEREZ</td>\n      <td>ADMON</td>\n    </tr>\n    <tr>\n      <th>18</th>\n      <td>P-4699</td>\n      <td>AAA</td>\n      <td>RILH</td>\n      <td>ADMON</td>\n    </tr>\n  </tbody>\n</table>\n</div>"
     },
     "execution_count": 144,
     "metadata": {},
     "output_type": "execute_result"
    }
   ],
   "source": [
    "# Columnas seleccionadas que deseas convertir a sentencias MySQL\n",
    "columnas_seleccionadas = ['ID de Empleado', 'Nombre', 'Apellido', 'Departamento']\n",
    "empleados = pd.read_csv(\"recursos/datos_new.csv\", usecols=columnas_seleccionadas, encoding='utf-8')\n",
    "\n",
    "# CAMBIANDO NOMNRE DE LAS COLUMNAS\n",
    "nuevos_nombres = {\n",
    "    'ID de Empleado': 'ID_empleado'\n",
    "}\n",
    "\n",
    "# Cambiar los nombres de las columnas\n",
    "empleados = empleados.rename(columns=nuevos_nombres)\n",
    "empleados = empleados.drop_duplicates()\n",
    "empleados.to_csv(\"recursos/empleados.csv\", index=False)\n",
    "empleados = pd.read_csv(\"recursos/empleados.csv\")\n",
    "empleados"
   ],
   "metadata": {
    "collapsed": false,
    "ExecuteTime": {
     "end_time": "2024-05-12T23:19:56.880326Z",
     "start_time": "2024-05-12T23:19:56.836607Z"
    }
   }
  },
  {
   "cell_type": "code",
   "execution_count": 145,
   "outputs": [],
   "source": [
    "# Definir el nombre de la tabla en MySQL\n",
    "nombre_tabla = \"empleados\"\n",
    "\n",
    "# Crear una cadena para almacenar las sentencias SQL INSERT\n",
    "sentencias_sql = []\n",
    "\n",
    "# Iterar sobre cada fila del DataFrame y generar la sentencia INSERT correspondiente\n",
    "for index, fila in empleados.iterrows():\n",
    "    valores = \", \".join([f\"'{str(valor)}'\" for valor in fila])  # Encerrar cada valor entre comillas simples\n",
    "    sentencia = f\"INSERT INTO {nombre_tabla} ({', '.join(empleados.columns)}) VALUES ({valores});\"\n",
    "    sentencias_sql.append(sentencia)\n",
    "\n",
    "# Guardar las sentencias SQL en un archivo\n",
    "with open(\"recursos/sentencias_sql.sql\", \"w\") as archivo_sql:\n",
    "    for sentencia in sentencias_sql:\n",
    "        archivo_sql.write(sentencia + \"\\n\")"
   ],
   "metadata": {
    "collapsed": false,
    "ExecuteTime": {
     "end_time": "2024-05-12T23:20:22.680589Z",
     "start_time": "2024-05-12T23:20:22.667239Z"
    }
   }
  }
 ],
 "metadata": {
  "kernelspec": {
   "display_name": "Python 3",
   "language": "python",
   "name": "python3"
  },
  "language_info": {
   "codemirror_mode": {
    "name": "ipython",
    "version": 2
   },
   "file_extension": ".py",
   "mimetype": "text/x-python",
   "name": "python",
   "nbconvert_exporter": "python",
   "pygments_lexer": "ipython2",
   "version": "2.7.6"
  }
 },
 "nbformat": 4,
 "nbformat_minor": 0
}
