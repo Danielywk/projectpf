{
 "cells": [
  {
   "cell_type": "code",
   "execution_count": 2,
   "metadata": {
    "collapsed": true,
    "ExecuteTime": {
     "end_time": "2024-03-05T03:06:49.460643Z",
     "start_time": "2024-03-05T03:06:47.312076Z"
    }
   },
   "outputs": [],
   "source": [
    "# librerias\n",
    "import pandas as pd\n",
    "import random\n",
    "import numpy as np\n",
    "import matplotlib.pyplot as plt"
   ]
  },
  {
   "cell_type": "code",
   "execution_count": 89,
   "outputs": [],
   "source": [
    "datos = pd.read_excel(\"recursos/pruebas.xlsm\")"
   ],
   "metadata": {
    "collapsed": false,
    "ExecuteTime": {
     "end_time": "2024-03-05T05:11:30.229204Z",
     "start_time": "2024-03-05T05:11:30.150496Z"
    }
   }
  },
  {
   "cell_type": "code",
   "execution_count": 90,
   "outputs": [
    {
     "name": "stdout",
     "output_type": "stream",
     "text": [
      "       Unnamed: 0 Unnamed: 1 Unnamed: 2    Unnamed: 3  Unnamed: 4  \\\n",
      "0             NaN        NaN        NaN           NaN         NaN   \n",
      "1  ID de Empleado     Nombre   Apellido  Departamento       Fecha   \n",
      "2           R-880        AAA    SEGUNDO     MANGUERAS  01-08-2023   \n",
      "3           R-880        AAA    SEGUNDO     MANGUERAS  02-08-2023   \n",
      "4           R-880        AAA    SEGUNDO     MANGUERAS  03-08-2023   \n",
      "\n",
      "             Unnamed: 5                                         Unnamed: 6  \\\n",
      "0                   NaN                                                NaN   \n",
      "1  Cantidad de Checadas                                               Hora   \n",
      "2                    36  10:05:06,10:05:08,10:05:10,08:57:37,18:20:28,1...   \n",
      "3                    33  17:30:01,14:11:32,18:09:19,12:02:07,10:07:24,1...   \n",
      "4                    45  16:00:24,15:06:38,15:08:15,15:08:17,16:00:20,1...   \n",
      "\n",
      "   Unnamed: 7 Unnamed: 8 Unnamed: 9  ... Unnamed: 43 Unnamed: 44 Unnamed: 45  \\\n",
      "0         NaN        NaN        NaN  ...         NaN         NaN         NaN   \n",
      "1         NaN       Hora        NaN  ...         NaN         NaN         NaN   \n",
      "2         NaN   10:05:06   10:05:08  ...    08:57:39         NaN         NaN   \n",
      "3         NaN   17:30:01   14:11:32  ...         NaN         NaN         NaN   \n",
      "4         NaN   16:00:24   15:06:38  ...    13:01:55    13:01:57    13:12:00   \n",
      "\n",
      "  Unnamed: 46 Unnamed: 47 Unnamed: 48 Unnamed: 49 Unnamed: 50 Unnamed: 51  \\\n",
      "0         NaN         NaN         NaN         NaN         NaN         NaN   \n",
      "1         NaN         NaN         NaN         NaN         NaN         NaN   \n",
      "2         NaN         NaN         NaN         NaN         NaN         NaN   \n",
      "3         NaN         NaN         NaN         NaN         NaN         NaN   \n",
      "4    13:12:02    13:11:57    13:12:04    14:04:27    14:04:29    14:04:31   \n",
      "\n",
      "  Unnamed: 52  \n",
      "0         NaN  \n",
      "1         NaN  \n",
      "2         NaN  \n",
      "3         NaN  \n",
      "4    14:04:33  \n",
      "\n",
      "[5 rows x 53 columns]\n"
     ]
    }
   ],
   "source": [
    "print(datos.head())"
   ],
   "metadata": {
    "collapsed": false,
    "ExecuteTime": {
     "end_time": "2024-03-05T05:11:30.949827Z",
     "start_time": "2024-03-05T05:11:30.924744Z"
    }
   }
  },
  {
   "cell_type": "markdown",
   "source": [],
   "metadata": {
    "collapsed": false
   }
  },
  {
   "cell_type": "code",
   "execution_count": 91,
   "outputs": [
    {
     "name": "stdout",
     "output_type": "stream",
     "text": [
      "         Unnamed: 0 Unnamed: 1 Unnamed: 2    Unnamed: 3  Unnamed: 4  \\\n",
      "1    ID de Empleado     Nombre   Apellido  Departamento       Fecha   \n",
      "2             R-880        AAA    SEGUNDO     MANGUERAS  01-08-2023   \n",
      "3             R-880        AAA    SEGUNDO     MANGUERAS  02-08-2023   \n",
      "4             R-880        AAA    SEGUNDO     MANGUERAS  03-08-2023   \n",
      "5             R-880        AAA    SEGUNDO     MANGUERAS  04-08-2023   \n",
      "..              ...        ...        ...           ...         ...   \n",
      "113          P-4699        AAA       RILH         ADMON  02-08-2023   \n",
      "114          P-4699        AAA       RILH         ADMON  07-08-2023   \n",
      "115          P-4699        AAA       RILH         ADMON  08-08-2023   \n",
      "116          P-4699        AAA       RILH         ADMON  09-08-2023   \n",
      "117          P-4699        AAA       RILH         ADMON  14-08-2023   \n",
      "\n",
      "               Unnamed: 5                                         Unnamed: 6  \\\n",
      "1    Cantidad de Checadas                                               Hora   \n",
      "2                      36  10:05:06,10:05:08,10:05:10,08:57:37,18:20:28,1...   \n",
      "3                      33  17:30:01,14:11:32,18:09:19,12:02:07,10:07:24,1...   \n",
      "4                      45  16:00:24,15:06:38,15:08:15,15:08:17,16:00:20,1...   \n",
      "5                      16  18:03:31,16:23:10,18:03:29,18:04:09,15:05:06,1...   \n",
      "..                    ...                                                ...   \n",
      "113                     8  08:35:50,08:35:46,11:00:57,10:08:27,10:08:29,1...   \n",
      "114                     6  10:09:25,10:09:23,14:00:57,09:09:38,09:09:36,1...   \n",
      "115                     8  10:04:06,10:04:08,14:00:14,12:01:27,12:01:29,1...   \n",
      "116                     6  10:00:11,11:00:33,10:00:13,09:22:01,11:00:35,0...   \n",
      "117                     8  10:02:09,08:54:06,12:00:03,14:02:43,08:54:08,1...   \n",
      "\n",
      "     Unnamed: 7 Unnamed: 8 Unnamed: 9  ... Unnamed: 43 Unnamed: 44  \\\n",
      "1           NaN       Hora        NaN  ...         NaN         NaN   \n",
      "2           NaN   10:05:06   10:05:08  ...    08:57:39         NaN   \n",
      "3           NaN   17:30:01   14:11:32  ...         NaN         NaN   \n",
      "4           NaN   16:00:24   15:06:38  ...    13:01:55    13:01:57   \n",
      "5           NaN   18:03:31   16:23:10  ...         NaN         NaN   \n",
      "..          ...        ...        ...  ...         ...         ...   \n",
      "113         NaN   08:35:50   08:35:46  ...         NaN         NaN   \n",
      "114         NaN   10:09:25   10:09:23  ...         NaN         NaN   \n",
      "115         NaN   10:04:06   10:04:08  ...         NaN         NaN   \n",
      "116         NaN   10:00:11   11:00:33  ...         NaN         NaN   \n",
      "117         NaN   10:02:09   08:54:06  ...         NaN         NaN   \n",
      "\n",
      "    Unnamed: 45 Unnamed: 46 Unnamed: 47 Unnamed: 48 Unnamed: 49 Unnamed: 50  \\\n",
      "1           NaN         NaN         NaN         NaN         NaN         NaN   \n",
      "2           NaN         NaN         NaN         NaN         NaN         NaN   \n",
      "3           NaN         NaN         NaN         NaN         NaN         NaN   \n",
      "4      13:12:00    13:12:02    13:11:57    13:12:04    14:04:27    14:04:29   \n",
      "5           NaN         NaN         NaN         NaN         NaN         NaN   \n",
      "..          ...         ...         ...         ...         ...         ...   \n",
      "113         NaN         NaN         NaN         NaN         NaN         NaN   \n",
      "114         NaN         NaN         NaN         NaN         NaN         NaN   \n",
      "115         NaN         NaN         NaN         NaN         NaN         NaN   \n",
      "116         NaN         NaN         NaN         NaN         NaN         NaN   \n",
      "117         NaN         NaN         NaN         NaN         NaN         NaN   \n",
      "\n",
      "    Unnamed: 51 Unnamed: 52  \n",
      "1           NaN         NaN  \n",
      "2           NaN         NaN  \n",
      "3           NaN         NaN  \n",
      "4      14:04:31    14:04:33  \n",
      "5           NaN         NaN  \n",
      "..          ...         ...  \n",
      "113         NaN         NaN  \n",
      "114         NaN         NaN  \n",
      "115         NaN         NaN  \n",
      "116         NaN         NaN  \n",
      "117         NaN         NaN  \n",
      "\n",
      "[117 rows x 53 columns]\n"
     ]
    }
   ],
   "source": [
    "datos = datos.drop(datos.index[0])\n",
    "print(datos)"
   ],
   "metadata": {
    "collapsed": false,
    "ExecuteTime": {
     "end_time": "2024-03-05T05:11:34.425001Z",
     "start_time": "2024-03-05T05:11:34.388259Z"
    }
   }
  },
  {
   "cell_type": "code",
   "execution_count": 92,
   "outputs": [
    {
     "name": "stdout",
     "output_type": "stream",
     "text": [
      "1   ID de Empleado Nombre Apellido Departamento       Fecha  \\\n",
      "0            R-880    AAA  SEGUNDO    MANGUERAS  01-08-2023   \n",
      "1            R-880    AAA  SEGUNDO    MANGUERAS  02-08-2023   \n",
      "2            R-880    AAA  SEGUNDO    MANGUERAS  03-08-2023   \n",
      "3            R-880    AAA  SEGUNDO    MANGUERAS  04-08-2023   \n",
      "4            R-880    AAA  SEGUNDO    MANGUERAS  07-08-2023   \n",
      "..             ...    ...      ...          ...         ...   \n",
      "111         P-4699    AAA     RILH        ADMON  02-08-2023   \n",
      "112         P-4699    AAA     RILH        ADMON  07-08-2023   \n",
      "113         P-4699    AAA     RILH        ADMON  08-08-2023   \n",
      "114         P-4699    AAA     RILH        ADMON  09-08-2023   \n",
      "115         P-4699    AAA     RILH        ADMON  14-08-2023   \n",
      "\n",
      "1   Cantidad de Checadas                                               Hora  \\\n",
      "0                     36  10:05:06,10:05:08,10:05:10,08:57:37,18:20:28,1...   \n",
      "1                     33  17:30:01,14:11:32,18:09:19,12:02:07,10:07:24,1...   \n",
      "2                     45  16:00:24,15:06:38,15:08:15,15:08:17,16:00:20,1...   \n",
      "3                     16  18:03:31,16:23:10,18:03:29,18:04:09,15:05:06,1...   \n",
      "4                     23  10:04:03,10:02:40,14:08:31,14:06:38,10:02:38,0...   \n",
      "..                   ...                                                ...   \n",
      "111                    8  08:35:50,08:35:46,11:00:57,10:08:27,10:08:29,1...   \n",
      "112                    6  10:09:25,10:09:23,14:00:57,09:09:38,09:09:36,1...   \n",
      "113                    8  10:04:06,10:04:08,14:00:14,12:01:27,12:01:29,1...   \n",
      "114                    6  10:00:11,11:00:33,10:00:13,09:22:01,11:00:35,0...   \n",
      "115                    8  10:02:09,08:54:06,12:00:03,14:02:43,08:54:08,1...   \n",
      "\n",
      "1   NaN      Hora       NaN  ...       NaN       NaN       NaN       NaN  \\\n",
      "0   NaN  10:05:06  10:05:08  ...  08:57:39       NaN       NaN       NaN   \n",
      "1   NaN  17:30:01  14:11:32  ...       NaN       NaN       NaN       NaN   \n",
      "2   NaN  16:00:24  15:06:38  ...  13:01:55  13:01:57  13:12:00  13:12:02   \n",
      "3   NaN  18:03:31  16:23:10  ...       NaN       NaN       NaN       NaN   \n",
      "4   NaN  10:04:03  10:02:40  ...       NaN       NaN       NaN       NaN   \n",
      "..   ..       ...       ...  ...       ...       ...       ...       ...   \n",
      "111 NaN  08:35:50  08:35:46  ...       NaN       NaN       NaN       NaN   \n",
      "112 NaN  10:09:25  10:09:23  ...       NaN       NaN       NaN       NaN   \n",
      "113 NaN  10:04:06  10:04:08  ...       NaN       NaN       NaN       NaN   \n",
      "114 NaN  10:00:11  11:00:33  ...       NaN       NaN       NaN       NaN   \n",
      "115 NaN  10:02:09  08:54:06  ...       NaN       NaN       NaN       NaN   \n",
      "\n",
      "1         NaN       NaN       NaN       NaN       NaN       NaN  \n",
      "0         NaN       NaN       NaN       NaN       NaN       NaN  \n",
      "1         NaN       NaN       NaN       NaN       NaN       NaN  \n",
      "2    13:11:57  13:12:04  14:04:27  14:04:29  14:04:31  14:04:33  \n",
      "3         NaN       NaN       NaN       NaN       NaN       NaN  \n",
      "4         NaN       NaN       NaN       NaN       NaN       NaN  \n",
      "..        ...       ...       ...       ...       ...       ...  \n",
      "111       NaN       NaN       NaN       NaN       NaN       NaN  \n",
      "112       NaN       NaN       NaN       NaN       NaN       NaN  \n",
      "113       NaN       NaN       NaN       NaN       NaN       NaN  \n",
      "114       NaN       NaN       NaN       NaN       NaN       NaN  \n",
      "115       NaN       NaN       NaN       NaN       NaN       NaN  \n",
      "\n",
      "[116 rows x 53 columns]\n"
     ]
    }
   ],
   "source": [
    "# Definir la segunda fila como el encabezado\n",
    "datos.columns = datos.iloc[0]\n",
    "\n",
    "# Eliminar la segunda fila del DataFrame\n",
    "datos = datos.drop(datos.index[0])\n",
    "\n",
    "# Reiniciar el índice del DataFrame\n",
    "datos = datos.reset_index(drop=True)\n",
    "# Imprimir el DataFrame con el nuevo encabezado\n",
    "print(datos)"
   ],
   "metadata": {
    "collapsed": false,
    "ExecuteTime": {
     "end_time": "2024-03-05T05:11:38.729469Z",
     "start_time": "2024-03-05T05:11:38.710554Z"
    }
   }
  },
  {
   "cell_type": "code",
   "execution_count": 33,
   "outputs": [
    {
     "name": "stdout",
     "output_type": "stream",
     "text": [
      "Valores faltantes por columna:\n",
      "1\n",
      "ID de Empleado            0\n",
      "Nombre                    0\n",
      "Apellido                  0\n",
      "Departamento              0\n",
      "Fecha                     0\n",
      "Cantidad de Checadas      0\n",
      "Hora                      0\n",
      "NaN                     115\n",
      "NaN                     115\n",
      "NaN                     115\n",
      "NaN                     115\n",
      "NaN                     115\n",
      "NaN                     115\n",
      "NaN                     115\n",
      "NaN                     115\n",
      "NaN                     115\n",
      "NaN                     115\n",
      "NaN                     115\n",
      "NaN                     115\n",
      "NaN                     115\n",
      "NaN                     115\n",
      "NaN                     115\n",
      "NaN                     115\n",
      "NaN                     115\n",
      "NaN                     115\n",
      "NaN                     115\n",
      "NaN                     115\n",
      "NaN                     115\n",
      "NaN                     115\n",
      "NaN                     115\n",
      "NaN                     115\n",
      "NaN                     115\n",
      "NaN                     115\n",
      "NaN                     115\n",
      "NaN                     115\n",
      "NaN                     115\n",
      "NaN                     115\n",
      "NaN                     115\n",
      "NaN                     115\n",
      "NaN                     115\n",
      "NaN                     115\n",
      "NaN                     115\n",
      "dtype: int64\n"
     ]
    }
   ],
   "source": [
    "# Identificar los valores faltantes (NA)\n",
    "valores_faltantes = datos.isna().sum()\n",
    "\n",
    "# Mostrar los valores faltantes\n",
    "print(\"Valores faltantes por columna:\")\n",
    "print(valores_faltantes)"
   ],
   "metadata": {
    "collapsed": false,
    "ExecuteTime": {
     "end_time": "2024-03-05T03:43:09.981603Z",
     "start_time": "2024-03-05T03:43:09.938801Z"
    }
   }
  },
  {
   "cell_type": "code",
   "execution_count": 27,
   "outputs": [
    {
     "name": "stdout",
     "output_type": "stream",
     "text": [
      "RangeIndex(start=1, stop=118, step=1)\n"
     ]
    }
   ],
   "source": [
    "print(datos.index)"
   ],
   "metadata": {
    "collapsed": false,
    "ExecuteTime": {
     "end_time": "2024-03-05T03:35:16.235896Z",
     "start_time": "2024-03-05T03:35:16.208562Z"
    }
   }
  },
  {
   "cell_type": "code",
   "execution_count": 93,
   "outputs": [
    {
     "data": {
      "text/plain": "1   ID de Empleado Nombre Apellido Departamento       Fecha  \\\n0            R-880    AAA  SEGUNDO    MANGUERAS  01-08-2023   \n1            R-880    AAA  SEGUNDO    MANGUERAS  02-08-2023   \n2            R-880    AAA  SEGUNDO    MANGUERAS  03-08-2023   \n3            R-880    AAA  SEGUNDO    MANGUERAS  04-08-2023   \n4            R-880    AAA  SEGUNDO    MANGUERAS  07-08-2023   \n..             ...    ...      ...          ...         ...   \n111         P-4699    AAA     RILH        ADMON  02-08-2023   \n112         P-4699    AAA     RILH        ADMON  07-08-2023   \n113         P-4699    AAA     RILH        ADMON  08-08-2023   \n114         P-4699    AAA     RILH        ADMON  09-08-2023   \n115         P-4699    AAA     RILH        ADMON  14-08-2023   \n\n1   Cantidad de Checadas                                               Hora  \\\n0                     36  10:05:06,10:05:08,10:05:10,08:57:37,18:20:28,1...   \n1                     33  17:30:01,14:11:32,18:09:19,12:02:07,10:07:24,1...   \n2                     45  16:00:24,15:06:38,15:08:15,15:08:17,16:00:20,1...   \n3                     16  18:03:31,16:23:10,18:03:29,18:04:09,15:05:06,1...   \n4                     23  10:04:03,10:02:40,14:08:31,14:06:38,10:02:38,0...   \n..                   ...                                                ...   \n111                    8  08:35:50,08:35:46,11:00:57,10:08:27,10:08:29,1...   \n112                    6  10:09:25,10:09:23,14:00:57,09:09:38,09:09:36,1...   \n113                    8  10:04:06,10:04:08,14:00:14,12:01:27,12:01:29,1...   \n114                    6  10:00:11,11:00:33,10:00:13,09:22:01,11:00:35,0...   \n115                    8  10:02:09,08:54:06,12:00:03,14:02:43,08:54:08,1...   \n\n1   NaN      Hora       NaN  ...       NaN       NaN       NaN       NaN  \\\n0   NaN  10:05:06  10:05:08  ...  08:57:39       NaN       NaN       NaN   \n1   NaN  17:30:01  14:11:32  ...       NaN       NaN       NaN       NaN   \n2   NaN  16:00:24  15:06:38  ...  13:01:55  13:01:57  13:12:00  13:12:02   \n3   NaN  18:03:31  16:23:10  ...       NaN       NaN       NaN       NaN   \n4   NaN  10:04:03  10:02:40  ...       NaN       NaN       NaN       NaN   \n..   ..       ...       ...  ...       ...       ...       ...       ...   \n111 NaN  08:35:50  08:35:46  ...       NaN       NaN       NaN       NaN   \n112 NaN  10:09:25  10:09:23  ...       NaN       NaN       NaN       NaN   \n113 NaN  10:04:06  10:04:08  ...       NaN       NaN       NaN       NaN   \n114 NaN  10:00:11  11:00:33  ...       NaN       NaN       NaN       NaN   \n115 NaN  10:02:09  08:54:06  ...       NaN       NaN       NaN       NaN   \n\n1         NaN       NaN       NaN       NaN       NaN       NaN  \n0         NaN       NaN       NaN       NaN       NaN       NaN  \n1         NaN       NaN       NaN       NaN       NaN       NaN  \n2    13:11:57  13:12:04  14:04:27  14:04:29  14:04:31  14:04:33  \n3         NaN       NaN       NaN       NaN       NaN       NaN  \n4         NaN       NaN       NaN       NaN       NaN       NaN  \n..        ...       ...       ...       ...       ...       ...  \n111       NaN       NaN       NaN       NaN       NaN       NaN  \n112       NaN       NaN       NaN       NaN       NaN       NaN  \n113       NaN       NaN       NaN       NaN       NaN       NaN  \n114       NaN       NaN       NaN       NaN       NaN       NaN  \n115       NaN       NaN       NaN       NaN       NaN       NaN  \n\n[116 rows x 53 columns]",
      "text/html": "<div>\n<style scoped>\n    .dataframe tbody tr th:only-of-type {\n        vertical-align: middle;\n    }\n\n    .dataframe tbody tr th {\n        vertical-align: top;\n    }\n\n    .dataframe thead th {\n        text-align: right;\n    }\n</style>\n<table border=\"1\" class=\"dataframe\">\n  <thead>\n    <tr style=\"text-align: right;\">\n      <th>1</th>\n      <th>ID de Empleado</th>\n      <th>Nombre</th>\n      <th>Apellido</th>\n      <th>Departamento</th>\n      <th>Fecha</th>\n      <th>Cantidad de Checadas</th>\n      <th>Hora</th>\n      <th>NaN</th>\n      <th>Hora</th>\n      <th>NaN</th>\n      <th>...</th>\n      <th>NaN</th>\n      <th>NaN</th>\n      <th>NaN</th>\n      <th>NaN</th>\n      <th>NaN</th>\n      <th>NaN</th>\n      <th>NaN</th>\n      <th>NaN</th>\n      <th>NaN</th>\n      <th>NaN</th>\n    </tr>\n  </thead>\n  <tbody>\n    <tr>\n      <th>0</th>\n      <td>R-880</td>\n      <td>AAA</td>\n      <td>SEGUNDO</td>\n      <td>MANGUERAS</td>\n      <td>01-08-2023</td>\n      <td>36</td>\n      <td>10:05:06,10:05:08,10:05:10,08:57:37,18:20:28,1...</td>\n      <td>NaN</td>\n      <td>10:05:06</td>\n      <td>10:05:08</td>\n      <td>...</td>\n      <td>08:57:39</td>\n      <td>NaN</td>\n      <td>NaN</td>\n      <td>NaN</td>\n      <td>NaN</td>\n      <td>NaN</td>\n      <td>NaN</td>\n      <td>NaN</td>\n      <td>NaN</td>\n      <td>NaN</td>\n    </tr>\n    <tr>\n      <th>1</th>\n      <td>R-880</td>\n      <td>AAA</td>\n      <td>SEGUNDO</td>\n      <td>MANGUERAS</td>\n      <td>02-08-2023</td>\n      <td>33</td>\n      <td>17:30:01,14:11:32,18:09:19,12:02:07,10:07:24,1...</td>\n      <td>NaN</td>\n      <td>17:30:01</td>\n      <td>14:11:32</td>\n      <td>...</td>\n      <td>NaN</td>\n      <td>NaN</td>\n      <td>NaN</td>\n      <td>NaN</td>\n      <td>NaN</td>\n      <td>NaN</td>\n      <td>NaN</td>\n      <td>NaN</td>\n      <td>NaN</td>\n      <td>NaN</td>\n    </tr>\n    <tr>\n      <th>2</th>\n      <td>R-880</td>\n      <td>AAA</td>\n      <td>SEGUNDO</td>\n      <td>MANGUERAS</td>\n      <td>03-08-2023</td>\n      <td>45</td>\n      <td>16:00:24,15:06:38,15:08:15,15:08:17,16:00:20,1...</td>\n      <td>NaN</td>\n      <td>16:00:24</td>\n      <td>15:06:38</td>\n      <td>...</td>\n      <td>13:01:55</td>\n      <td>13:01:57</td>\n      <td>13:12:00</td>\n      <td>13:12:02</td>\n      <td>13:11:57</td>\n      <td>13:12:04</td>\n      <td>14:04:27</td>\n      <td>14:04:29</td>\n      <td>14:04:31</td>\n      <td>14:04:33</td>\n    </tr>\n    <tr>\n      <th>3</th>\n      <td>R-880</td>\n      <td>AAA</td>\n      <td>SEGUNDO</td>\n      <td>MANGUERAS</td>\n      <td>04-08-2023</td>\n      <td>16</td>\n      <td>18:03:31,16:23:10,18:03:29,18:04:09,15:05:06,1...</td>\n      <td>NaN</td>\n      <td>18:03:31</td>\n      <td>16:23:10</td>\n      <td>...</td>\n      <td>NaN</td>\n      <td>NaN</td>\n      <td>NaN</td>\n      <td>NaN</td>\n      <td>NaN</td>\n      <td>NaN</td>\n      <td>NaN</td>\n      <td>NaN</td>\n      <td>NaN</td>\n      <td>NaN</td>\n    </tr>\n    <tr>\n      <th>4</th>\n      <td>R-880</td>\n      <td>AAA</td>\n      <td>SEGUNDO</td>\n      <td>MANGUERAS</td>\n      <td>07-08-2023</td>\n      <td>23</td>\n      <td>10:04:03,10:02:40,14:08:31,14:06:38,10:02:38,0...</td>\n      <td>NaN</td>\n      <td>10:04:03</td>\n      <td>10:02:40</td>\n      <td>...</td>\n      <td>NaN</td>\n      <td>NaN</td>\n      <td>NaN</td>\n      <td>NaN</td>\n      <td>NaN</td>\n      <td>NaN</td>\n      <td>NaN</td>\n      <td>NaN</td>\n      <td>NaN</td>\n      <td>NaN</td>\n    </tr>\n    <tr>\n      <th>...</th>\n      <td>...</td>\n      <td>...</td>\n      <td>...</td>\n      <td>...</td>\n      <td>...</td>\n      <td>...</td>\n      <td>...</td>\n      <td>...</td>\n      <td>...</td>\n      <td>...</td>\n      <td>...</td>\n      <td>...</td>\n      <td>...</td>\n      <td>...</td>\n      <td>...</td>\n      <td>...</td>\n      <td>...</td>\n      <td>...</td>\n      <td>...</td>\n      <td>...</td>\n      <td>...</td>\n    </tr>\n    <tr>\n      <th>111</th>\n      <td>P-4699</td>\n      <td>AAA</td>\n      <td>RILH</td>\n      <td>ADMON</td>\n      <td>02-08-2023</td>\n      <td>8</td>\n      <td>08:35:50,08:35:46,11:00:57,10:08:27,10:08:29,1...</td>\n      <td>NaN</td>\n      <td>08:35:50</td>\n      <td>08:35:46</td>\n      <td>...</td>\n      <td>NaN</td>\n      <td>NaN</td>\n      <td>NaN</td>\n      <td>NaN</td>\n      <td>NaN</td>\n      <td>NaN</td>\n      <td>NaN</td>\n      <td>NaN</td>\n      <td>NaN</td>\n      <td>NaN</td>\n    </tr>\n    <tr>\n      <th>112</th>\n      <td>P-4699</td>\n      <td>AAA</td>\n      <td>RILH</td>\n      <td>ADMON</td>\n      <td>07-08-2023</td>\n      <td>6</td>\n      <td>10:09:25,10:09:23,14:00:57,09:09:38,09:09:36,1...</td>\n      <td>NaN</td>\n      <td>10:09:25</td>\n      <td>10:09:23</td>\n      <td>...</td>\n      <td>NaN</td>\n      <td>NaN</td>\n      <td>NaN</td>\n      <td>NaN</td>\n      <td>NaN</td>\n      <td>NaN</td>\n      <td>NaN</td>\n      <td>NaN</td>\n      <td>NaN</td>\n      <td>NaN</td>\n    </tr>\n    <tr>\n      <th>113</th>\n      <td>P-4699</td>\n      <td>AAA</td>\n      <td>RILH</td>\n      <td>ADMON</td>\n      <td>08-08-2023</td>\n      <td>8</td>\n      <td>10:04:06,10:04:08,14:00:14,12:01:27,12:01:29,1...</td>\n      <td>NaN</td>\n      <td>10:04:06</td>\n      <td>10:04:08</td>\n      <td>...</td>\n      <td>NaN</td>\n      <td>NaN</td>\n      <td>NaN</td>\n      <td>NaN</td>\n      <td>NaN</td>\n      <td>NaN</td>\n      <td>NaN</td>\n      <td>NaN</td>\n      <td>NaN</td>\n      <td>NaN</td>\n    </tr>\n    <tr>\n      <th>114</th>\n      <td>P-4699</td>\n      <td>AAA</td>\n      <td>RILH</td>\n      <td>ADMON</td>\n      <td>09-08-2023</td>\n      <td>6</td>\n      <td>10:00:11,11:00:33,10:00:13,09:22:01,11:00:35,0...</td>\n      <td>NaN</td>\n      <td>10:00:11</td>\n      <td>11:00:33</td>\n      <td>...</td>\n      <td>NaN</td>\n      <td>NaN</td>\n      <td>NaN</td>\n      <td>NaN</td>\n      <td>NaN</td>\n      <td>NaN</td>\n      <td>NaN</td>\n      <td>NaN</td>\n      <td>NaN</td>\n      <td>NaN</td>\n    </tr>\n    <tr>\n      <th>115</th>\n      <td>P-4699</td>\n      <td>AAA</td>\n      <td>RILH</td>\n      <td>ADMON</td>\n      <td>14-08-2023</td>\n      <td>8</td>\n      <td>10:02:09,08:54:06,12:00:03,14:02:43,08:54:08,1...</td>\n      <td>NaN</td>\n      <td>10:02:09</td>\n      <td>08:54:06</td>\n      <td>...</td>\n      <td>NaN</td>\n      <td>NaN</td>\n      <td>NaN</td>\n      <td>NaN</td>\n      <td>NaN</td>\n      <td>NaN</td>\n      <td>NaN</td>\n      <td>NaN</td>\n      <td>NaN</td>\n      <td>NaN</td>\n    </tr>\n  </tbody>\n</table>\n<p>116 rows × 53 columns</p>\n</div>"
     },
     "execution_count": 93,
     "metadata": {},
     "output_type": "execute_result"
    }
   ],
   "source": [
    "datos"
   ],
   "metadata": {
    "collapsed": false,
    "ExecuteTime": {
     "end_time": "2024-03-05T05:12:31.466775Z",
     "start_time": "2024-03-05T05:12:31.441860Z"
    }
   }
  },
  {
   "cell_type": "code",
   "execution_count": 94,
   "outputs": [
    {
     "name": "stdout",
     "output_type": "stream",
     "text": [
      "ID de Empleado\n",
      "0\n"
     ]
    }
   ],
   "source": [
    "print(datos.columns[0])\n",
    "print(datos.index[0])"
   ],
   "metadata": {
    "collapsed": false,
    "ExecuteTime": {
     "end_time": "2024-03-05T05:13:14.604243Z",
     "start_time": "2024-03-05T05:13:14.594411Z"
    }
   }
  },
  {
   "cell_type": "code",
   "execution_count": null,
   "outputs": [],
   "source": [],
   "metadata": {
    "collapsed": false
   }
  }
 ],
 "metadata": {
  "kernelspec": {
   "display_name": "Python 3",
   "language": "python",
   "name": "python3"
  },
  "language_info": {
   "codemirror_mode": {
    "name": "ipython",
    "version": 2
   },
   "file_extension": ".py",
   "mimetype": "text/x-python",
   "name": "python",
   "nbconvert_exporter": "python",
   "pygments_lexer": "ipython2",
   "version": "2.7.6"
  }
 },
 "nbformat": 4,
 "nbformat_minor": 0
}
